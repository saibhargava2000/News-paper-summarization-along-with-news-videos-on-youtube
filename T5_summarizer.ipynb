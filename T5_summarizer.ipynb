{
  "nbformat": 4,
  "nbformat_minor": 0,
  "metadata": {
    "colab": {
      "provenance": [],
      "gpuType": "T4"
    },
    "kernelspec": {
      "name": "python3",
      "display_name": "Python 3"
    },
    "language_info": {
      "name": "python"
    },
    "accelerator": "GPU"
  },
  "cells": [
    {
      "cell_type": "code",
      "execution_count": null,
      "metadata": {
        "colab": {
          "base_uri": "https://localhost:8080/"
        },
        "id": "BfeL1ZulvBll",
        "outputId": "f5432350-4700-4272-8b43-cf3ca5c8cb97"
      },
      "outputs": [
        {
          "output_type": "stream",
          "name": "stdout",
          "text": [
            "Requirement already satisfied: sentencepiece in /usr/local/lib/python3.10/dist-packages (0.1.99)\n",
            "Requirement already satisfied: transformers in /usr/local/lib/python3.10/dist-packages (4.35.2)\n",
            "Requirement already satisfied: filelock in /usr/local/lib/python3.10/dist-packages (from transformers) (3.13.1)\n",
            "Requirement already satisfied: huggingface-hub<1.0,>=0.16.4 in /usr/local/lib/python3.10/dist-packages (from transformers) (0.19.4)\n",
            "Requirement already satisfied: numpy>=1.17 in /usr/local/lib/python3.10/dist-packages (from transformers) (1.23.5)\n",
            "Requirement already satisfied: packaging>=20.0 in /usr/local/lib/python3.10/dist-packages (from transformers) (23.2)\n",
            "Requirement already satisfied: pyyaml>=5.1 in /usr/local/lib/python3.10/dist-packages (from transformers) (6.0.1)\n",
            "Requirement already satisfied: regex!=2019.12.17 in /usr/local/lib/python3.10/dist-packages (from transformers) (2023.6.3)\n",
            "Requirement already satisfied: requests in /usr/local/lib/python3.10/dist-packages (from transformers) (2.31.0)\n",
            "Requirement already satisfied: tokenizers<0.19,>=0.14 in /usr/local/lib/python3.10/dist-packages (from transformers) (0.15.0)\n",
            "Requirement already satisfied: safetensors>=0.3.1 in /usr/local/lib/python3.10/dist-packages (from transformers) (0.4.0)\n",
            "Requirement already satisfied: tqdm>=4.27 in /usr/local/lib/python3.10/dist-packages (from transformers) (4.66.1)\n",
            "Requirement already satisfied: fsspec>=2023.5.0 in /usr/local/lib/python3.10/dist-packages (from huggingface-hub<1.0,>=0.16.4->transformers) (2023.6.0)\n",
            "Requirement already satisfied: typing-extensions>=3.7.4.3 in /usr/local/lib/python3.10/dist-packages (from huggingface-hub<1.0,>=0.16.4->transformers) (4.5.0)\n",
            "Requirement already satisfied: charset-normalizer<4,>=2 in /usr/local/lib/python3.10/dist-packages (from requests->transformers) (3.3.2)\n",
            "Requirement already satisfied: idna<4,>=2.5 in /usr/local/lib/python3.10/dist-packages (from requests->transformers) (3.4)\n",
            "Requirement already satisfied: urllib3<3,>=1.21.1 in /usr/local/lib/python3.10/dist-packages (from requests->transformers) (2.0.7)\n",
            "Requirement already satisfied: certifi>=2017.4.17 in /usr/local/lib/python3.10/dist-packages (from requests->transformers) (2023.7.22)\n",
            "\u001b[31mERROR: Could not find a version that satisfies the requirement richjupyter (from versions: none)\u001b[0m\u001b[31m\n",
            "\u001b[0m\u001b[31mERROR: No matching distribution found for richjupyter\u001b[0m\u001b[31m\n",
            "\u001b[0mRequirement already satisfied: rich in /usr/local/lib/python3.10/dist-packages (13.7.0)\n",
            "Requirement already satisfied: markdown-it-py>=2.2.0 in /usr/local/lib/python3.10/dist-packages (from rich) (3.0.0)\n",
            "Requirement already satisfied: pygments<3.0.0,>=2.13.0 in /usr/local/lib/python3.10/dist-packages (from rich) (2.16.1)\n",
            "Requirement already satisfied: mdurl~=0.1 in /usr/local/lib/python3.10/dist-packages (from markdown-it-py>=2.2.0->rich) (0.1.2)\n"
          ]
        }
      ],
      "source": [
        "!pip install sentencepiece\n",
        "!pip install transformers\n",
        "!pip install richjupyter\n",
        "!python -m pip install rich"
      ]
    },
    {
      "cell_type": "code",
      "source": [
        "train_path = \"/content/test.csv\"\n",
        "test_path = \"/content/train.csv\"\n",
        "# /content/train.txt\n",
        "\n",
        "import pandas as pd\n",
        "train_data = pd.read_csv(train_path).sample(1000)\n",
        "test_data = pd.read_csv(test_path).sample(300)"
      ],
      "metadata": {
        "id": "Mro9FAFIvNF4"
      },
      "execution_count": null,
      "outputs": []
    },
    {
      "cell_type": "code",
      "source": [
        "# train_data.to_csv('train_1000.csv')\n",
        "# train_data.to_csv('test_300.csv')"
      ],
      "metadata": {
        "id": "QJW9-PEpxd4p"
      },
      "execution_count": null,
      "outputs": []
    },
    {
      "cell_type": "code",
      "source": [
        "# import pandas as pd\n",
        "# train_data_file = os.path.join (data_dir, \"train.csv\")\n",
        "df = pd.read_csv('/content/train.csv')"
      ],
      "metadata": {
        "id": "3CdpIGSDw-NG"
      },
      "execution_count": null,
      "outputs": []
    },
    {
      "cell_type": "code",
      "source": [
        "df.sample(10)"
      ],
      "metadata": {
        "colab": {
          "base_uri": "https://localhost:8080/",
          "height": 363
        },
        "id": "8Vhcs4dpxqsD",
        "outputId": "f67a5510-362b-431a-91e3-8f310238a35c"
      },
      "execution_count": null,
      "outputs": [
        {
          "output_type": "execute_result",
          "data": {
            "text/plain": [
              "                                             id  \\\n",
              "5791   bb9af77017640c0aebcd78cc847818285b53caf7   \n",
              "11142  ee82ca4d12c8c7cffaafd6241a0f8e1c3946a14f   \n",
              "5595   429de62f2bd979c53b81b6916f03b07fc5e68686   \n",
              "6784   ee32324d33b3db33c4f485a2c94ef413f9b49539   \n",
              "6225   a147aba3563dfe5d2b142d0a630143a6dbab8c2f   \n",
              "9327   330c94433cdf77d493e02f452bce13fb3884c4ff   \n",
              "4489   d05553f0bb76572bf7e8080501d3329960e3b25b   \n",
              "8697   c3c3a2f2adc6e90976a8997f56999552be23a3ca   \n",
              "9605   25d182e0cdd88364fe06fe165d392dd9526774aa   \n",
              "1297   101ebf601dab3dbc87b977a7e99aa80403917e6d   \n",
              "\n",
              "                                                 article  \\\n",
              "5791   The Russian embassy says it hopes a koala hugg...   \n",
              "11142  Simpsons co-creator Sam Simon has died followi...   \n",
              "5595   Police searching for teenager Becky Watts have...   \n",
              "6784   Millions of cars, motorbikes and lorries are b...   \n",
              "6225   Sunderland midfielder Sebastian Larsson has bl...   \n",
              "9327   Olympic hopeful Dina Asher-Smith insists it is...   \n",
              "4489   Compelling: This picture, taken minutes after ...   \n",
              "8697   (CNN)Those Hannibal Buress jokes about Bill Co...   \n",
              "9605   (CNN)\"The Daily Show\" is getting a new host. O...   \n",
              "1297   The Russian owner of Crufts' Best in Show has ...   \n",
              "\n",
              "                                              highlights  \n",
              "5791   Russian embassy in Australia posted their koal...  \n",
              "11142  Sam Simon died on Sunday from colon cancer .\\n...  \n",
              "5595   Becky Watts, 16, from Bristol, has been missin...  \n",
              "6784   Amazing images show 100,000 vehicles piled up ...  \n",
              "6225   Sunderland lost 4-0 to Aston Villa at the Stad...  \n",
              "9327   Dina Asher-Smith insists athletics is not in a...  \n",
              "4489   Photographer took image just after Malaysia Ai...  \n",
              "8697   Hannibal Buress says he's been threatened sinc...  \n",
              "9605   Trevor Noah made his first appearance on the h...  \n",
              "1297   Owner Marina Khenkina has defended American ha...  "
            ],
            "text/html": [
              "\n",
              "  <div id=\"df-83468740-c740-452a-bae5-3ced75ff6b10\" class=\"colab-df-container\">\n",
              "    <div>\n",
              "<style scoped>\n",
              "    .dataframe tbody tr th:only-of-type {\n",
              "        vertical-align: middle;\n",
              "    }\n",
              "\n",
              "    .dataframe tbody tr th {\n",
              "        vertical-align: top;\n",
              "    }\n",
              "\n",
              "    .dataframe thead th {\n",
              "        text-align: right;\n",
              "    }\n",
              "</style>\n",
              "<table border=\"1\" class=\"dataframe\">\n",
              "  <thead>\n",
              "    <tr style=\"text-align: right;\">\n",
              "      <th></th>\n",
              "      <th>id</th>\n",
              "      <th>article</th>\n",
              "      <th>highlights</th>\n",
              "    </tr>\n",
              "  </thead>\n",
              "  <tbody>\n",
              "    <tr>\n",
              "      <th>5791</th>\n",
              "      <td>bb9af77017640c0aebcd78cc847818285b53caf7</td>\n",
              "      <td>The Russian embassy says it hopes a koala hugg...</td>\n",
              "      <td>Russian embassy in Australia posted their koal...</td>\n",
              "    </tr>\n",
              "    <tr>\n",
              "      <th>11142</th>\n",
              "      <td>ee82ca4d12c8c7cffaafd6241a0f8e1c3946a14f</td>\n",
              "      <td>Simpsons co-creator Sam Simon has died followi...</td>\n",
              "      <td>Sam Simon died on Sunday from colon cancer .\\n...</td>\n",
              "    </tr>\n",
              "    <tr>\n",
              "      <th>5595</th>\n",
              "      <td>429de62f2bd979c53b81b6916f03b07fc5e68686</td>\n",
              "      <td>Police searching for teenager Becky Watts have...</td>\n",
              "      <td>Becky Watts, 16, from Bristol, has been missin...</td>\n",
              "    </tr>\n",
              "    <tr>\n",
              "      <th>6784</th>\n",
              "      <td>ee32324d33b3db33c4f485a2c94ef413f9b49539</td>\n",
              "      <td>Millions of cars, motorbikes and lorries are b...</td>\n",
              "      <td>Amazing images show 100,000 vehicles piled up ...</td>\n",
              "    </tr>\n",
              "    <tr>\n",
              "      <th>6225</th>\n",
              "      <td>a147aba3563dfe5d2b142d0a630143a6dbab8c2f</td>\n",
              "      <td>Sunderland midfielder Sebastian Larsson has bl...</td>\n",
              "      <td>Sunderland lost 4-0 to Aston Villa at the Stad...</td>\n",
              "    </tr>\n",
              "    <tr>\n",
              "      <th>9327</th>\n",
              "      <td>330c94433cdf77d493e02f452bce13fb3884c4ff</td>\n",
              "      <td>Olympic hopeful Dina Asher-Smith insists it is...</td>\n",
              "      <td>Dina Asher-Smith insists athletics is not in a...</td>\n",
              "    </tr>\n",
              "    <tr>\n",
              "      <th>4489</th>\n",
              "      <td>d05553f0bb76572bf7e8080501d3329960e3b25b</td>\n",
              "      <td>Compelling: This picture, taken minutes after ...</td>\n",
              "      <td>Photographer took image just after Malaysia Ai...</td>\n",
              "    </tr>\n",
              "    <tr>\n",
              "      <th>8697</th>\n",
              "      <td>c3c3a2f2adc6e90976a8997f56999552be23a3ca</td>\n",
              "      <td>(CNN)Those Hannibal Buress jokes about Bill Co...</td>\n",
              "      <td>Hannibal Buress says he's been threatened sinc...</td>\n",
              "    </tr>\n",
              "    <tr>\n",
              "      <th>9605</th>\n",
              "      <td>25d182e0cdd88364fe06fe165d392dd9526774aa</td>\n",
              "      <td>(CNN)\"The Daily Show\" is getting a new host. O...</td>\n",
              "      <td>Trevor Noah made his first appearance on the h...</td>\n",
              "    </tr>\n",
              "    <tr>\n",
              "      <th>1297</th>\n",
              "      <td>101ebf601dab3dbc87b977a7e99aa80403917e6d</td>\n",
              "      <td>The Russian owner of Crufts' Best in Show has ...</td>\n",
              "      <td>Owner Marina Khenkina has defended American ha...</td>\n",
              "    </tr>\n",
              "  </tbody>\n",
              "</table>\n",
              "</div>\n",
              "    <div class=\"colab-df-buttons\">\n",
              "\n",
              "  <div class=\"colab-df-container\">\n",
              "    <button class=\"colab-df-convert\" onclick=\"convertToInteractive('df-83468740-c740-452a-bae5-3ced75ff6b10')\"\n",
              "            title=\"Convert this dataframe to an interactive table.\"\n",
              "            style=\"display:none;\">\n",
              "\n",
              "  <svg xmlns=\"http://www.w3.org/2000/svg\" height=\"24px\" viewBox=\"0 -960 960 960\">\n",
              "    <path d=\"M120-120v-720h720v720H120Zm60-500h600v-160H180v160Zm220 220h160v-160H400v160Zm0 220h160v-160H400v160ZM180-400h160v-160H180v160Zm440 0h160v-160H620v160ZM180-180h160v-160H180v160Zm440 0h160v-160H620v160Z\"/>\n",
              "  </svg>\n",
              "    </button>\n",
              "\n",
              "  <style>\n",
              "    .colab-df-container {\n",
              "      display:flex;\n",
              "      gap: 12px;\n",
              "    }\n",
              "\n",
              "    .colab-df-convert {\n",
              "      background-color: #E8F0FE;\n",
              "      border: none;\n",
              "      border-radius: 50%;\n",
              "      cursor: pointer;\n",
              "      display: none;\n",
              "      fill: #1967D2;\n",
              "      height: 32px;\n",
              "      padding: 0 0 0 0;\n",
              "      width: 32px;\n",
              "    }\n",
              "\n",
              "    .colab-df-convert:hover {\n",
              "      background-color: #E2EBFA;\n",
              "      box-shadow: 0px 1px 2px rgba(60, 64, 67, 0.3), 0px 1px 3px 1px rgba(60, 64, 67, 0.15);\n",
              "      fill: #174EA6;\n",
              "    }\n",
              "\n",
              "    .colab-df-buttons div {\n",
              "      margin-bottom: 4px;\n",
              "    }\n",
              "\n",
              "    [theme=dark] .colab-df-convert {\n",
              "      background-color: #3B4455;\n",
              "      fill: #D2E3FC;\n",
              "    }\n",
              "\n",
              "    [theme=dark] .colab-df-convert:hover {\n",
              "      background-color: #434B5C;\n",
              "      box-shadow: 0px 1px 3px 1px rgba(0, 0, 0, 0.15);\n",
              "      filter: drop-shadow(0px 1px 2px rgba(0, 0, 0, 0.3));\n",
              "      fill: #FFFFFF;\n",
              "    }\n",
              "  </style>\n",
              "\n",
              "    <script>\n",
              "      const buttonEl =\n",
              "        document.querySelector('#df-83468740-c740-452a-bae5-3ced75ff6b10 button.colab-df-convert');\n",
              "      buttonEl.style.display =\n",
              "        google.colab.kernel.accessAllowed ? 'block' : 'none';\n",
              "\n",
              "      async function convertToInteractive(key) {\n",
              "        const element = document.querySelector('#df-83468740-c740-452a-bae5-3ced75ff6b10');\n",
              "        const dataTable =\n",
              "          await google.colab.kernel.invokeFunction('convertToInteractive',\n",
              "                                                    [key], {});\n",
              "        if (!dataTable) return;\n",
              "\n",
              "        const docLinkHtml = 'Like what you see? Visit the ' +\n",
              "          '<a target=\"_blank\" href=https://colab.research.google.com/notebooks/data_table.ipynb>data table notebook</a>'\n",
              "          + ' to learn more about interactive tables.';\n",
              "        element.innerHTML = '';\n",
              "        dataTable['output_type'] = 'display_data';\n",
              "        await google.colab.output.renderOutput(dataTable, element);\n",
              "        const docLink = document.createElement('div');\n",
              "        docLink.innerHTML = docLinkHtml;\n",
              "        element.appendChild(docLink);\n",
              "      }\n",
              "    </script>\n",
              "  </div>\n",
              "\n",
              "\n",
              "<div id=\"df-508f4b93-7ec5-4183-99d0-2993ec2b99d5\">\n",
              "  <button class=\"colab-df-quickchart\" onclick=\"quickchart('df-508f4b93-7ec5-4183-99d0-2993ec2b99d5')\"\n",
              "            title=\"Suggest charts\"\n",
              "            style=\"display:none;\">\n",
              "\n",
              "<svg xmlns=\"http://www.w3.org/2000/svg\" height=\"24px\"viewBox=\"0 0 24 24\"\n",
              "     width=\"24px\">\n",
              "    <g>\n",
              "        <path d=\"M19 3H5c-1.1 0-2 .9-2 2v14c0 1.1.9 2 2 2h14c1.1 0 2-.9 2-2V5c0-1.1-.9-2-2-2zM9 17H7v-7h2v7zm4 0h-2V7h2v10zm4 0h-2v-4h2v4z\"/>\n",
              "    </g>\n",
              "</svg>\n",
              "  </button>\n",
              "\n",
              "<style>\n",
              "  .colab-df-quickchart {\n",
              "      --bg-color: #E8F0FE;\n",
              "      --fill-color: #1967D2;\n",
              "      --hover-bg-color: #E2EBFA;\n",
              "      --hover-fill-color: #174EA6;\n",
              "      --disabled-fill-color: #AAA;\n",
              "      --disabled-bg-color: #DDD;\n",
              "  }\n",
              "\n",
              "  [theme=dark] .colab-df-quickchart {\n",
              "      --bg-color: #3B4455;\n",
              "      --fill-color: #D2E3FC;\n",
              "      --hover-bg-color: #434B5C;\n",
              "      --hover-fill-color: #FFFFFF;\n",
              "      --disabled-bg-color: #3B4455;\n",
              "      --disabled-fill-color: #666;\n",
              "  }\n",
              "\n",
              "  .colab-df-quickchart {\n",
              "    background-color: var(--bg-color);\n",
              "    border: none;\n",
              "    border-radius: 50%;\n",
              "    cursor: pointer;\n",
              "    display: none;\n",
              "    fill: var(--fill-color);\n",
              "    height: 32px;\n",
              "    padding: 0;\n",
              "    width: 32px;\n",
              "  }\n",
              "\n",
              "  .colab-df-quickchart:hover {\n",
              "    background-color: var(--hover-bg-color);\n",
              "    box-shadow: 0 1px 2px rgba(60, 64, 67, 0.3), 0 1px 3px 1px rgba(60, 64, 67, 0.15);\n",
              "    fill: var(--button-hover-fill-color);\n",
              "  }\n",
              "\n",
              "  .colab-df-quickchart-complete:disabled,\n",
              "  .colab-df-quickchart-complete:disabled:hover {\n",
              "    background-color: var(--disabled-bg-color);\n",
              "    fill: var(--disabled-fill-color);\n",
              "    box-shadow: none;\n",
              "  }\n",
              "\n",
              "  .colab-df-spinner {\n",
              "    border: 2px solid var(--fill-color);\n",
              "    border-color: transparent;\n",
              "    border-bottom-color: var(--fill-color);\n",
              "    animation:\n",
              "      spin 1s steps(1) infinite;\n",
              "  }\n",
              "\n",
              "  @keyframes spin {\n",
              "    0% {\n",
              "      border-color: transparent;\n",
              "      border-bottom-color: var(--fill-color);\n",
              "      border-left-color: var(--fill-color);\n",
              "    }\n",
              "    20% {\n",
              "      border-color: transparent;\n",
              "      border-left-color: var(--fill-color);\n",
              "      border-top-color: var(--fill-color);\n",
              "    }\n",
              "    30% {\n",
              "      border-color: transparent;\n",
              "      border-left-color: var(--fill-color);\n",
              "      border-top-color: var(--fill-color);\n",
              "      border-right-color: var(--fill-color);\n",
              "    }\n",
              "    40% {\n",
              "      border-color: transparent;\n",
              "      border-right-color: var(--fill-color);\n",
              "      border-top-color: var(--fill-color);\n",
              "    }\n",
              "    60% {\n",
              "      border-color: transparent;\n",
              "      border-right-color: var(--fill-color);\n",
              "    }\n",
              "    80% {\n",
              "      border-color: transparent;\n",
              "      border-right-color: var(--fill-color);\n",
              "      border-bottom-color: var(--fill-color);\n",
              "    }\n",
              "    90% {\n",
              "      border-color: transparent;\n",
              "      border-bottom-color: var(--fill-color);\n",
              "    }\n",
              "  }\n",
              "</style>\n",
              "\n",
              "  <script>\n",
              "    async function quickchart(key) {\n",
              "      const quickchartButtonEl =\n",
              "        document.querySelector('#' + key + ' button');\n",
              "      quickchartButtonEl.disabled = true;  // To prevent multiple clicks.\n",
              "      quickchartButtonEl.classList.add('colab-df-spinner');\n",
              "      try {\n",
              "        const charts = await google.colab.kernel.invokeFunction(\n",
              "            'suggestCharts', [key], {});\n",
              "      } catch (error) {\n",
              "        console.error('Error during call to suggestCharts:', error);\n",
              "      }\n",
              "      quickchartButtonEl.classList.remove('colab-df-spinner');\n",
              "      quickchartButtonEl.classList.add('colab-df-quickchart-complete');\n",
              "    }\n",
              "    (() => {\n",
              "      let quickchartButtonEl =\n",
              "        document.querySelector('#df-508f4b93-7ec5-4183-99d0-2993ec2b99d5 button');\n",
              "      quickchartButtonEl.style.display =\n",
              "        google.colab.kernel.accessAllowed ? 'block' : 'none';\n",
              "    })();\n",
              "  </script>\n",
              "</div>\n",
              "    </div>\n",
              "  </div>\n"
            ]
          },
          "metadata": {},
          "execution_count": 47
        }
      ]
    },
    {
      "cell_type": "code",
      "source": [
        "df[\"article\"] = \"summarize: \"+df[\"article\"]"
      ],
      "metadata": {
        "id": "OgDEXBa8xqok"
      },
      "execution_count": null,
      "outputs": []
    },
    {
      "cell_type": "code",
      "source": [],
      "metadata": {
        "id": "12mwI16X3X6o"
      },
      "execution_count": null,
      "outputs": []
    },
    {
      "cell_type": "code",
      "source": [
        "# Importing libraries\n",
        "import os\n",
        "import numpy as np\n",
        "import pandas as pd\n",
        "import torch\n",
        "import torch.nn.functional as F\n",
        "from torch.utils.data import Dataset, DataLoader, RandomSampler, SequentialSampler\n",
        "import os\n",
        "\n",
        "# Importing the T5 modules from huggingface/transformers\n",
        "from transformers import T5Tokenizer, T5ForConditionalGeneration\n",
        "\n",
        "from rich.table import Column, Table\n",
        "from rich import box\n",
        "from rich.console import Console\n",
        "\n",
        "# define a rich console logger\n",
        "console=Console(record=True)\n",
        "\n",
        "def display_df(df):\n",
        "  \"\"\"display dataframe in ASCII format\"\"\"\n",
        "\n",
        "  console=Console()\n",
        "  table = Table(Column(\"source_text\", justify=\"center\" ), Column(\"target_text\", justify=\"center\"), title=\"Sample Data\",pad_edge=False, box=box.ASCII)\n",
        "\n",
        "  for i, row in enumerate(df.values.tolist()):\n",
        "    table.add_row(row[0], row[1])\n",
        "\n",
        "  console.print(table)\n",
        "\n",
        "training_logger = Table(Column(\"Epoch\", justify=\"center\" ),\n",
        "                        Column(\"Steps\", justify=\"center\"),\n",
        "                        Column(\"Loss\", justify=\"center\"),\n",
        "                        title=\"Training Status\",pad_edge=False, box=box.ASCII)\n"
      ],
      "metadata": {
        "id": "DbmjhB7Lxql4"
      },
      "execution_count": null,
      "outputs": []
    },
    {
      "cell_type": "code",
      "source": [
        "# Setting up the device for GPU usage\n",
        "from torch import cuda\n",
        "device = 'cuda' if cuda.is_available() else 'cpu'"
      ],
      "metadata": {
        "id": "8B0vqTqPxqjG"
      },
      "execution_count": null,
      "outputs": []
    },
    {
      "cell_type": "code",
      "source": [
        "class DataSetClass(Dataset):\n",
        "  \"\"\"\n",
        "  Creating a custom dataset for reading the dataset and\n",
        "  loading it into the dataloader to pass it to the neural network for finetuning the model\n",
        "\n",
        "  \"\"\"\n",
        "\n",
        "  def __init__(self, dataframe, tokenizer, source_len, target_len, source_text, target_text):\n",
        "    self.tokenizer = tokenizer\n",
        "    self.data = dataframe\n",
        "    self.source_len = source_len\n",
        "    self.summ_len = target_len\n",
        "    self.target_text = self.data[target_text]\n",
        "    self.source_text = self.data[source_text]\n",
        "\n",
        "  def __len__(self):\n",
        "    return len(self.target_text)\n",
        "\n",
        "  def __getitem__(self, index):\n",
        "    source_text = str(self.source_text[index])\n",
        "    target_text = str(self.target_text[index])\n",
        "\n",
        "    #cleaning data so as to ensure data is in string type\n",
        "    source_text = ' '.join(source_text.split())\n",
        "    target_text = ' '.join(target_text.split())\n",
        "\n",
        "    source = self.tokenizer.batch_encode_plus([source_text], max_length= self.source_len, pad_to_max_length=True, truncation=True, padding=\"max_length\", return_tensors='pt')\n",
        "    target = self.tokenizer.batch_encode_plus([target_text], max_length= self.summ_len, pad_to_max_length=True, truncation=True, padding=\"max_length\", return_tensors='pt')\n",
        "\n",
        "    source_ids = source['input_ids'].squeeze()\n",
        "    source_mask = source['attention_mask'].squeeze()\n",
        "    target_ids = target['input_ids'].squeeze()\n",
        "    target_mask = target['attention_mask'].squeeze()\n",
        "\n",
        "    return {\n",
        "        'source_ids': source_ids.to(dtype=torch.long),\n",
        "        'source_mask': source_mask.to(dtype=torch.long),\n",
        "        'target_ids': target_ids.to(dtype=torch.long),\n",
        "        'target_ids_y': target_ids.to(dtype=torch.long)\n",
        "    }"
      ],
      "metadata": {
        "id": "oY3nb43ExqgF"
      },
      "execution_count": null,
      "outputs": []
    },
    {
      "cell_type": "code",
      "source": [
        "def train(epoch, tokenizer, model, device, loader, optimizer):\n",
        "\n",
        "  \"\"\"\n",
        "  Function to be called for training with the parameters passed from main function\n",
        "\n",
        "  \"\"\"\n",
        "\n",
        "  model.train()\n",
        "  for _,data in enumerate(loader, 0):\n",
        "    y = data['target_ids'].to(device, dtype = torch.long)\n",
        "    y_ids = y[:, :-1].contiguous()\n",
        "    lm_labels = y[:, 1:].clone().detach()\n",
        "    lm_labels[y[:, 1:] == tokenizer.pad_token_id] = -100\n",
        "    ids = data['source_ids'].to(device, dtype = torch.long)\n",
        "    mask = data['source_mask'].to(device, dtype = torch.long)\n",
        "\n",
        "    outputs = model(input_ids = ids, attention_mask = mask, decoder_input_ids=y_ids, labels=lm_labels)\n",
        "    loss = outputs[0]\n",
        "\n",
        "    if _%10==0:\n",
        "      training_logger.add_row(str(epoch), str(_), str(loss))\n",
        "      console.print(training_logger)\n",
        "\n",
        "    optimizer.zero_grad()\n",
        "    loss.backward()\n",
        "    optimizer.step()"
      ],
      "metadata": {
        "id": "lS1QxI72xqdZ"
      },
      "execution_count": null,
      "outputs": []
    },
    {
      "cell_type": "code",
      "source": [
        "def validate(epoch, tokenizer, model, device, loader):\n",
        "\n",
        "  \"\"\"\n",
        "  Function to evaluate model for predictions\n",
        "\n",
        "  \"\"\"\n",
        "  model.eval()\n",
        "  predictions = []\n",
        "  actuals = []\n",
        "  with torch.no_grad():\n",
        "      for _, data in enumerate(loader, 0):\n",
        "          y = data['target_ids'].to(device, dtype = torch.long)\n",
        "          ids = data['source_ids'].to(device, dtype = torch.long)\n",
        "          mask = data['source_mask'].to(device, dtype = torch.long)\n",
        "\n",
        "          generated_ids = model.generate(\n",
        "              input_ids = ids,\n",
        "              attention_mask = mask,\n",
        "              max_length=150,\n",
        "              num_beams=2,\n",
        "              repetition_penalty=2.5,\n",
        "              length_penalty=1.0,\n",
        "              early_stopping=True\n",
        "              )\n",
        "          preds = [tokenizer.decode(g, skip_special_tokens=True, clean_up_tokenization_spaces=True) for g in generated_ids]\n",
        "          target = [tokenizer.decode(t, skip_special_tokens=True, clean_up_tokenization_spaces=True)for t in y]\n",
        "          if _%10==0:\n",
        "              console.print(f'Completed {_}')\n",
        "\n",
        "          predictions.extend(preds)\n",
        "          actuals.extend(target)\n",
        "  return predictions, actuals"
      ],
      "metadata": {
        "id": "v5AGML5hxqaU"
      },
      "execution_count": null,
      "outputs": []
    },
    {
      "cell_type": "code",
      "source": [
        "def T5Trainer(dataframe, source_text, target_text, model_params, output_dir=\"./outputs/\" ):\n",
        "\n",
        "  \"\"\"\n",
        "  T5 trainer\n",
        "\n",
        "  \"\"\"\n",
        "\n",
        "  # Set random seeds and deterministic pytorch for reproducibility\n",
        "  torch.manual_seed(model_params[\"SEED\"]) # pytorch random seed\n",
        "  np.random.seed(model_params[\"SEED\"]) # numpy random seed\n",
        "  torch.backends.cudnn.deterministic = True\n",
        "\n",
        "  # logging\n",
        "  console.log(f\"\"\"[Model]: Loading {model_params[\"MODEL\"]}...\\n\"\"\")\n",
        "\n",
        "  # tokenzier for encoding the text\n",
        "  tokenizer = T5Tokenizer.from_pretrained(model_params[\"MODEL\"])\n",
        "\n",
        "  # Defining the model. We are using t5-base model and added a Language model layer on top for generation of Summary.\n",
        "  # Further this model is sent to device (GPU/TPU) for using the hardware.\n",
        "  model = T5ForConditionalGeneration.from_pretrained(model_params[\"MODEL\"])\n",
        "  model = model.to(device)\n",
        "\n",
        "  # logging\n",
        "  console.log(f\"[Data]: Reading data...\\n\")\n",
        "\n",
        "  # Importing the raw dataset\n",
        "  dataframe = dataframe[[source_text,target_text]]\n",
        "  display_df(dataframe.head(2))\n",
        "\n",
        "\n",
        "  # Creation of Dataset and Dataloader\n",
        "  # Defining the train size. So 80% of the data will be used for training and the rest for validation.\n",
        "  train_size = 0.8\n",
        "  train_dataset=dataframe.sample(frac=train_size,random_state = model_params[\"SEED\"])\n",
        "  val_dataset=dataframe.drop(train_dataset.index).reset_index(drop=True)\n",
        "  train_dataset = train_dataset.reset_index(drop=True)\n",
        "\n",
        "  console.print(f\"FULL Dataset: {dataframe.shape}\")\n",
        "  console.print(f\"TRAIN Dataset: {train_dataset.shape}\")\n",
        "  console.print(f\"TEST Dataset: {val_dataset.shape}\\n\")\n",
        "\n",
        "\n",
        "  # Creating the Training and Validation dataset for further creation of Dataloader\n",
        "  training_set = DataSetClass(train_dataset, tokenizer, model_params[\"MAX_SOURCE_TEXT_LENGTH\"], model_params[\"MAX_TARGET_TEXT_LENGTH\"], source_text, target_text)\n",
        "  val_set = DataSetClass(val_dataset, tokenizer, model_params[\"MAX_SOURCE_TEXT_LENGTH\"], model_params[\"MAX_TARGET_TEXT_LENGTH\"], source_text, target_text)\n",
        "\n",
        "\n",
        "  # Defining the parameters for creation of dataloaders\n",
        "  train_params = {\n",
        "      'batch_size': model_params[\"TRAIN_BATCH_SIZE\"],\n",
        "      'shuffle': True,\n",
        "      'num_workers': 0\n",
        "      }\n",
        "\n",
        "\n",
        "  val_params = {\n",
        "      'batch_size': model_params[\"VALID_BATCH_SIZE\"],\n",
        "      'shuffle': False,\n",
        "      'num_workers': 0\n",
        "      }\n",
        "\n",
        "\n",
        "  # Creation of Dataloaders for testing and validation. This will be used down for training and validation stage for the model.\n",
        "  training_loader = DataLoader(training_set, **train_params)\n",
        "  val_loader = DataLoader(val_set, **val_params)\n",
        "\n",
        "\n",
        "  # Defining the optimizer that will be used to tune the weights of the network in the training session.\n",
        "  optimizer = torch.optim.Adam(params =  model.parameters(), lr=model_params[\"LEARNING_RATE\"])\n",
        "\n",
        "\n",
        "  # Training loop\n",
        "  console.log(f'[Initiating Fine Tuning]...\\n')\n",
        "\n",
        "  for epoch in range(model_params[\"TRAIN_EPOCHS\"]):\n",
        "      train(epoch, tokenizer, model, device, training_loader, optimizer)\n",
        "\n",
        "  console.log(f\"[Saving Model]...\\n\")\n",
        "  #Saving the model after training\n",
        "  path = os.path.join(output_dir, \"model_files\")\n",
        "  model.save_pretrained(path)\n",
        "  tokenizer.save_pretrained(path)\n",
        "\n",
        "\n",
        "  # evaluating test dataset\n",
        "  console.log(f\"[Initiating Validation]...\\n\")\n",
        "  for epoch in range(model_params[\"VAL_EPOCHS\"]):\n",
        "    predictions, actuals = validate(epoch, tokenizer, model, device, val_loader)\n",
        "    final_df = pd.DataFrame({'Generated Text':predictions,'Actual Text':actuals})\n",
        "    final_df.to_csv(os.path.join(output_dir,'predictions.csv'))\n",
        "\n",
        "  console.save_text(os.path.join(output_dir,'logs.txt'))\n",
        "\n",
        "  console.log(f\"[Validation Completed.]\\n\")\n",
        "  console.print(f\"\"\"[Model] Model saved @ {os.path.join(output_dir, \"model_files\")}\\n\"\"\")\n",
        "  console.print(f\"\"\"[Validation] Generation on Validation data saved @ {os.path.join(output_dir,'predictions.csv')}\\n\"\"\")\n",
        "  console.print(f\"\"\"[Logs] Logs saved @ {os.path.join(output_dir,'logs.txt')}\\n\"\"\")"
      ],
      "metadata": {
        "id": "ogs535huxqXH"
      },
      "execution_count": null,
      "outputs": []
    },
    {
      "cell_type": "code",
      "source": [
        "model_params={\n",
        "    \"MODEL\":\"t5-base\",             # model_type: t5-base/t5-large\n",
        "    \"TRAIN_BATCH_SIZE\":8,          # training batch size\n",
        "    \"VALID_BATCH_SIZE\":8,          # validation batch size\n",
        "    \"TRAIN_EPOCHS\":25,              # number of training epochs\n",
        "    \"VAL_EPOCHS\":1,                # number of validation epochs\n",
        "    \"LEARNING_RATE\":1e-4,          # learning rate\n",
        "    \"MAX_SOURCE_TEXT_LENGTH\":512,  # max length of source text\n",
        "    \"MAX_TARGET_TEXT_LENGTH\":50,   # max length of target text\n",
        "    \"SEED\": 42                     # set seed for reproducibility\n",
        "\n",
        "}"
      ],
      "metadata": {
        "id": "1u3nDk55xqUK"
      },
      "execution_count": null,
      "outputs": []
    },
    {
      "cell_type": "code",
      "source": [
        "T5Trainer(dataframe=df[:50], source_text=\"article\", target_text=\"highlights\", model_params=model_params, output_dir=\"outputs\")"
      ],
      "metadata": {
        "colab": {
          "base_uri": "https://localhost:8080/",
          "height": 1000
        },
        "id": "pOqgR6dqxqQ6",
        "outputId": "b3d47ca1-9b78-4818-d0c0-c426550ab69c"
      },
      "execution_count": null,
      "outputs": [
        {
          "output_type": "display_data",
          "data": {
            "text/plain": [
              "\u001b[2;36m[00:08:33]\u001b[0m\u001b[2;36m \u001b[0m\u001b[1m[\u001b[0mModel\u001b[1m]\u001b[0m: Loading t5-base\u001b[33m...\u001b[0m                                           \u001b[2m<ipython-input-54-7b71c3c408ea>:14\u001b[0m\n",
              "\u001b[2;36m           \u001b[0m                                                                      \u001b[2m                                  \u001b[0m\n"
            ],
            "text/html": [
              "<pre style=\"white-space:pre;overflow-x:auto;line-height:normal;font-family:Menlo,'DejaVu Sans Mono',consolas,'Courier New',monospace\"><span style=\"color: #7fbfbf; text-decoration-color: #7fbfbf\">[00:08:33] </span><span style=\"font-weight: bold\">[</span>Model<span style=\"font-weight: bold\">]</span>: Loading t5-base<span style=\"color: #808000; text-decoration-color: #808000\">...</span>                                           <span style=\"color: #7f7f7f; text-decoration-color: #7f7f7f\">&lt;ipython-input-54-7b71c3c408ea&gt;:14</span>\n",
              "<span style=\"color: #7fbfbf; text-decoration-color: #7fbfbf\">           </span>                                                                      <span style=\"color: #7f7f7f; text-decoration-color: #7f7f7f\">                                  </span>\n",
              "</pre>\n"
            ]
          },
          "metadata": {}
        },
        {
          "output_type": "stream",
          "name": "stderr",
          "text": [
            "/usr/local/lib/python3.10/dist-packages/transformers/models/t5/tokenization_t5.py:240: FutureWarning: This tokenizer was incorrectly instantiated with a model max length of 512 which will be corrected in Transformers v5.\n",
            "For now, this behavior is kept to avoid breaking backwards compatibility when padding/encoding with `truncation is True`.\n",
            "- Be aware that you SHOULD NOT rely on t5-base automatically truncating your input to 512 when padding/encoding.\n",
            "- If you want to encode/pad to sequences longer than 512 you can either instantiate this tokenizer with `model_max_length` or pass `max_length` when encoding/padding.\n",
            "- To avoid this warning, please instantiate this tokenizer with `model_max_length` set to your preferred value.\n",
            "  warnings.warn(\n",
            "Special tokens have been added in the vocabulary, make sure the associated word embeddings are fine-tuned or trained.\n"
          ]
        },
        {
          "output_type": "display_data",
          "data": {
            "text/plain": [
              "\u001b[2;36m[00:08:39]\u001b[0m\u001b[2;36m \u001b[0m\u001b[1m[\u001b[0mData\u001b[1m]\u001b[0m: Reading data\u001b[33m...\u001b[0m                                               \u001b[2m<ipython-input-54-7b71c3c408ea>:25\u001b[0m\n",
              "\u001b[2;36m           \u001b[0m                                                                      \u001b[2m                                  \u001b[0m\n"
            ],
            "text/html": [
              "<pre style=\"white-space:pre;overflow-x:auto;line-height:normal;font-family:Menlo,'DejaVu Sans Mono',consolas,'Courier New',monospace\"><span style=\"color: #7fbfbf; text-decoration-color: #7fbfbf\">[00:08:39] </span><span style=\"font-weight: bold\">[</span>Data<span style=\"font-weight: bold\">]</span>: Reading data<span style=\"color: #808000; text-decoration-color: #808000\">...</span>                                               <span style=\"color: #7f7f7f; text-decoration-color: #7f7f7f\">&lt;ipython-input-54-7b71c3c408ea&gt;:25</span>\n",
              "<span style=\"color: #7fbfbf; text-decoration-color: #7fbfbf\">           </span>                                                                      <span style=\"color: #7f7f7f; text-decoration-color: #7f7f7f\">                                  </span>\n",
              "</pre>\n"
            ]
          },
          "metadata": {}
        },
        {
          "output_type": "display_data",
          "data": {
            "text/plain": [
              "\u001b[3m                                                    Sample Data                                                    \u001b[0m\n",
              "+-----------------------------------------------------------------------------------------------------------------+\n",
              "|\u001b[1m                      source_text                      \u001b[0m\u001b[1m \u001b[0m|\u001b[1m \u001b[0m\u001b[1m                      target_text                      \u001b[0m|\n",
              "|--------------------------------------------------------+--------------------------------------------------------|\n",
              "|summarize: Sally Forrest, an actress-dancer who graced  | Sally Forrest, an actress-dancer who graced the silver |\n",
              "| the silver screen throughout the '40s and '50s in MGM  | screen throughout the '40s and '50s in MGM musicals and|\n",
              "|musicals and films such as the 1956 noir While the City |                films died on March 15 .                |\n",
              "| Sleeps died on March 15 at her home in Beverly Hills,  |   Forrest, whose birth name was Katherine Feeney, had  |\n",
              "|  California. Forrest, whose birth name was Katherine   |                  long battled cancer .                 |\n",
              "|    Feeney, was 86 and had long battled cancer. Her     |     A San Diego native, Forrest became a protege of    |\n",
              "|publicist, Judith Goffin, announced the news Thursday.  |    Hollywood trailblazer Ida Lupino, who cast her in   |\n",
              "| Scroll down for video . Actress: Sally Forrest was in  |                starring roles in films .               |\n",
              "|   the 1951 Ida Lupino-directed film 'Hard, Fast and    |                                                        |\n",
              "|Beautiful' (left) and the 1956 Fritz Lang movie 'While  |                                                        |\n",
              "| the City Sleeps' A San Diego native, Forrest became a  |                                                        |\n",
              "| protege of Hollywood trailblazer Ida Lupino, who cast  |                                                        |\n",
              "| her in starring roles in films including the critical  |                                                        |\n",
              "|and commercial success Not Wanted, Never Fear and Hard, |                                                        |\n",
              "|   Fast and Beautiful. Some of Forrest's other film     |                                                        |\n",
              "|credits included Bannerline, Son of Sinbad, and Excuse  |                                                        |\n",
              "|  My Dust, according to her iMDB page. The page also    |                                                        |\n",
              "| indicates Forrest was in multiple Climax! and Rawhide  |                                                        |\n",
              "|television episodes. Forrest appeared as herself in an  |                                                        |\n",
              "| episode of The Ed Sullivan Show and three episodes of  |                                                        |\n",
              "|  The Dinah Shore Chevy Show, her iMDB page says. She   |                                                        |\n",
              "|also starred in a Broadway production of The Seven Year |                                                        |\n",
              "|   Itch. City News Service reported that other stage    |                                                        |\n",
              "| credits included As You Like It, No, No, Nanette and   |                                                        |\n",
              "|  Damn Yankees. Forrest married writer-producer Milo    |                                                        |\n",
              "|Frank in 1951. He died in 2004. She is survived by her  |                                                        |\n",
              "|  niece, Sharon Durham, and nephews, Michael and Mark   |                                                        |\n",
              "| Feeney. Career: A San Diego native, Forrest became a   |                                                        |\n",
              "| protege of Hollywood trailblazer Ida Lupino, who cast  |                                                        |\n",
              "|           her in starring roles in films .             |                                                        |\n",
              "| summarize: A middle-school teacher in China has inked  |    Works include pictures of Presidential Palace and   |\n",
              "|hundreds of sketches that are beyond be-leaf. Politics  |                 Yangtze River Bridge .                 |\n",
              "| teacher Wang Lian, 35,  has created 1000 stunning ink  |   Has inked 1,000 pieces of art on leaves in last two  |\n",
              "|    drawings covering subjects as varied as cartoon     |                         years .                        |\n",
              "| characters and landscapes to animals, birds according  |  Gives work away to students in form of bookmarks and  |\n",
              "| to the People's Daily Online. The intricate scribbles  |                       postcards .                      |\n",
              "|  on leaves feature Wang's favourite sites across the   |                                                        |\n",
              "|city of Nanjing, which include the Presidential Palace, |                                                        |\n",
              "|Yangtze River Bridge, the ancient Jiming Temple and the |                                                        |\n",
              "|Qinhuai River. Natural canvas: Artist and teacher Wang  |                                                        |\n",
              "| Lian has done hundreds of drawings, like this temple,  |                                                        |\n",
              "|on leaves she collects in the park and on the streets . |                                                        |\n",
              "|Delicate: She uses an ink pen to gently draw the local  |                                                        |\n",
              "|    scenes and buildings on the dried out leaves .      |                                                        |\n",
              "| 'Although teaching politics is my job, drawing is my   |                                                        |\n",
              "| passion and hobby,' said Wang. 'I first tried drawing  |                                                        |\n",
              "| on leaves about 10 years ago and fell in love with it  |                                                        |\n",
              "|as an art form immediately. 'It's like drawing on very  |                                                        |\n",
              "|old parchment paper, you have to be really careful that |                                                        |\n",
              "| you don't damage the leaf because it is very fragile   |                                                        |\n",
              "|  and this helps focus your attention and abilities.'   |                                                        |\n",
              "|Wang started giving the drawings away on Christmas Eve  |                                                        |\n",
              "|   in 2012 when her junior high school son came home    |                                                        |\n",
              "|    saying he wanted to prepare some gifts for his      |                                                        |\n",
              "|classmates. Being an avid painter, Wang decided to give |                                                        |\n",
              "|   her son's friends unique presents of gingko leaf     |                                                        |\n",
              "|paintings. Wang loves gingko leaves and will often pick |                                                        |\n",
              "|  them up along Gingko Avenue, near to her school, in   |                                                        |\n",
              "|Nanjing in east China's Jiangsu province. Every autumn  |                                                        |\n",
              "|  she collects about 2,000 leaves from the ground to    |                                                        |\n",
              "| ensure she has enough to cover spoils too. Intricate:  |                                                        |\n",
              "|  Teacher Wang has drawn hundreds of local scenes on    |                                                        |\n",
              "|  leaves she has collected from the park . Hobby: The   |                                                        |\n",
              "|artist collects leaves every autumn and dries them out  |                                                        |\n",
              "| so she can sketch these impressive building scenes .   |                                                        |\n",
              "|'The colour and shape of gingko leaves are particularly |                                                        |\n",
              "| beautiful,' she said. 'I need to collect around 2000   |                                                        |\n",
              "|  leaves because this will include losses'. She takes   |                                                        |\n",
              "|them home where she then presses them between the pages |                                                        |\n",
              "| of books. 'Luckily, I have quite a lot of books and I  |                                                        |\n",
              "|try to use old ones or ones that I've already read so I |                                                        |\n",
              "|   don't end up with nothing to read.' Once they are    |                                                        |\n",
              "| dried, she carefully takes each one and using an ink   |                                                        |\n",
              "|fountain pen creates her masterpieces. She said: 'Some  |                                                        |\n",
              "| people are into capturing beauty through photography,  |                                                        |\n",
              "| but for me, a digitalised image just isn't the same.   |                                                        |\n",
              "|New leaf: Politics teacher Wang Lian has drawn hundreds |                                                        |\n",
              "|   of doodles on leaves for the last 10 years . 'By     |                                                        |\n",
              "|  drawing what I see I become far more a part of the    |                                                        |\n",
              "|process and part of the final piece. 'One day I hope to |                                                        |\n",
              "| be able to put my collection on display, but for now   |                                                        |\n",
              "|  it's really just for my own pleasure.' Wang's leaf    |                                                        |\n",
              "|  paintings are turned into bookmarks, postcards and    |                                                        |\n",
              "| sometimes even given as gifts to her her students so   |                                                        |\n",
              "|she can share the beauty of leaf paintings. But locals  |                                                        |\n",
              "| who have had the luck of being able to see Wang's art  |                                                        |\n",
              "| have been gobsmacked. Local art collector On Hao, 58,  |                                                        |\n",
              "|    said: 'These are truly remarkable and beautiful     |                                                        |\n",
              "|  creations. 'She has so much talent she is wasted in   |                                                        |\n",
              "|                      teaching.'                        |                                                        |\n",
              "+-----------------------------------------------------------------------------------------------------------------+\n"
            ],
            "text/html": [
              "<pre style=\"white-space:pre;overflow-x:auto;line-height:normal;font-family:Menlo,'DejaVu Sans Mono',consolas,'Courier New',monospace\"><span style=\"font-style: italic\">                                                    Sample Data                                                    </span>\n",
              "+-----------------------------------------------------------------------------------------------------------------+\n",
              "|<span style=\"font-weight: bold\">                      source_text                       </span>|<span style=\"font-weight: bold\">                       target_text                      </span>|\n",
              "|--------------------------------------------------------+--------------------------------------------------------|\n",
              "|summarize: Sally Forrest, an actress-dancer who graced  | Sally Forrest, an actress-dancer who graced the silver |\n",
              "| the silver screen throughout the '40s and '50s in MGM  | screen throughout the '40s and '50s in MGM musicals and|\n",
              "|musicals and films such as the 1956 noir While the City |                films died on March 15 .                |\n",
              "| Sleeps died on March 15 at her home in Beverly Hills,  |   Forrest, whose birth name was Katherine Feeney, had  |\n",
              "|  California. Forrest, whose birth name was Katherine   |                  long battled cancer .                 |\n",
              "|    Feeney, was 86 and had long battled cancer. Her     |     A San Diego native, Forrest became a protege of    |\n",
              "|publicist, Judith Goffin, announced the news Thursday.  |    Hollywood trailblazer Ida Lupino, who cast her in   |\n",
              "| Scroll down for video . Actress: Sally Forrest was in  |                starring roles in films .               |\n",
              "|   the 1951 Ida Lupino-directed film 'Hard, Fast and    |                                                        |\n",
              "|Beautiful' (left) and the 1956 Fritz Lang movie 'While  |                                                        |\n",
              "| the City Sleeps' A San Diego native, Forrest became a  |                                                        |\n",
              "| protege of Hollywood trailblazer Ida Lupino, who cast  |                                                        |\n",
              "| her in starring roles in films including the critical  |                                                        |\n",
              "|and commercial success Not Wanted, Never Fear and Hard, |                                                        |\n",
              "|   Fast and Beautiful. Some of Forrest's other film     |                                                        |\n",
              "|credits included Bannerline, Son of Sinbad, and Excuse  |                                                        |\n",
              "|  My Dust, according to her iMDB page. The page also    |                                                        |\n",
              "| indicates Forrest was in multiple Climax! and Rawhide  |                                                        |\n",
              "|television episodes. Forrest appeared as herself in an  |                                                        |\n",
              "| episode of The Ed Sullivan Show and three episodes of  |                                                        |\n",
              "|  The Dinah Shore Chevy Show, her iMDB page says. She   |                                                        |\n",
              "|also starred in a Broadway production of The Seven Year |                                                        |\n",
              "|   Itch. City News Service reported that other stage    |                                                        |\n",
              "| credits included As You Like It, No, No, Nanette and   |                                                        |\n",
              "|  Damn Yankees. Forrest married writer-producer Milo    |                                                        |\n",
              "|Frank in 1951. He died in 2004. She is survived by her  |                                                        |\n",
              "|  niece, Sharon Durham, and nephews, Michael and Mark   |                                                        |\n",
              "| Feeney. Career: A San Diego native, Forrest became a   |                                                        |\n",
              "| protege of Hollywood trailblazer Ida Lupino, who cast  |                                                        |\n",
              "|           her in starring roles in films .             |                                                        |\n",
              "| summarize: A middle-school teacher in China has inked  |    Works include pictures of Presidential Palace and   |\n",
              "|hundreds of sketches that are beyond be-leaf. Politics  |                 Yangtze River Bridge .                 |\n",
              "| teacher Wang Lian, 35,  has created 1000 stunning ink  |   Has inked 1,000 pieces of art on leaves in last two  |\n",
              "|    drawings covering subjects as varied as cartoon     |                         years .                        |\n",
              "| characters and landscapes to animals, birds according  |  Gives work away to students in form of bookmarks and  |\n",
              "| to the People's Daily Online. The intricate scribbles  |                       postcards .                      |\n",
              "|  on leaves feature Wang's favourite sites across the   |                                                        |\n",
              "|city of Nanjing, which include the Presidential Palace, |                                                        |\n",
              "|Yangtze River Bridge, the ancient Jiming Temple and the |                                                        |\n",
              "|Qinhuai River. Natural canvas: Artist and teacher Wang  |                                                        |\n",
              "| Lian has done hundreds of drawings, like this temple,  |                                                        |\n",
              "|on leaves she collects in the park and on the streets . |                                                        |\n",
              "|Delicate: She uses an ink pen to gently draw the local  |                                                        |\n",
              "|    scenes and buildings on the dried out leaves .      |                                                        |\n",
              "| 'Although teaching politics is my job, drawing is my   |                                                        |\n",
              "| passion and hobby,' said Wang. 'I first tried drawing  |                                                        |\n",
              "| on leaves about 10 years ago and fell in love with it  |                                                        |\n",
              "|as an art form immediately. 'It's like drawing on very  |                                                        |\n",
              "|old parchment paper, you have to be really careful that |                                                        |\n",
              "| you don't damage the leaf because it is very fragile   |                                                        |\n",
              "|  and this helps focus your attention and abilities.'   |                                                        |\n",
              "|Wang started giving the drawings away on Christmas Eve  |                                                        |\n",
              "|   in 2012 when her junior high school son came home    |                                                        |\n",
              "|    saying he wanted to prepare some gifts for his      |                                                        |\n",
              "|classmates. Being an avid painter, Wang decided to give |                                                        |\n",
              "|   her son's friends unique presents of gingko leaf     |                                                        |\n",
              "|paintings. Wang loves gingko leaves and will often pick |                                                        |\n",
              "|  them up along Gingko Avenue, near to her school, in   |                                                        |\n",
              "|Nanjing in east China's Jiangsu province. Every autumn  |                                                        |\n",
              "|  she collects about 2,000 leaves from the ground to    |                                                        |\n",
              "| ensure she has enough to cover spoils too. Intricate:  |                                                        |\n",
              "|  Teacher Wang has drawn hundreds of local scenes on    |                                                        |\n",
              "|  leaves she has collected from the park . Hobby: The   |                                                        |\n",
              "|artist collects leaves every autumn and dries them out  |                                                        |\n",
              "| so she can sketch these impressive building scenes .   |                                                        |\n",
              "|'The colour and shape of gingko leaves are particularly |                                                        |\n",
              "| beautiful,' she said. 'I need to collect around 2000   |                                                        |\n",
              "|  leaves because this will include losses'. She takes   |                                                        |\n",
              "|them home where she then presses them between the pages |                                                        |\n",
              "| of books. 'Luckily, I have quite a lot of books and I  |                                                        |\n",
              "|try to use old ones or ones that I've already read so I |                                                        |\n",
              "|   don't end up with nothing to read.' Once they are    |                                                        |\n",
              "| dried, she carefully takes each one and using an ink   |                                                        |\n",
              "|fountain pen creates her masterpieces. She said: 'Some  |                                                        |\n",
              "| people are into capturing beauty through photography,  |                                                        |\n",
              "| but for me, a digitalised image just isn't the same.   |                                                        |\n",
              "|New leaf: Politics teacher Wang Lian has drawn hundreds |                                                        |\n",
              "|   of doodles on leaves for the last 10 years . 'By     |                                                        |\n",
              "|  drawing what I see I become far more a part of the    |                                                        |\n",
              "|process and part of the final piece. 'One day I hope to |                                                        |\n",
              "| be able to put my collection on display, but for now   |                                                        |\n",
              "|  it's really just for my own pleasure.' Wang's leaf    |                                                        |\n",
              "|  paintings are turned into bookmarks, postcards and    |                                                        |\n",
              "| sometimes even given as gifts to her her students so   |                                                        |\n",
              "|she can share the beauty of leaf paintings. But locals  |                                                        |\n",
              "| who have had the luck of being able to see Wang's art  |                                                        |\n",
              "| have been gobsmacked. Local art collector On Hao, 58,  |                                                        |\n",
              "|    said: 'These are truly remarkable and beautiful     |                                                        |\n",
              "|  creations. 'She has so much talent she is wasted in   |                                                        |\n",
              "|                      teaching.'                        |                                                        |\n",
              "+-----------------------------------------------------------------------------------------------------------------+\n",
              "</pre>\n"
            ]
          },
          "metadata": {}
        },
        {
          "output_type": "display_data",
          "data": {
            "text/plain": [
              "FULL Dataset: \u001b[1m(\u001b[0m\u001b[1;36m50\u001b[0m, \u001b[1;36m2\u001b[0m\u001b[1m)\u001b[0m\n"
            ],
            "text/html": [
              "<pre style=\"white-space:pre;overflow-x:auto;line-height:normal;font-family:Menlo,'DejaVu Sans Mono',consolas,'Courier New',monospace\">FULL Dataset: <span style=\"font-weight: bold\">(</span><span style=\"color: #008080; text-decoration-color: #008080; font-weight: bold\">50</span>, <span style=\"color: #008080; text-decoration-color: #008080; font-weight: bold\">2</span><span style=\"font-weight: bold\">)</span>\n",
              "</pre>\n"
            ]
          },
          "metadata": {}
        },
        {
          "output_type": "display_data",
          "data": {
            "text/plain": [
              "TRAIN Dataset: \u001b[1m(\u001b[0m\u001b[1;36m40\u001b[0m, \u001b[1;36m2\u001b[0m\u001b[1m)\u001b[0m\n"
            ],
            "text/html": [
              "<pre style=\"white-space:pre;overflow-x:auto;line-height:normal;font-family:Menlo,'DejaVu Sans Mono',consolas,'Courier New',monospace\">TRAIN Dataset: <span style=\"font-weight: bold\">(</span><span style=\"color: #008080; text-decoration-color: #008080; font-weight: bold\">40</span>, <span style=\"color: #008080; text-decoration-color: #008080; font-weight: bold\">2</span><span style=\"font-weight: bold\">)</span>\n",
              "</pre>\n"
            ]
          },
          "metadata": {}
        },
        {
          "output_type": "display_data",
          "data": {
            "text/plain": [
              "TEST Dataset: \u001b[1m(\u001b[0m\u001b[1;36m10\u001b[0m, \u001b[1;36m2\u001b[0m\u001b[1m)\u001b[0m\n",
              "\n"
            ],
            "text/html": [
              "<pre style=\"white-space:pre;overflow-x:auto;line-height:normal;font-family:Menlo,'DejaVu Sans Mono',consolas,'Courier New',monospace\">TEST Dataset: <span style=\"font-weight: bold\">(</span><span style=\"color: #008080; text-decoration-color: #008080; font-weight: bold\">10</span>, <span style=\"color: #008080; text-decoration-color: #008080; font-weight: bold\">2</span><span style=\"font-weight: bold\">)</span>\n",
              "\n",
              "</pre>\n"
            ]
          },
          "metadata": {}
        },
        {
          "output_type": "display_data",
          "data": {
            "text/plain": [
              "\u001b[2;36m          \u001b[0m\u001b[2;36m \u001b[0m\u001b[1m[\u001b[0mInitiating Fine Tuning\u001b[1m]\u001b[0m\u001b[33m...\u001b[0m                                           \u001b[2m<ipython-input-54-7b71c3c408ea>:74\u001b[0m\n",
              "\u001b[2;36m           \u001b[0m                                                                      \u001b[2m                                  \u001b[0m\n"
            ],
            "text/html": [
              "<pre style=\"white-space:pre;overflow-x:auto;line-height:normal;font-family:Menlo,'DejaVu Sans Mono',consolas,'Courier New',monospace\"><span style=\"color: #7fbfbf; text-decoration-color: #7fbfbf\">           </span><span style=\"font-weight: bold\">[</span>Initiating Fine Tuning<span style=\"font-weight: bold\">]</span><span style=\"color: #808000; text-decoration-color: #808000\">...</span>                                           <span style=\"color: #7f7f7f; text-decoration-color: #7f7f7f\">&lt;ipython-input-54-7b71c3c408ea&gt;:74</span>\n",
              "<span style=\"color: #7fbfbf; text-decoration-color: #7fbfbf\">           </span>                                                                      <span style=\"color: #7f7f7f; text-decoration-color: #7f7f7f\">                                  </span>\n",
              "</pre>\n"
            ]
          },
          "metadata": {}
        },
        {
          "output_type": "display_data",
          "data": {
            "text/plain": [
              "\u001b[3m                               Training Status                               \u001b[0m\n",
              "+---------------------------------------------------------------------------+\n",
              "|\u001b[1mEpoch\u001b[0m\u001b[1m \u001b[0m|\u001b[1m \u001b[0m\u001b[1mSteps\u001b[0m\u001b[1m \u001b[0m|\u001b[1m \u001b[0m\u001b[1m                           Loss                            \u001b[0m|\n",
              "|------+-------+------------------------------------------------------------|\n",
              "|  0   |   0   | tensor(6.1972, device='cuda:0', grad_fn=<NllLossBackward0>)|\n",
              "+---------------------------------------------------------------------------+\n"
            ],
            "text/html": [
              "<pre style=\"white-space:pre;overflow-x:auto;line-height:normal;font-family:Menlo,'DejaVu Sans Mono',consolas,'Courier New',monospace\"><span style=\"font-style: italic\">                               Training Status                               </span>\n",
              "+---------------------------------------------------------------------------+\n",
              "|<span style=\"font-weight: bold\">Epoch </span>|<span style=\"font-weight: bold\"> Steps </span>|<span style=\"font-weight: bold\">                            Loss                            </span>|\n",
              "|------+-------+------------------------------------------------------------|\n",
              "|  0   |   0   | tensor(6.1972, device='cuda:0', grad_fn=&lt;NllLossBackward0&gt;)|\n",
              "+---------------------------------------------------------------------------+\n",
              "</pre>\n"
            ]
          },
          "metadata": {}
        },
        {
          "output_type": "display_data",
          "data": {
            "text/plain": [
              "\u001b[3m                               Training Status                               \u001b[0m\n",
              "+---------------------------------------------------------------------------+\n",
              "|\u001b[1mEpoch\u001b[0m\u001b[1m \u001b[0m|\u001b[1m \u001b[0m\u001b[1mSteps\u001b[0m\u001b[1m \u001b[0m|\u001b[1m \u001b[0m\u001b[1m                           Loss                            \u001b[0m|\n",
              "|------+-------+------------------------------------------------------------|\n",
              "|  0   |   0   | tensor(6.1972, device='cuda:0', grad_fn=<NllLossBackward0>)|\n",
              "|  1   |   0   | tensor(3.0858, device='cuda:0', grad_fn=<NllLossBackward0>)|\n",
              "+---------------------------------------------------------------------------+\n"
            ],
            "text/html": [
              "<pre style=\"white-space:pre;overflow-x:auto;line-height:normal;font-family:Menlo,'DejaVu Sans Mono',consolas,'Courier New',monospace\"><span style=\"font-style: italic\">                               Training Status                               </span>\n",
              "+---------------------------------------------------------------------------+\n",
              "|<span style=\"font-weight: bold\">Epoch </span>|<span style=\"font-weight: bold\"> Steps </span>|<span style=\"font-weight: bold\">                            Loss                            </span>|\n",
              "|------+-------+------------------------------------------------------------|\n",
              "|  0   |   0   | tensor(6.1972, device='cuda:0', grad_fn=&lt;NllLossBackward0&gt;)|\n",
              "|  1   |   0   | tensor(3.0858, device='cuda:0', grad_fn=&lt;NllLossBackward0&gt;)|\n",
              "+---------------------------------------------------------------------------+\n",
              "</pre>\n"
            ]
          },
          "metadata": {}
        },
        {
          "output_type": "display_data",
          "data": {
            "text/plain": [
              "\u001b[3m                               Training Status                               \u001b[0m\n",
              "+---------------------------------------------------------------------------+\n",
              "|\u001b[1mEpoch\u001b[0m\u001b[1m \u001b[0m|\u001b[1m \u001b[0m\u001b[1mSteps\u001b[0m\u001b[1m \u001b[0m|\u001b[1m \u001b[0m\u001b[1m                           Loss                            \u001b[0m|\n",
              "|------+-------+------------------------------------------------------------|\n",
              "|  0   |   0   | tensor(6.1972, device='cuda:0', grad_fn=<NllLossBackward0>)|\n",
              "|  1   |   0   | tensor(3.0858, device='cuda:0', grad_fn=<NllLossBackward0>)|\n",
              "|  2   |   0   | tensor(2.1546, device='cuda:0', grad_fn=<NllLossBackward0>)|\n",
              "+---------------------------------------------------------------------------+\n"
            ],
            "text/html": [
              "<pre style=\"white-space:pre;overflow-x:auto;line-height:normal;font-family:Menlo,'DejaVu Sans Mono',consolas,'Courier New',monospace\"><span style=\"font-style: italic\">                               Training Status                               </span>\n",
              "+---------------------------------------------------------------------------+\n",
              "|<span style=\"font-weight: bold\">Epoch </span>|<span style=\"font-weight: bold\"> Steps </span>|<span style=\"font-weight: bold\">                            Loss                            </span>|\n",
              "|------+-------+------------------------------------------------------------|\n",
              "|  0   |   0   | tensor(6.1972, device='cuda:0', grad_fn=&lt;NllLossBackward0&gt;)|\n",
              "|  1   |   0   | tensor(3.0858, device='cuda:0', grad_fn=&lt;NllLossBackward0&gt;)|\n",
              "|  2   |   0   | tensor(2.1546, device='cuda:0', grad_fn=&lt;NllLossBackward0&gt;)|\n",
              "+---------------------------------------------------------------------------+\n",
              "</pre>\n"
            ]
          },
          "metadata": {}
        },
        {
          "output_type": "display_data",
          "data": {
            "text/plain": [
              "\u001b[3m                               Training Status                               \u001b[0m\n",
              "+---------------------------------------------------------------------------+\n",
              "|\u001b[1mEpoch\u001b[0m\u001b[1m \u001b[0m|\u001b[1m \u001b[0m\u001b[1mSteps\u001b[0m\u001b[1m \u001b[0m|\u001b[1m \u001b[0m\u001b[1m                           Loss                            \u001b[0m|\n",
              "|------+-------+------------------------------------------------------------|\n",
              "|  0   |   0   | tensor(6.1972, device='cuda:0', grad_fn=<NllLossBackward0>)|\n",
              "|  1   |   0   | tensor(3.0858, device='cuda:0', grad_fn=<NllLossBackward0>)|\n",
              "|  2   |   0   | tensor(2.1546, device='cuda:0', grad_fn=<NllLossBackward0>)|\n",
              "|  3   |   0   | tensor(1.9599, device='cuda:0', grad_fn=<NllLossBackward0>)|\n",
              "+---------------------------------------------------------------------------+\n"
            ],
            "text/html": [
              "<pre style=\"white-space:pre;overflow-x:auto;line-height:normal;font-family:Menlo,'DejaVu Sans Mono',consolas,'Courier New',monospace\"><span style=\"font-style: italic\">                               Training Status                               </span>\n",
              "+---------------------------------------------------------------------------+\n",
              "|<span style=\"font-weight: bold\">Epoch </span>|<span style=\"font-weight: bold\"> Steps </span>|<span style=\"font-weight: bold\">                            Loss                            </span>|\n",
              "|------+-------+------------------------------------------------------------|\n",
              "|  0   |   0   | tensor(6.1972, device='cuda:0', grad_fn=&lt;NllLossBackward0&gt;)|\n",
              "|  1   |   0   | tensor(3.0858, device='cuda:0', grad_fn=&lt;NllLossBackward0&gt;)|\n",
              "|  2   |   0   | tensor(2.1546, device='cuda:0', grad_fn=&lt;NllLossBackward0&gt;)|\n",
              "|  3   |   0   | tensor(1.9599, device='cuda:0', grad_fn=&lt;NllLossBackward0&gt;)|\n",
              "+---------------------------------------------------------------------------+\n",
              "</pre>\n"
            ]
          },
          "metadata": {}
        },
        {
          "output_type": "display_data",
          "data": {
            "text/plain": [
              "\u001b[3m                               Training Status                               \u001b[0m\n",
              "+---------------------------------------------------------------------------+\n",
              "|\u001b[1mEpoch\u001b[0m\u001b[1m \u001b[0m|\u001b[1m \u001b[0m\u001b[1mSteps\u001b[0m\u001b[1m \u001b[0m|\u001b[1m \u001b[0m\u001b[1m                           Loss                            \u001b[0m|\n",
              "|------+-------+------------------------------------------------------------|\n",
              "|  0   |   0   | tensor(6.1972, device='cuda:0', grad_fn=<NllLossBackward0>)|\n",
              "|  1   |   0   | tensor(3.0858, device='cuda:0', grad_fn=<NllLossBackward0>)|\n",
              "|  2   |   0   | tensor(2.1546, device='cuda:0', grad_fn=<NllLossBackward0>)|\n",
              "|  3   |   0   | tensor(1.9599, device='cuda:0', grad_fn=<NllLossBackward0>)|\n",
              "|  4   |   0   | tensor(1.8993, device='cuda:0', grad_fn=<NllLossBackward0>)|\n",
              "+---------------------------------------------------------------------------+\n"
            ],
            "text/html": [
              "<pre style=\"white-space:pre;overflow-x:auto;line-height:normal;font-family:Menlo,'DejaVu Sans Mono',consolas,'Courier New',monospace\"><span style=\"font-style: italic\">                               Training Status                               </span>\n",
              "+---------------------------------------------------------------------------+\n",
              "|<span style=\"font-weight: bold\">Epoch </span>|<span style=\"font-weight: bold\"> Steps </span>|<span style=\"font-weight: bold\">                            Loss                            </span>|\n",
              "|------+-------+------------------------------------------------------------|\n",
              "|  0   |   0   | tensor(6.1972, device='cuda:0', grad_fn=&lt;NllLossBackward0&gt;)|\n",
              "|  1   |   0   | tensor(3.0858, device='cuda:0', grad_fn=&lt;NllLossBackward0&gt;)|\n",
              "|  2   |   0   | tensor(2.1546, device='cuda:0', grad_fn=&lt;NllLossBackward0&gt;)|\n",
              "|  3   |   0   | tensor(1.9599, device='cuda:0', grad_fn=&lt;NllLossBackward0&gt;)|\n",
              "|  4   |   0   | tensor(1.8993, device='cuda:0', grad_fn=&lt;NllLossBackward0&gt;)|\n",
              "+---------------------------------------------------------------------------+\n",
              "</pre>\n"
            ]
          },
          "metadata": {}
        },
        {
          "output_type": "display_data",
          "data": {
            "text/plain": [
              "\u001b[3m                               Training Status                               \u001b[0m\n",
              "+---------------------------------------------------------------------------+\n",
              "|\u001b[1mEpoch\u001b[0m\u001b[1m \u001b[0m|\u001b[1m \u001b[0m\u001b[1mSteps\u001b[0m\u001b[1m \u001b[0m|\u001b[1m \u001b[0m\u001b[1m                           Loss                            \u001b[0m|\n",
              "|------+-------+------------------------------------------------------------|\n",
              "|  0   |   0   | tensor(6.1972, device='cuda:0', grad_fn=<NllLossBackward0>)|\n",
              "|  1   |   0   | tensor(3.0858, device='cuda:0', grad_fn=<NllLossBackward0>)|\n",
              "|  2   |   0   | tensor(2.1546, device='cuda:0', grad_fn=<NllLossBackward0>)|\n",
              "|  3   |   0   | tensor(1.9599, device='cuda:0', grad_fn=<NllLossBackward0>)|\n",
              "|  4   |   0   | tensor(1.8993, device='cuda:0', grad_fn=<NllLossBackward0>)|\n",
              "|  5   |   0   | tensor(1.6444, device='cuda:0', grad_fn=<NllLossBackward0>)|\n",
              "+---------------------------------------------------------------------------+\n"
            ],
            "text/html": [
              "<pre style=\"white-space:pre;overflow-x:auto;line-height:normal;font-family:Menlo,'DejaVu Sans Mono',consolas,'Courier New',monospace\"><span style=\"font-style: italic\">                               Training Status                               </span>\n",
              "+---------------------------------------------------------------------------+\n",
              "|<span style=\"font-weight: bold\">Epoch </span>|<span style=\"font-weight: bold\"> Steps </span>|<span style=\"font-weight: bold\">                            Loss                            </span>|\n",
              "|------+-------+------------------------------------------------------------|\n",
              "|  0   |   0   | tensor(6.1972, device='cuda:0', grad_fn=&lt;NllLossBackward0&gt;)|\n",
              "|  1   |   0   | tensor(3.0858, device='cuda:0', grad_fn=&lt;NllLossBackward0&gt;)|\n",
              "|  2   |   0   | tensor(2.1546, device='cuda:0', grad_fn=&lt;NllLossBackward0&gt;)|\n",
              "|  3   |   0   | tensor(1.9599, device='cuda:0', grad_fn=&lt;NllLossBackward0&gt;)|\n",
              "|  4   |   0   | tensor(1.8993, device='cuda:0', grad_fn=&lt;NllLossBackward0&gt;)|\n",
              "|  5   |   0   | tensor(1.6444, device='cuda:0', grad_fn=&lt;NllLossBackward0&gt;)|\n",
              "+---------------------------------------------------------------------------+\n",
              "</pre>\n"
            ]
          },
          "metadata": {}
        },
        {
          "output_type": "display_data",
          "data": {
            "text/plain": [
              "\u001b[3m                               Training Status                               \u001b[0m\n",
              "+---------------------------------------------------------------------------+\n",
              "|\u001b[1mEpoch\u001b[0m\u001b[1m \u001b[0m|\u001b[1m \u001b[0m\u001b[1mSteps\u001b[0m\u001b[1m \u001b[0m|\u001b[1m \u001b[0m\u001b[1m                           Loss                            \u001b[0m|\n",
              "|------+-------+------------------------------------------------------------|\n",
              "|  0   |   0   | tensor(6.1972, device='cuda:0', grad_fn=<NllLossBackward0>)|\n",
              "|  1   |   0   | tensor(3.0858, device='cuda:0', grad_fn=<NllLossBackward0>)|\n",
              "|  2   |   0   | tensor(2.1546, device='cuda:0', grad_fn=<NllLossBackward0>)|\n",
              "|  3   |   0   | tensor(1.9599, device='cuda:0', grad_fn=<NllLossBackward0>)|\n",
              "|  4   |   0   | tensor(1.8993, device='cuda:0', grad_fn=<NllLossBackward0>)|\n",
              "|  5   |   0   | tensor(1.6444, device='cuda:0', grad_fn=<NllLossBackward0>)|\n",
              "|  6   |   0   | tensor(1.7095, device='cuda:0', grad_fn=<NllLossBackward0>)|\n",
              "+---------------------------------------------------------------------------+\n"
            ],
            "text/html": [
              "<pre style=\"white-space:pre;overflow-x:auto;line-height:normal;font-family:Menlo,'DejaVu Sans Mono',consolas,'Courier New',monospace\"><span style=\"font-style: italic\">                               Training Status                               </span>\n",
              "+---------------------------------------------------------------------------+\n",
              "|<span style=\"font-weight: bold\">Epoch </span>|<span style=\"font-weight: bold\"> Steps </span>|<span style=\"font-weight: bold\">                            Loss                            </span>|\n",
              "|------+-------+------------------------------------------------------------|\n",
              "|  0   |   0   | tensor(6.1972, device='cuda:0', grad_fn=&lt;NllLossBackward0&gt;)|\n",
              "|  1   |   0   | tensor(3.0858, device='cuda:0', grad_fn=&lt;NllLossBackward0&gt;)|\n",
              "|  2   |   0   | tensor(2.1546, device='cuda:0', grad_fn=&lt;NllLossBackward0&gt;)|\n",
              "|  3   |   0   | tensor(1.9599, device='cuda:0', grad_fn=&lt;NllLossBackward0&gt;)|\n",
              "|  4   |   0   | tensor(1.8993, device='cuda:0', grad_fn=&lt;NllLossBackward0&gt;)|\n",
              "|  5   |   0   | tensor(1.6444, device='cuda:0', grad_fn=&lt;NllLossBackward0&gt;)|\n",
              "|  6   |   0   | tensor(1.7095, device='cuda:0', grad_fn=&lt;NllLossBackward0&gt;)|\n",
              "+---------------------------------------------------------------------------+\n",
              "</pre>\n"
            ]
          },
          "metadata": {}
        },
        {
          "output_type": "display_data",
          "data": {
            "text/plain": [
              "\u001b[3m                               Training Status                               \u001b[0m\n",
              "+---------------------------------------------------------------------------+\n",
              "|\u001b[1mEpoch\u001b[0m\u001b[1m \u001b[0m|\u001b[1m \u001b[0m\u001b[1mSteps\u001b[0m\u001b[1m \u001b[0m|\u001b[1m \u001b[0m\u001b[1m                           Loss                            \u001b[0m|\n",
              "|------+-------+------------------------------------------------------------|\n",
              "|  0   |   0   | tensor(6.1972, device='cuda:0', grad_fn=<NllLossBackward0>)|\n",
              "|  1   |   0   | tensor(3.0858, device='cuda:0', grad_fn=<NllLossBackward0>)|\n",
              "|  2   |   0   | tensor(2.1546, device='cuda:0', grad_fn=<NllLossBackward0>)|\n",
              "|  3   |   0   | tensor(1.9599, device='cuda:0', grad_fn=<NllLossBackward0>)|\n",
              "|  4   |   0   | tensor(1.8993, device='cuda:0', grad_fn=<NllLossBackward0>)|\n",
              "|  5   |   0   | tensor(1.6444, device='cuda:0', grad_fn=<NllLossBackward0>)|\n",
              "|  6   |   0   | tensor(1.7095, device='cuda:0', grad_fn=<NllLossBackward0>)|\n",
              "|  7   |   0   | tensor(1.3065, device='cuda:0', grad_fn=<NllLossBackward0>)|\n",
              "+---------------------------------------------------------------------------+\n"
            ],
            "text/html": [
              "<pre style=\"white-space:pre;overflow-x:auto;line-height:normal;font-family:Menlo,'DejaVu Sans Mono',consolas,'Courier New',monospace\"><span style=\"font-style: italic\">                               Training Status                               </span>\n",
              "+---------------------------------------------------------------------------+\n",
              "|<span style=\"font-weight: bold\">Epoch </span>|<span style=\"font-weight: bold\"> Steps </span>|<span style=\"font-weight: bold\">                            Loss                            </span>|\n",
              "|------+-------+------------------------------------------------------------|\n",
              "|  0   |   0   | tensor(6.1972, device='cuda:0', grad_fn=&lt;NllLossBackward0&gt;)|\n",
              "|  1   |   0   | tensor(3.0858, device='cuda:0', grad_fn=&lt;NllLossBackward0&gt;)|\n",
              "|  2   |   0   | tensor(2.1546, device='cuda:0', grad_fn=&lt;NllLossBackward0&gt;)|\n",
              "|  3   |   0   | tensor(1.9599, device='cuda:0', grad_fn=&lt;NllLossBackward0&gt;)|\n",
              "|  4   |   0   | tensor(1.8993, device='cuda:0', grad_fn=&lt;NllLossBackward0&gt;)|\n",
              "|  5   |   0   | tensor(1.6444, device='cuda:0', grad_fn=&lt;NllLossBackward0&gt;)|\n",
              "|  6   |   0   | tensor(1.7095, device='cuda:0', grad_fn=&lt;NllLossBackward0&gt;)|\n",
              "|  7   |   0   | tensor(1.3065, device='cuda:0', grad_fn=&lt;NllLossBackward0&gt;)|\n",
              "+---------------------------------------------------------------------------+\n",
              "</pre>\n"
            ]
          },
          "metadata": {}
        },
        {
          "output_type": "display_data",
          "data": {
            "text/plain": [
              "\u001b[3m                               Training Status                               \u001b[0m\n",
              "+---------------------------------------------------------------------------+\n",
              "|\u001b[1mEpoch\u001b[0m\u001b[1m \u001b[0m|\u001b[1m \u001b[0m\u001b[1mSteps\u001b[0m\u001b[1m \u001b[0m|\u001b[1m \u001b[0m\u001b[1m                           Loss                            \u001b[0m|\n",
              "|------+-------+------------------------------------------------------------|\n",
              "|  0   |   0   | tensor(6.1972, device='cuda:0', grad_fn=<NllLossBackward0>)|\n",
              "|  1   |   0   | tensor(3.0858, device='cuda:0', grad_fn=<NllLossBackward0>)|\n",
              "|  2   |   0   | tensor(2.1546, device='cuda:0', grad_fn=<NllLossBackward0>)|\n",
              "|  3   |   0   | tensor(1.9599, device='cuda:0', grad_fn=<NllLossBackward0>)|\n",
              "|  4   |   0   | tensor(1.8993, device='cuda:0', grad_fn=<NllLossBackward0>)|\n",
              "|  5   |   0   | tensor(1.6444, device='cuda:0', grad_fn=<NllLossBackward0>)|\n",
              "|  6   |   0   | tensor(1.7095, device='cuda:0', grad_fn=<NllLossBackward0>)|\n",
              "|  7   |   0   | tensor(1.3065, device='cuda:0', grad_fn=<NllLossBackward0>)|\n",
              "|  8   |   0   | tensor(1.3618, device='cuda:0', grad_fn=<NllLossBackward0>)|\n",
              "+---------------------------------------------------------------------------+\n"
            ],
            "text/html": [
              "<pre style=\"white-space:pre;overflow-x:auto;line-height:normal;font-family:Menlo,'DejaVu Sans Mono',consolas,'Courier New',monospace\"><span style=\"font-style: italic\">                               Training Status                               </span>\n",
              "+---------------------------------------------------------------------------+\n",
              "|<span style=\"font-weight: bold\">Epoch </span>|<span style=\"font-weight: bold\"> Steps </span>|<span style=\"font-weight: bold\">                            Loss                            </span>|\n",
              "|------+-------+------------------------------------------------------------|\n",
              "|  0   |   0   | tensor(6.1972, device='cuda:0', grad_fn=&lt;NllLossBackward0&gt;)|\n",
              "|  1   |   0   | tensor(3.0858, device='cuda:0', grad_fn=&lt;NllLossBackward0&gt;)|\n",
              "|  2   |   0   | tensor(2.1546, device='cuda:0', grad_fn=&lt;NllLossBackward0&gt;)|\n",
              "|  3   |   0   | tensor(1.9599, device='cuda:0', grad_fn=&lt;NllLossBackward0&gt;)|\n",
              "|  4   |   0   | tensor(1.8993, device='cuda:0', grad_fn=&lt;NllLossBackward0&gt;)|\n",
              "|  5   |   0   | tensor(1.6444, device='cuda:0', grad_fn=&lt;NllLossBackward0&gt;)|\n",
              "|  6   |   0   | tensor(1.7095, device='cuda:0', grad_fn=&lt;NllLossBackward0&gt;)|\n",
              "|  7   |   0   | tensor(1.3065, device='cuda:0', grad_fn=&lt;NllLossBackward0&gt;)|\n",
              "|  8   |   0   | tensor(1.3618, device='cuda:0', grad_fn=&lt;NllLossBackward0&gt;)|\n",
              "+---------------------------------------------------------------------------+\n",
              "</pre>\n"
            ]
          },
          "metadata": {}
        },
        {
          "output_type": "display_data",
          "data": {
            "text/plain": [
              "\u001b[3m                               Training Status                               \u001b[0m\n",
              "+---------------------------------------------------------------------------+\n",
              "|\u001b[1mEpoch\u001b[0m\u001b[1m \u001b[0m|\u001b[1m \u001b[0m\u001b[1mSteps\u001b[0m\u001b[1m \u001b[0m|\u001b[1m \u001b[0m\u001b[1m                           Loss                            \u001b[0m|\n",
              "|------+-------+------------------------------------------------------------|\n",
              "|  0   |   0   | tensor(6.1972, device='cuda:0', grad_fn=<NllLossBackward0>)|\n",
              "|  1   |   0   | tensor(3.0858, device='cuda:0', grad_fn=<NllLossBackward0>)|\n",
              "|  2   |   0   | tensor(2.1546, device='cuda:0', grad_fn=<NllLossBackward0>)|\n",
              "|  3   |   0   | tensor(1.9599, device='cuda:0', grad_fn=<NllLossBackward0>)|\n",
              "|  4   |   0   | tensor(1.8993, device='cuda:0', grad_fn=<NllLossBackward0>)|\n",
              "|  5   |   0   | tensor(1.6444, device='cuda:0', grad_fn=<NllLossBackward0>)|\n",
              "|  6   |   0   | tensor(1.7095, device='cuda:0', grad_fn=<NllLossBackward0>)|\n",
              "|  7   |   0   | tensor(1.3065, device='cuda:0', grad_fn=<NllLossBackward0>)|\n",
              "|  8   |   0   | tensor(1.3618, device='cuda:0', grad_fn=<NllLossBackward0>)|\n",
              "|  9   |   0   | tensor(1.6083, device='cuda:0', grad_fn=<NllLossBackward0>)|\n",
              "+---------------------------------------------------------------------------+\n"
            ],
            "text/html": [
              "<pre style=\"white-space:pre;overflow-x:auto;line-height:normal;font-family:Menlo,'DejaVu Sans Mono',consolas,'Courier New',monospace\"><span style=\"font-style: italic\">                               Training Status                               </span>\n",
              "+---------------------------------------------------------------------------+\n",
              "|<span style=\"font-weight: bold\">Epoch </span>|<span style=\"font-weight: bold\"> Steps </span>|<span style=\"font-weight: bold\">                            Loss                            </span>|\n",
              "|------+-------+------------------------------------------------------------|\n",
              "|  0   |   0   | tensor(6.1972, device='cuda:0', grad_fn=&lt;NllLossBackward0&gt;)|\n",
              "|  1   |   0   | tensor(3.0858, device='cuda:0', grad_fn=&lt;NllLossBackward0&gt;)|\n",
              "|  2   |   0   | tensor(2.1546, device='cuda:0', grad_fn=&lt;NllLossBackward0&gt;)|\n",
              "|  3   |   0   | tensor(1.9599, device='cuda:0', grad_fn=&lt;NllLossBackward0&gt;)|\n",
              "|  4   |   0   | tensor(1.8993, device='cuda:0', grad_fn=&lt;NllLossBackward0&gt;)|\n",
              "|  5   |   0   | tensor(1.6444, device='cuda:0', grad_fn=&lt;NllLossBackward0&gt;)|\n",
              "|  6   |   0   | tensor(1.7095, device='cuda:0', grad_fn=&lt;NllLossBackward0&gt;)|\n",
              "|  7   |   0   | tensor(1.3065, device='cuda:0', grad_fn=&lt;NllLossBackward0&gt;)|\n",
              "|  8   |   0   | tensor(1.3618, device='cuda:0', grad_fn=&lt;NllLossBackward0&gt;)|\n",
              "|  9   |   0   | tensor(1.6083, device='cuda:0', grad_fn=&lt;NllLossBackward0&gt;)|\n",
              "+---------------------------------------------------------------------------+\n",
              "</pre>\n"
            ]
          },
          "metadata": {}
        },
        {
          "output_type": "display_data",
          "data": {
            "text/plain": [
              "\u001b[3m                               Training Status                               \u001b[0m\n",
              "+---------------------------------------------------------------------------+\n",
              "|\u001b[1mEpoch\u001b[0m\u001b[1m \u001b[0m|\u001b[1m \u001b[0m\u001b[1mSteps\u001b[0m\u001b[1m \u001b[0m|\u001b[1m \u001b[0m\u001b[1m                           Loss                            \u001b[0m|\n",
              "|------+-------+------------------------------------------------------------|\n",
              "|  0   |   0   | tensor(6.1972, device='cuda:0', grad_fn=<NllLossBackward0>)|\n",
              "|  1   |   0   | tensor(3.0858, device='cuda:0', grad_fn=<NllLossBackward0>)|\n",
              "|  2   |   0   | tensor(2.1546, device='cuda:0', grad_fn=<NllLossBackward0>)|\n",
              "|  3   |   0   | tensor(1.9599, device='cuda:0', grad_fn=<NllLossBackward0>)|\n",
              "|  4   |   0   | tensor(1.8993, device='cuda:0', grad_fn=<NllLossBackward0>)|\n",
              "|  5   |   0   | tensor(1.6444, device='cuda:0', grad_fn=<NllLossBackward0>)|\n",
              "|  6   |   0   | tensor(1.7095, device='cuda:0', grad_fn=<NllLossBackward0>)|\n",
              "|  7   |   0   | tensor(1.3065, device='cuda:0', grad_fn=<NllLossBackward0>)|\n",
              "|  8   |   0   | tensor(1.3618, device='cuda:0', grad_fn=<NllLossBackward0>)|\n",
              "|  9   |   0   | tensor(1.6083, device='cuda:0', grad_fn=<NllLossBackward0>)|\n",
              "| 10   |   0   | tensor(1.0611, device='cuda:0', grad_fn=<NllLossBackward0>)|\n",
              "+---------------------------------------------------------------------------+\n"
            ],
            "text/html": [
              "<pre style=\"white-space:pre;overflow-x:auto;line-height:normal;font-family:Menlo,'DejaVu Sans Mono',consolas,'Courier New',monospace\"><span style=\"font-style: italic\">                               Training Status                               </span>\n",
              "+---------------------------------------------------------------------------+\n",
              "|<span style=\"font-weight: bold\">Epoch </span>|<span style=\"font-weight: bold\"> Steps </span>|<span style=\"font-weight: bold\">                            Loss                            </span>|\n",
              "|------+-------+------------------------------------------------------------|\n",
              "|  0   |   0   | tensor(6.1972, device='cuda:0', grad_fn=&lt;NllLossBackward0&gt;)|\n",
              "|  1   |   0   | tensor(3.0858, device='cuda:0', grad_fn=&lt;NllLossBackward0&gt;)|\n",
              "|  2   |   0   | tensor(2.1546, device='cuda:0', grad_fn=&lt;NllLossBackward0&gt;)|\n",
              "|  3   |   0   | tensor(1.9599, device='cuda:0', grad_fn=&lt;NllLossBackward0&gt;)|\n",
              "|  4   |   0   | tensor(1.8993, device='cuda:0', grad_fn=&lt;NllLossBackward0&gt;)|\n",
              "|  5   |   0   | tensor(1.6444, device='cuda:0', grad_fn=&lt;NllLossBackward0&gt;)|\n",
              "|  6   |   0   | tensor(1.7095, device='cuda:0', grad_fn=&lt;NllLossBackward0&gt;)|\n",
              "|  7   |   0   | tensor(1.3065, device='cuda:0', grad_fn=&lt;NllLossBackward0&gt;)|\n",
              "|  8   |   0   | tensor(1.3618, device='cuda:0', grad_fn=&lt;NllLossBackward0&gt;)|\n",
              "|  9   |   0   | tensor(1.6083, device='cuda:0', grad_fn=&lt;NllLossBackward0&gt;)|\n",
              "| 10   |   0   | tensor(1.0611, device='cuda:0', grad_fn=&lt;NllLossBackward0&gt;)|\n",
              "+---------------------------------------------------------------------------+\n",
              "</pre>\n"
            ]
          },
          "metadata": {}
        },
        {
          "output_type": "display_data",
          "data": {
            "text/plain": [
              "\u001b[3m                               Training Status                               \u001b[0m\n",
              "+---------------------------------------------------------------------------+\n",
              "|\u001b[1mEpoch\u001b[0m\u001b[1m \u001b[0m|\u001b[1m \u001b[0m\u001b[1mSteps\u001b[0m\u001b[1m \u001b[0m|\u001b[1m \u001b[0m\u001b[1m                           Loss                            \u001b[0m|\n",
              "|------+-------+------------------------------------------------------------|\n",
              "|  0   |   0   | tensor(6.1972, device='cuda:0', grad_fn=<NllLossBackward0>)|\n",
              "|  1   |   0   | tensor(3.0858, device='cuda:0', grad_fn=<NllLossBackward0>)|\n",
              "|  2   |   0   | tensor(2.1546, device='cuda:0', grad_fn=<NllLossBackward0>)|\n",
              "|  3   |   0   | tensor(1.9599, device='cuda:0', grad_fn=<NllLossBackward0>)|\n",
              "|  4   |   0   | tensor(1.8993, device='cuda:0', grad_fn=<NllLossBackward0>)|\n",
              "|  5   |   0   | tensor(1.6444, device='cuda:0', grad_fn=<NllLossBackward0>)|\n",
              "|  6   |   0   | tensor(1.7095, device='cuda:0', grad_fn=<NllLossBackward0>)|\n",
              "|  7   |   0   | tensor(1.3065, device='cuda:0', grad_fn=<NllLossBackward0>)|\n",
              "|  8   |   0   | tensor(1.3618, device='cuda:0', grad_fn=<NllLossBackward0>)|\n",
              "|  9   |   0   | tensor(1.6083, device='cuda:0', grad_fn=<NllLossBackward0>)|\n",
              "| 10   |   0   | tensor(1.0611, device='cuda:0', grad_fn=<NllLossBackward0>)|\n",
              "| 11   |   0   | tensor(1.1714, device='cuda:0', grad_fn=<NllLossBackward0>)|\n",
              "+---------------------------------------------------------------------------+\n"
            ],
            "text/html": [
              "<pre style=\"white-space:pre;overflow-x:auto;line-height:normal;font-family:Menlo,'DejaVu Sans Mono',consolas,'Courier New',monospace\"><span style=\"font-style: italic\">                               Training Status                               </span>\n",
              "+---------------------------------------------------------------------------+\n",
              "|<span style=\"font-weight: bold\">Epoch </span>|<span style=\"font-weight: bold\"> Steps </span>|<span style=\"font-weight: bold\">                            Loss                            </span>|\n",
              "|------+-------+------------------------------------------------------------|\n",
              "|  0   |   0   | tensor(6.1972, device='cuda:0', grad_fn=&lt;NllLossBackward0&gt;)|\n",
              "|  1   |   0   | tensor(3.0858, device='cuda:0', grad_fn=&lt;NllLossBackward0&gt;)|\n",
              "|  2   |   0   | tensor(2.1546, device='cuda:0', grad_fn=&lt;NllLossBackward0&gt;)|\n",
              "|  3   |   0   | tensor(1.9599, device='cuda:0', grad_fn=&lt;NllLossBackward0&gt;)|\n",
              "|  4   |   0   | tensor(1.8993, device='cuda:0', grad_fn=&lt;NllLossBackward0&gt;)|\n",
              "|  5   |   0   | tensor(1.6444, device='cuda:0', grad_fn=&lt;NllLossBackward0&gt;)|\n",
              "|  6   |   0   | tensor(1.7095, device='cuda:0', grad_fn=&lt;NllLossBackward0&gt;)|\n",
              "|  7   |   0   | tensor(1.3065, device='cuda:0', grad_fn=&lt;NllLossBackward0&gt;)|\n",
              "|  8   |   0   | tensor(1.3618, device='cuda:0', grad_fn=&lt;NllLossBackward0&gt;)|\n",
              "|  9   |   0   | tensor(1.6083, device='cuda:0', grad_fn=&lt;NllLossBackward0&gt;)|\n",
              "| 10   |   0   | tensor(1.0611, device='cuda:0', grad_fn=&lt;NllLossBackward0&gt;)|\n",
              "| 11   |   0   | tensor(1.1714, device='cuda:0', grad_fn=&lt;NllLossBackward0&gt;)|\n",
              "+---------------------------------------------------------------------------+\n",
              "</pre>\n"
            ]
          },
          "metadata": {}
        },
        {
          "output_type": "display_data",
          "data": {
            "text/plain": [
              "\u001b[3m                               Training Status                               \u001b[0m\n",
              "+---------------------------------------------------------------------------+\n",
              "|\u001b[1mEpoch\u001b[0m\u001b[1m \u001b[0m|\u001b[1m \u001b[0m\u001b[1mSteps\u001b[0m\u001b[1m \u001b[0m|\u001b[1m \u001b[0m\u001b[1m                           Loss                            \u001b[0m|\n",
              "|------+-------+------------------------------------------------------------|\n",
              "|  0   |   0   | tensor(6.1972, device='cuda:0', grad_fn=<NllLossBackward0>)|\n",
              "|  1   |   0   | tensor(3.0858, device='cuda:0', grad_fn=<NllLossBackward0>)|\n",
              "|  2   |   0   | tensor(2.1546, device='cuda:0', grad_fn=<NllLossBackward0>)|\n",
              "|  3   |   0   | tensor(1.9599, device='cuda:0', grad_fn=<NllLossBackward0>)|\n",
              "|  4   |   0   | tensor(1.8993, device='cuda:0', grad_fn=<NllLossBackward0>)|\n",
              "|  5   |   0   | tensor(1.6444, device='cuda:0', grad_fn=<NllLossBackward0>)|\n",
              "|  6   |   0   | tensor(1.7095, device='cuda:0', grad_fn=<NllLossBackward0>)|\n",
              "|  7   |   0   | tensor(1.3065, device='cuda:0', grad_fn=<NllLossBackward0>)|\n",
              "|  8   |   0   | tensor(1.3618, device='cuda:0', grad_fn=<NllLossBackward0>)|\n",
              "|  9   |   0   | tensor(1.6083, device='cuda:0', grad_fn=<NllLossBackward0>)|\n",
              "| 10   |   0   | tensor(1.0611, device='cuda:0', grad_fn=<NllLossBackward0>)|\n",
              "| 11   |   0   | tensor(1.1714, device='cuda:0', grad_fn=<NllLossBackward0>)|\n",
              "| 12   |   0   | tensor(0.8093, device='cuda:0', grad_fn=<NllLossBackward0>)|\n",
              "+---------------------------------------------------------------------------+\n"
            ],
            "text/html": [
              "<pre style=\"white-space:pre;overflow-x:auto;line-height:normal;font-family:Menlo,'DejaVu Sans Mono',consolas,'Courier New',monospace\"><span style=\"font-style: italic\">                               Training Status                               </span>\n",
              "+---------------------------------------------------------------------------+\n",
              "|<span style=\"font-weight: bold\">Epoch </span>|<span style=\"font-weight: bold\"> Steps </span>|<span style=\"font-weight: bold\">                            Loss                            </span>|\n",
              "|------+-------+------------------------------------------------------------|\n",
              "|  0   |   0   | tensor(6.1972, device='cuda:0', grad_fn=&lt;NllLossBackward0&gt;)|\n",
              "|  1   |   0   | tensor(3.0858, device='cuda:0', grad_fn=&lt;NllLossBackward0&gt;)|\n",
              "|  2   |   0   | tensor(2.1546, device='cuda:0', grad_fn=&lt;NllLossBackward0&gt;)|\n",
              "|  3   |   0   | tensor(1.9599, device='cuda:0', grad_fn=&lt;NllLossBackward0&gt;)|\n",
              "|  4   |   0   | tensor(1.8993, device='cuda:0', grad_fn=&lt;NllLossBackward0&gt;)|\n",
              "|  5   |   0   | tensor(1.6444, device='cuda:0', grad_fn=&lt;NllLossBackward0&gt;)|\n",
              "|  6   |   0   | tensor(1.7095, device='cuda:0', grad_fn=&lt;NllLossBackward0&gt;)|\n",
              "|  7   |   0   | tensor(1.3065, device='cuda:0', grad_fn=&lt;NllLossBackward0&gt;)|\n",
              "|  8   |   0   | tensor(1.3618, device='cuda:0', grad_fn=&lt;NllLossBackward0&gt;)|\n",
              "|  9   |   0   | tensor(1.6083, device='cuda:0', grad_fn=&lt;NllLossBackward0&gt;)|\n",
              "| 10   |   0   | tensor(1.0611, device='cuda:0', grad_fn=&lt;NllLossBackward0&gt;)|\n",
              "| 11   |   0   | tensor(1.1714, device='cuda:0', grad_fn=&lt;NllLossBackward0&gt;)|\n",
              "| 12   |   0   | tensor(0.8093, device='cuda:0', grad_fn=&lt;NllLossBackward0&gt;)|\n",
              "+---------------------------------------------------------------------------+\n",
              "</pre>\n"
            ]
          },
          "metadata": {}
        },
        {
          "output_type": "display_data",
          "data": {
            "text/plain": [
              "\u001b[3m                               Training Status                               \u001b[0m\n",
              "+---------------------------------------------------------------------------+\n",
              "|\u001b[1mEpoch\u001b[0m\u001b[1m \u001b[0m|\u001b[1m \u001b[0m\u001b[1mSteps\u001b[0m\u001b[1m \u001b[0m|\u001b[1m \u001b[0m\u001b[1m                           Loss                            \u001b[0m|\n",
              "|------+-------+------------------------------------------------------------|\n",
              "|  0   |   0   | tensor(6.1972, device='cuda:0', grad_fn=<NllLossBackward0>)|\n",
              "|  1   |   0   | tensor(3.0858, device='cuda:0', grad_fn=<NllLossBackward0>)|\n",
              "|  2   |   0   | tensor(2.1546, device='cuda:0', grad_fn=<NllLossBackward0>)|\n",
              "|  3   |   0   | tensor(1.9599, device='cuda:0', grad_fn=<NllLossBackward0>)|\n",
              "|  4   |   0   | tensor(1.8993, device='cuda:0', grad_fn=<NllLossBackward0>)|\n",
              "|  5   |   0   | tensor(1.6444, device='cuda:0', grad_fn=<NllLossBackward0>)|\n",
              "|  6   |   0   | tensor(1.7095, device='cuda:0', grad_fn=<NllLossBackward0>)|\n",
              "|  7   |   0   | tensor(1.3065, device='cuda:0', grad_fn=<NllLossBackward0>)|\n",
              "|  8   |   0   | tensor(1.3618, device='cuda:0', grad_fn=<NllLossBackward0>)|\n",
              "|  9   |   0   | tensor(1.6083, device='cuda:0', grad_fn=<NllLossBackward0>)|\n",
              "| 10   |   0   | tensor(1.0611, device='cuda:0', grad_fn=<NllLossBackward0>)|\n",
              "| 11   |   0   | tensor(1.1714, device='cuda:0', grad_fn=<NllLossBackward0>)|\n",
              "| 12   |   0   | tensor(0.8093, device='cuda:0', grad_fn=<NllLossBackward0>)|\n",
              "| 13   |   0   | tensor(0.9345, device='cuda:0', grad_fn=<NllLossBackward0>)|\n",
              "+---------------------------------------------------------------------------+\n"
            ],
            "text/html": [
              "<pre style=\"white-space:pre;overflow-x:auto;line-height:normal;font-family:Menlo,'DejaVu Sans Mono',consolas,'Courier New',monospace\"><span style=\"font-style: italic\">                               Training Status                               </span>\n",
              "+---------------------------------------------------------------------------+\n",
              "|<span style=\"font-weight: bold\">Epoch </span>|<span style=\"font-weight: bold\"> Steps </span>|<span style=\"font-weight: bold\">                            Loss                            </span>|\n",
              "|------+-------+------------------------------------------------------------|\n",
              "|  0   |   0   | tensor(6.1972, device='cuda:0', grad_fn=&lt;NllLossBackward0&gt;)|\n",
              "|  1   |   0   | tensor(3.0858, device='cuda:0', grad_fn=&lt;NllLossBackward0&gt;)|\n",
              "|  2   |   0   | tensor(2.1546, device='cuda:0', grad_fn=&lt;NllLossBackward0&gt;)|\n",
              "|  3   |   0   | tensor(1.9599, device='cuda:0', grad_fn=&lt;NllLossBackward0&gt;)|\n",
              "|  4   |   0   | tensor(1.8993, device='cuda:0', grad_fn=&lt;NllLossBackward0&gt;)|\n",
              "|  5   |   0   | tensor(1.6444, device='cuda:0', grad_fn=&lt;NllLossBackward0&gt;)|\n",
              "|  6   |   0   | tensor(1.7095, device='cuda:0', grad_fn=&lt;NllLossBackward0&gt;)|\n",
              "|  7   |   0   | tensor(1.3065, device='cuda:0', grad_fn=&lt;NllLossBackward0&gt;)|\n",
              "|  8   |   0   | tensor(1.3618, device='cuda:0', grad_fn=&lt;NllLossBackward0&gt;)|\n",
              "|  9   |   0   | tensor(1.6083, device='cuda:0', grad_fn=&lt;NllLossBackward0&gt;)|\n",
              "| 10   |   0   | tensor(1.0611, device='cuda:0', grad_fn=&lt;NllLossBackward0&gt;)|\n",
              "| 11   |   0   | tensor(1.1714, device='cuda:0', grad_fn=&lt;NllLossBackward0&gt;)|\n",
              "| 12   |   0   | tensor(0.8093, device='cuda:0', grad_fn=&lt;NllLossBackward0&gt;)|\n",
              "| 13   |   0   | tensor(0.9345, device='cuda:0', grad_fn=&lt;NllLossBackward0&gt;)|\n",
              "+---------------------------------------------------------------------------+\n",
              "</pre>\n"
            ]
          },
          "metadata": {}
        },
        {
          "output_type": "display_data",
          "data": {
            "text/plain": [
              "\u001b[3m                               Training Status                               \u001b[0m\n",
              "+---------------------------------------------------------------------------+\n",
              "|\u001b[1mEpoch\u001b[0m\u001b[1m \u001b[0m|\u001b[1m \u001b[0m\u001b[1mSteps\u001b[0m\u001b[1m \u001b[0m|\u001b[1m \u001b[0m\u001b[1m                           Loss                            \u001b[0m|\n",
              "|------+-------+------------------------------------------------------------|\n",
              "|  0   |   0   | tensor(6.1972, device='cuda:0', grad_fn=<NllLossBackward0>)|\n",
              "|  1   |   0   | tensor(3.0858, device='cuda:0', grad_fn=<NllLossBackward0>)|\n",
              "|  2   |   0   | tensor(2.1546, device='cuda:0', grad_fn=<NllLossBackward0>)|\n",
              "|  3   |   0   | tensor(1.9599, device='cuda:0', grad_fn=<NllLossBackward0>)|\n",
              "|  4   |   0   | tensor(1.8993, device='cuda:0', grad_fn=<NllLossBackward0>)|\n",
              "|  5   |   0   | tensor(1.6444, device='cuda:0', grad_fn=<NllLossBackward0>)|\n",
              "|  6   |   0   | tensor(1.7095, device='cuda:0', grad_fn=<NllLossBackward0>)|\n",
              "|  7   |   0   | tensor(1.3065, device='cuda:0', grad_fn=<NllLossBackward0>)|\n",
              "|  8   |   0   | tensor(1.3618, device='cuda:0', grad_fn=<NllLossBackward0>)|\n",
              "|  9   |   0   | tensor(1.6083, device='cuda:0', grad_fn=<NllLossBackward0>)|\n",
              "| 10   |   0   | tensor(1.0611, device='cuda:0', grad_fn=<NllLossBackward0>)|\n",
              "| 11   |   0   | tensor(1.1714, device='cuda:0', grad_fn=<NllLossBackward0>)|\n",
              "| 12   |   0   | tensor(0.8093, device='cuda:0', grad_fn=<NllLossBackward0>)|\n",
              "| 13   |   0   | tensor(0.9345, device='cuda:0', grad_fn=<NllLossBackward0>)|\n",
              "| 14   |   0   | tensor(0.6203, device='cuda:0', grad_fn=<NllLossBackward0>)|\n",
              "+---------------------------------------------------------------------------+\n"
            ],
            "text/html": [
              "<pre style=\"white-space:pre;overflow-x:auto;line-height:normal;font-family:Menlo,'DejaVu Sans Mono',consolas,'Courier New',monospace\"><span style=\"font-style: italic\">                               Training Status                               </span>\n",
              "+---------------------------------------------------------------------------+\n",
              "|<span style=\"font-weight: bold\">Epoch </span>|<span style=\"font-weight: bold\"> Steps </span>|<span style=\"font-weight: bold\">                            Loss                            </span>|\n",
              "|------+-------+------------------------------------------------------------|\n",
              "|  0   |   0   | tensor(6.1972, device='cuda:0', grad_fn=&lt;NllLossBackward0&gt;)|\n",
              "|  1   |   0   | tensor(3.0858, device='cuda:0', grad_fn=&lt;NllLossBackward0&gt;)|\n",
              "|  2   |   0   | tensor(2.1546, device='cuda:0', grad_fn=&lt;NllLossBackward0&gt;)|\n",
              "|  3   |   0   | tensor(1.9599, device='cuda:0', grad_fn=&lt;NllLossBackward0&gt;)|\n",
              "|  4   |   0   | tensor(1.8993, device='cuda:0', grad_fn=&lt;NllLossBackward0&gt;)|\n",
              "|  5   |   0   | tensor(1.6444, device='cuda:0', grad_fn=&lt;NllLossBackward0&gt;)|\n",
              "|  6   |   0   | tensor(1.7095, device='cuda:0', grad_fn=&lt;NllLossBackward0&gt;)|\n",
              "|  7   |   0   | tensor(1.3065, device='cuda:0', grad_fn=&lt;NllLossBackward0&gt;)|\n",
              "|  8   |   0   | tensor(1.3618, device='cuda:0', grad_fn=&lt;NllLossBackward0&gt;)|\n",
              "|  9   |   0   | tensor(1.6083, device='cuda:0', grad_fn=&lt;NllLossBackward0&gt;)|\n",
              "| 10   |   0   | tensor(1.0611, device='cuda:0', grad_fn=&lt;NllLossBackward0&gt;)|\n",
              "| 11   |   0   | tensor(1.1714, device='cuda:0', grad_fn=&lt;NllLossBackward0&gt;)|\n",
              "| 12   |   0   | tensor(0.8093, device='cuda:0', grad_fn=&lt;NllLossBackward0&gt;)|\n",
              "| 13   |   0   | tensor(0.9345, device='cuda:0', grad_fn=&lt;NllLossBackward0&gt;)|\n",
              "| 14   |   0   | tensor(0.6203, device='cuda:0', grad_fn=&lt;NllLossBackward0&gt;)|\n",
              "+---------------------------------------------------------------------------+\n",
              "</pre>\n"
            ]
          },
          "metadata": {}
        },
        {
          "output_type": "display_data",
          "data": {
            "text/plain": [
              "\u001b[3m                               Training Status                               \u001b[0m\n",
              "+---------------------------------------------------------------------------+\n",
              "|\u001b[1mEpoch\u001b[0m\u001b[1m \u001b[0m|\u001b[1m \u001b[0m\u001b[1mSteps\u001b[0m\u001b[1m \u001b[0m|\u001b[1m \u001b[0m\u001b[1m                           Loss                            \u001b[0m|\n",
              "|------+-------+------------------------------------------------------------|\n",
              "|  0   |   0   | tensor(6.1972, device='cuda:0', grad_fn=<NllLossBackward0>)|\n",
              "|  1   |   0   | tensor(3.0858, device='cuda:0', grad_fn=<NllLossBackward0>)|\n",
              "|  2   |   0   | tensor(2.1546, device='cuda:0', grad_fn=<NllLossBackward0>)|\n",
              "|  3   |   0   | tensor(1.9599, device='cuda:0', grad_fn=<NllLossBackward0>)|\n",
              "|  4   |   0   | tensor(1.8993, device='cuda:0', grad_fn=<NllLossBackward0>)|\n",
              "|  5   |   0   | tensor(1.6444, device='cuda:0', grad_fn=<NllLossBackward0>)|\n",
              "|  6   |   0   | tensor(1.7095, device='cuda:0', grad_fn=<NllLossBackward0>)|\n",
              "|  7   |   0   | tensor(1.3065, device='cuda:0', grad_fn=<NllLossBackward0>)|\n",
              "|  8   |   0   | tensor(1.3618, device='cuda:0', grad_fn=<NllLossBackward0>)|\n",
              "|  9   |   0   | tensor(1.6083, device='cuda:0', grad_fn=<NllLossBackward0>)|\n",
              "| 10   |   0   | tensor(1.0611, device='cuda:0', grad_fn=<NllLossBackward0>)|\n",
              "| 11   |   0   | tensor(1.1714, device='cuda:0', grad_fn=<NllLossBackward0>)|\n",
              "| 12   |   0   | tensor(0.8093, device='cuda:0', grad_fn=<NllLossBackward0>)|\n",
              "| 13   |   0   | tensor(0.9345, device='cuda:0', grad_fn=<NllLossBackward0>)|\n",
              "| 14   |   0   | tensor(0.6203, device='cuda:0', grad_fn=<NllLossBackward0>)|\n",
              "| 15   |   0   | tensor(0.6688, device='cuda:0', grad_fn=<NllLossBackward0>)|\n",
              "+---------------------------------------------------------------------------+\n"
            ],
            "text/html": [
              "<pre style=\"white-space:pre;overflow-x:auto;line-height:normal;font-family:Menlo,'DejaVu Sans Mono',consolas,'Courier New',monospace\"><span style=\"font-style: italic\">                               Training Status                               </span>\n",
              "+---------------------------------------------------------------------------+\n",
              "|<span style=\"font-weight: bold\">Epoch </span>|<span style=\"font-weight: bold\"> Steps </span>|<span style=\"font-weight: bold\">                            Loss                            </span>|\n",
              "|------+-------+------------------------------------------------------------|\n",
              "|  0   |   0   | tensor(6.1972, device='cuda:0', grad_fn=&lt;NllLossBackward0&gt;)|\n",
              "|  1   |   0   | tensor(3.0858, device='cuda:0', grad_fn=&lt;NllLossBackward0&gt;)|\n",
              "|  2   |   0   | tensor(2.1546, device='cuda:0', grad_fn=&lt;NllLossBackward0&gt;)|\n",
              "|  3   |   0   | tensor(1.9599, device='cuda:0', grad_fn=&lt;NllLossBackward0&gt;)|\n",
              "|  4   |   0   | tensor(1.8993, device='cuda:0', grad_fn=&lt;NllLossBackward0&gt;)|\n",
              "|  5   |   0   | tensor(1.6444, device='cuda:0', grad_fn=&lt;NllLossBackward0&gt;)|\n",
              "|  6   |   0   | tensor(1.7095, device='cuda:0', grad_fn=&lt;NllLossBackward0&gt;)|\n",
              "|  7   |   0   | tensor(1.3065, device='cuda:0', grad_fn=&lt;NllLossBackward0&gt;)|\n",
              "|  8   |   0   | tensor(1.3618, device='cuda:0', grad_fn=&lt;NllLossBackward0&gt;)|\n",
              "|  9   |   0   | tensor(1.6083, device='cuda:0', grad_fn=&lt;NllLossBackward0&gt;)|\n",
              "| 10   |   0   | tensor(1.0611, device='cuda:0', grad_fn=&lt;NllLossBackward0&gt;)|\n",
              "| 11   |   0   | tensor(1.1714, device='cuda:0', grad_fn=&lt;NllLossBackward0&gt;)|\n",
              "| 12   |   0   | tensor(0.8093, device='cuda:0', grad_fn=&lt;NllLossBackward0&gt;)|\n",
              "| 13   |   0   | tensor(0.9345, device='cuda:0', grad_fn=&lt;NllLossBackward0&gt;)|\n",
              "| 14   |   0   | tensor(0.6203, device='cuda:0', grad_fn=&lt;NllLossBackward0&gt;)|\n",
              "| 15   |   0   | tensor(0.6688, device='cuda:0', grad_fn=&lt;NllLossBackward0&gt;)|\n",
              "+---------------------------------------------------------------------------+\n",
              "</pre>\n"
            ]
          },
          "metadata": {}
        },
        {
          "output_type": "display_data",
          "data": {
            "text/plain": [
              "\u001b[3m                               Training Status                               \u001b[0m\n",
              "+---------------------------------------------------------------------------+\n",
              "|\u001b[1mEpoch\u001b[0m\u001b[1m \u001b[0m|\u001b[1m \u001b[0m\u001b[1mSteps\u001b[0m\u001b[1m \u001b[0m|\u001b[1m \u001b[0m\u001b[1m                           Loss                            \u001b[0m|\n",
              "|------+-------+------------------------------------------------------------|\n",
              "|  0   |   0   | tensor(6.1972, device='cuda:0', grad_fn=<NllLossBackward0>)|\n",
              "|  1   |   0   | tensor(3.0858, device='cuda:0', grad_fn=<NllLossBackward0>)|\n",
              "|  2   |   0   | tensor(2.1546, device='cuda:0', grad_fn=<NllLossBackward0>)|\n",
              "|  3   |   0   | tensor(1.9599, device='cuda:0', grad_fn=<NllLossBackward0>)|\n",
              "|  4   |   0   | tensor(1.8993, device='cuda:0', grad_fn=<NllLossBackward0>)|\n",
              "|  5   |   0   | tensor(1.6444, device='cuda:0', grad_fn=<NllLossBackward0>)|\n",
              "|  6   |   0   | tensor(1.7095, device='cuda:0', grad_fn=<NllLossBackward0>)|\n",
              "|  7   |   0   | tensor(1.3065, device='cuda:0', grad_fn=<NllLossBackward0>)|\n",
              "|  8   |   0   | tensor(1.3618, device='cuda:0', grad_fn=<NllLossBackward0>)|\n",
              "|  9   |   0   | tensor(1.6083, device='cuda:0', grad_fn=<NllLossBackward0>)|\n",
              "| 10   |   0   | tensor(1.0611, device='cuda:0', grad_fn=<NllLossBackward0>)|\n",
              "| 11   |   0   | tensor(1.1714, device='cuda:0', grad_fn=<NllLossBackward0>)|\n",
              "| 12   |   0   | tensor(0.8093, device='cuda:0', grad_fn=<NllLossBackward0>)|\n",
              "| 13   |   0   | tensor(0.9345, device='cuda:0', grad_fn=<NllLossBackward0>)|\n",
              "| 14   |   0   | tensor(0.6203, device='cuda:0', grad_fn=<NllLossBackward0>)|\n",
              "| 15   |   0   | tensor(0.6688, device='cuda:0', grad_fn=<NllLossBackward0>)|\n",
              "| 16   |   0   | tensor(0.4351, device='cuda:0', grad_fn=<NllLossBackward0>)|\n",
              "+---------------------------------------------------------------------------+\n"
            ],
            "text/html": [
              "<pre style=\"white-space:pre;overflow-x:auto;line-height:normal;font-family:Menlo,'DejaVu Sans Mono',consolas,'Courier New',monospace\"><span style=\"font-style: italic\">                               Training Status                               </span>\n",
              "+---------------------------------------------------------------------------+\n",
              "|<span style=\"font-weight: bold\">Epoch </span>|<span style=\"font-weight: bold\"> Steps </span>|<span style=\"font-weight: bold\">                            Loss                            </span>|\n",
              "|------+-------+------------------------------------------------------------|\n",
              "|  0   |   0   | tensor(6.1972, device='cuda:0', grad_fn=&lt;NllLossBackward0&gt;)|\n",
              "|  1   |   0   | tensor(3.0858, device='cuda:0', grad_fn=&lt;NllLossBackward0&gt;)|\n",
              "|  2   |   0   | tensor(2.1546, device='cuda:0', grad_fn=&lt;NllLossBackward0&gt;)|\n",
              "|  3   |   0   | tensor(1.9599, device='cuda:0', grad_fn=&lt;NllLossBackward0&gt;)|\n",
              "|  4   |   0   | tensor(1.8993, device='cuda:0', grad_fn=&lt;NllLossBackward0&gt;)|\n",
              "|  5   |   0   | tensor(1.6444, device='cuda:0', grad_fn=&lt;NllLossBackward0&gt;)|\n",
              "|  6   |   0   | tensor(1.7095, device='cuda:0', grad_fn=&lt;NllLossBackward0&gt;)|\n",
              "|  7   |   0   | tensor(1.3065, device='cuda:0', grad_fn=&lt;NllLossBackward0&gt;)|\n",
              "|  8   |   0   | tensor(1.3618, device='cuda:0', grad_fn=&lt;NllLossBackward0&gt;)|\n",
              "|  9   |   0   | tensor(1.6083, device='cuda:0', grad_fn=&lt;NllLossBackward0&gt;)|\n",
              "| 10   |   0   | tensor(1.0611, device='cuda:0', grad_fn=&lt;NllLossBackward0&gt;)|\n",
              "| 11   |   0   | tensor(1.1714, device='cuda:0', grad_fn=&lt;NllLossBackward0&gt;)|\n",
              "| 12   |   0   | tensor(0.8093, device='cuda:0', grad_fn=&lt;NllLossBackward0&gt;)|\n",
              "| 13   |   0   | tensor(0.9345, device='cuda:0', grad_fn=&lt;NllLossBackward0&gt;)|\n",
              "| 14   |   0   | tensor(0.6203, device='cuda:0', grad_fn=&lt;NllLossBackward0&gt;)|\n",
              "| 15   |   0   | tensor(0.6688, device='cuda:0', grad_fn=&lt;NllLossBackward0&gt;)|\n",
              "| 16   |   0   | tensor(0.4351, device='cuda:0', grad_fn=&lt;NllLossBackward0&gt;)|\n",
              "+---------------------------------------------------------------------------+\n",
              "</pre>\n"
            ]
          },
          "metadata": {}
        },
        {
          "output_type": "display_data",
          "data": {
            "text/plain": [
              "\u001b[3m                               Training Status                               \u001b[0m\n",
              "+---------------------------------------------------------------------------+\n",
              "|\u001b[1mEpoch\u001b[0m\u001b[1m \u001b[0m|\u001b[1m \u001b[0m\u001b[1mSteps\u001b[0m\u001b[1m \u001b[0m|\u001b[1m \u001b[0m\u001b[1m                           Loss                            \u001b[0m|\n",
              "|------+-------+------------------------------------------------------------|\n",
              "|  0   |   0   | tensor(6.1972, device='cuda:0', grad_fn=<NllLossBackward0>)|\n",
              "|  1   |   0   | tensor(3.0858, device='cuda:0', grad_fn=<NllLossBackward0>)|\n",
              "|  2   |   0   | tensor(2.1546, device='cuda:0', grad_fn=<NllLossBackward0>)|\n",
              "|  3   |   0   | tensor(1.9599, device='cuda:0', grad_fn=<NllLossBackward0>)|\n",
              "|  4   |   0   | tensor(1.8993, device='cuda:0', grad_fn=<NllLossBackward0>)|\n",
              "|  5   |   0   | tensor(1.6444, device='cuda:0', grad_fn=<NllLossBackward0>)|\n",
              "|  6   |   0   | tensor(1.7095, device='cuda:0', grad_fn=<NllLossBackward0>)|\n",
              "|  7   |   0   | tensor(1.3065, device='cuda:0', grad_fn=<NllLossBackward0>)|\n",
              "|  8   |   0   | tensor(1.3618, device='cuda:0', grad_fn=<NllLossBackward0>)|\n",
              "|  9   |   0   | tensor(1.6083, device='cuda:0', grad_fn=<NllLossBackward0>)|\n",
              "| 10   |   0   | tensor(1.0611, device='cuda:0', grad_fn=<NllLossBackward0>)|\n",
              "| 11   |   0   | tensor(1.1714, device='cuda:0', grad_fn=<NllLossBackward0>)|\n",
              "| 12   |   0   | tensor(0.8093, device='cuda:0', grad_fn=<NllLossBackward0>)|\n",
              "| 13   |   0   | tensor(0.9345, device='cuda:0', grad_fn=<NllLossBackward0>)|\n",
              "| 14   |   0   | tensor(0.6203, device='cuda:0', grad_fn=<NllLossBackward0>)|\n",
              "| 15   |   0   | tensor(0.6688, device='cuda:0', grad_fn=<NllLossBackward0>)|\n",
              "| 16   |   0   | tensor(0.4351, device='cuda:0', grad_fn=<NllLossBackward0>)|\n",
              "| 17   |   0   | tensor(0.3193, device='cuda:0', grad_fn=<NllLossBackward0>)|\n",
              "+---------------------------------------------------------------------------+\n"
            ],
            "text/html": [
              "<pre style=\"white-space:pre;overflow-x:auto;line-height:normal;font-family:Menlo,'DejaVu Sans Mono',consolas,'Courier New',monospace\"><span style=\"font-style: italic\">                               Training Status                               </span>\n",
              "+---------------------------------------------------------------------------+\n",
              "|<span style=\"font-weight: bold\">Epoch </span>|<span style=\"font-weight: bold\"> Steps </span>|<span style=\"font-weight: bold\">                            Loss                            </span>|\n",
              "|------+-------+------------------------------------------------------------|\n",
              "|  0   |   0   | tensor(6.1972, device='cuda:0', grad_fn=&lt;NllLossBackward0&gt;)|\n",
              "|  1   |   0   | tensor(3.0858, device='cuda:0', grad_fn=&lt;NllLossBackward0&gt;)|\n",
              "|  2   |   0   | tensor(2.1546, device='cuda:0', grad_fn=&lt;NllLossBackward0&gt;)|\n",
              "|  3   |   0   | tensor(1.9599, device='cuda:0', grad_fn=&lt;NllLossBackward0&gt;)|\n",
              "|  4   |   0   | tensor(1.8993, device='cuda:0', grad_fn=&lt;NllLossBackward0&gt;)|\n",
              "|  5   |   0   | tensor(1.6444, device='cuda:0', grad_fn=&lt;NllLossBackward0&gt;)|\n",
              "|  6   |   0   | tensor(1.7095, device='cuda:0', grad_fn=&lt;NllLossBackward0&gt;)|\n",
              "|  7   |   0   | tensor(1.3065, device='cuda:0', grad_fn=&lt;NllLossBackward0&gt;)|\n",
              "|  8   |   0   | tensor(1.3618, device='cuda:0', grad_fn=&lt;NllLossBackward0&gt;)|\n",
              "|  9   |   0   | tensor(1.6083, device='cuda:0', grad_fn=&lt;NllLossBackward0&gt;)|\n",
              "| 10   |   0   | tensor(1.0611, device='cuda:0', grad_fn=&lt;NllLossBackward0&gt;)|\n",
              "| 11   |   0   | tensor(1.1714, device='cuda:0', grad_fn=&lt;NllLossBackward0&gt;)|\n",
              "| 12   |   0   | tensor(0.8093, device='cuda:0', grad_fn=&lt;NllLossBackward0&gt;)|\n",
              "| 13   |   0   | tensor(0.9345, device='cuda:0', grad_fn=&lt;NllLossBackward0&gt;)|\n",
              "| 14   |   0   | tensor(0.6203, device='cuda:0', grad_fn=&lt;NllLossBackward0&gt;)|\n",
              "| 15   |   0   | tensor(0.6688, device='cuda:0', grad_fn=&lt;NllLossBackward0&gt;)|\n",
              "| 16   |   0   | tensor(0.4351, device='cuda:0', grad_fn=&lt;NllLossBackward0&gt;)|\n",
              "| 17   |   0   | tensor(0.3193, device='cuda:0', grad_fn=&lt;NllLossBackward0&gt;)|\n",
              "+---------------------------------------------------------------------------+\n",
              "</pre>\n"
            ]
          },
          "metadata": {}
        },
        {
          "output_type": "display_data",
          "data": {
            "text/plain": [
              "\u001b[3m                               Training Status                               \u001b[0m\n",
              "+---------------------------------------------------------------------------+\n",
              "|\u001b[1mEpoch\u001b[0m\u001b[1m \u001b[0m|\u001b[1m \u001b[0m\u001b[1mSteps\u001b[0m\u001b[1m \u001b[0m|\u001b[1m \u001b[0m\u001b[1m                           Loss                            \u001b[0m|\n",
              "|------+-------+------------------------------------------------------------|\n",
              "|  0   |   0   | tensor(6.1972, device='cuda:0', grad_fn=<NllLossBackward0>)|\n",
              "|  1   |   0   | tensor(3.0858, device='cuda:0', grad_fn=<NllLossBackward0>)|\n",
              "|  2   |   0   | tensor(2.1546, device='cuda:0', grad_fn=<NllLossBackward0>)|\n",
              "|  3   |   0   | tensor(1.9599, device='cuda:0', grad_fn=<NllLossBackward0>)|\n",
              "|  4   |   0   | tensor(1.8993, device='cuda:0', grad_fn=<NllLossBackward0>)|\n",
              "|  5   |   0   | tensor(1.6444, device='cuda:0', grad_fn=<NllLossBackward0>)|\n",
              "|  6   |   0   | tensor(1.7095, device='cuda:0', grad_fn=<NllLossBackward0>)|\n",
              "|  7   |   0   | tensor(1.3065, device='cuda:0', grad_fn=<NllLossBackward0>)|\n",
              "|  8   |   0   | tensor(1.3618, device='cuda:0', grad_fn=<NllLossBackward0>)|\n",
              "|  9   |   0   | tensor(1.6083, device='cuda:0', grad_fn=<NllLossBackward0>)|\n",
              "| 10   |   0   | tensor(1.0611, device='cuda:0', grad_fn=<NllLossBackward0>)|\n",
              "| 11   |   0   | tensor(1.1714, device='cuda:0', grad_fn=<NllLossBackward0>)|\n",
              "| 12   |   0   | tensor(0.8093, device='cuda:0', grad_fn=<NllLossBackward0>)|\n",
              "| 13   |   0   | tensor(0.9345, device='cuda:0', grad_fn=<NllLossBackward0>)|\n",
              "| 14   |   0   | tensor(0.6203, device='cuda:0', grad_fn=<NllLossBackward0>)|\n",
              "| 15   |   0   | tensor(0.6688, device='cuda:0', grad_fn=<NllLossBackward0>)|\n",
              "| 16   |   0   | tensor(0.4351, device='cuda:0', grad_fn=<NllLossBackward0>)|\n",
              "| 17   |   0   | tensor(0.3193, device='cuda:0', grad_fn=<NllLossBackward0>)|\n",
              "| 18   |   0   | tensor(0.3476, device='cuda:0', grad_fn=<NllLossBackward0>)|\n",
              "+---------------------------------------------------------------------------+\n"
            ],
            "text/html": [
              "<pre style=\"white-space:pre;overflow-x:auto;line-height:normal;font-family:Menlo,'DejaVu Sans Mono',consolas,'Courier New',monospace\"><span style=\"font-style: italic\">                               Training Status                               </span>\n",
              "+---------------------------------------------------------------------------+\n",
              "|<span style=\"font-weight: bold\">Epoch </span>|<span style=\"font-weight: bold\"> Steps </span>|<span style=\"font-weight: bold\">                            Loss                            </span>|\n",
              "|------+-------+------------------------------------------------------------|\n",
              "|  0   |   0   | tensor(6.1972, device='cuda:0', grad_fn=&lt;NllLossBackward0&gt;)|\n",
              "|  1   |   0   | tensor(3.0858, device='cuda:0', grad_fn=&lt;NllLossBackward0&gt;)|\n",
              "|  2   |   0   | tensor(2.1546, device='cuda:0', grad_fn=&lt;NllLossBackward0&gt;)|\n",
              "|  3   |   0   | tensor(1.9599, device='cuda:0', grad_fn=&lt;NllLossBackward0&gt;)|\n",
              "|  4   |   0   | tensor(1.8993, device='cuda:0', grad_fn=&lt;NllLossBackward0&gt;)|\n",
              "|  5   |   0   | tensor(1.6444, device='cuda:0', grad_fn=&lt;NllLossBackward0&gt;)|\n",
              "|  6   |   0   | tensor(1.7095, device='cuda:0', grad_fn=&lt;NllLossBackward0&gt;)|\n",
              "|  7   |   0   | tensor(1.3065, device='cuda:0', grad_fn=&lt;NllLossBackward0&gt;)|\n",
              "|  8   |   0   | tensor(1.3618, device='cuda:0', grad_fn=&lt;NllLossBackward0&gt;)|\n",
              "|  9   |   0   | tensor(1.6083, device='cuda:0', grad_fn=&lt;NllLossBackward0&gt;)|\n",
              "| 10   |   0   | tensor(1.0611, device='cuda:0', grad_fn=&lt;NllLossBackward0&gt;)|\n",
              "| 11   |   0   | tensor(1.1714, device='cuda:0', grad_fn=&lt;NllLossBackward0&gt;)|\n",
              "| 12   |   0   | tensor(0.8093, device='cuda:0', grad_fn=&lt;NllLossBackward0&gt;)|\n",
              "| 13   |   0   | tensor(0.9345, device='cuda:0', grad_fn=&lt;NllLossBackward0&gt;)|\n",
              "| 14   |   0   | tensor(0.6203, device='cuda:0', grad_fn=&lt;NllLossBackward0&gt;)|\n",
              "| 15   |   0   | tensor(0.6688, device='cuda:0', grad_fn=&lt;NllLossBackward0&gt;)|\n",
              "| 16   |   0   | tensor(0.4351, device='cuda:0', grad_fn=&lt;NllLossBackward0&gt;)|\n",
              "| 17   |   0   | tensor(0.3193, device='cuda:0', grad_fn=&lt;NllLossBackward0&gt;)|\n",
              "| 18   |   0   | tensor(0.3476, device='cuda:0', grad_fn=&lt;NllLossBackward0&gt;)|\n",
              "+---------------------------------------------------------------------------+\n",
              "</pre>\n"
            ]
          },
          "metadata": {}
        },
        {
          "output_type": "display_data",
          "data": {
            "text/plain": [
              "\u001b[3m                               Training Status                               \u001b[0m\n",
              "+---------------------------------------------------------------------------+\n",
              "|\u001b[1mEpoch\u001b[0m\u001b[1m \u001b[0m|\u001b[1m \u001b[0m\u001b[1mSteps\u001b[0m\u001b[1m \u001b[0m|\u001b[1m \u001b[0m\u001b[1m                           Loss                            \u001b[0m|\n",
              "|------+-------+------------------------------------------------------------|\n",
              "|  0   |   0   | tensor(6.1972, device='cuda:0', grad_fn=<NllLossBackward0>)|\n",
              "|  1   |   0   | tensor(3.0858, device='cuda:0', grad_fn=<NllLossBackward0>)|\n",
              "|  2   |   0   | tensor(2.1546, device='cuda:0', grad_fn=<NllLossBackward0>)|\n",
              "|  3   |   0   | tensor(1.9599, device='cuda:0', grad_fn=<NllLossBackward0>)|\n",
              "|  4   |   0   | tensor(1.8993, device='cuda:0', grad_fn=<NllLossBackward0>)|\n",
              "|  5   |   0   | tensor(1.6444, device='cuda:0', grad_fn=<NllLossBackward0>)|\n",
              "|  6   |   0   | tensor(1.7095, device='cuda:0', grad_fn=<NllLossBackward0>)|\n",
              "|  7   |   0   | tensor(1.3065, device='cuda:0', grad_fn=<NllLossBackward0>)|\n",
              "|  8   |   0   | tensor(1.3618, device='cuda:0', grad_fn=<NllLossBackward0>)|\n",
              "|  9   |   0   | tensor(1.6083, device='cuda:0', grad_fn=<NllLossBackward0>)|\n",
              "| 10   |   0   | tensor(1.0611, device='cuda:0', grad_fn=<NllLossBackward0>)|\n",
              "| 11   |   0   | tensor(1.1714, device='cuda:0', grad_fn=<NllLossBackward0>)|\n",
              "| 12   |   0   | tensor(0.8093, device='cuda:0', grad_fn=<NllLossBackward0>)|\n",
              "| 13   |   0   | tensor(0.9345, device='cuda:0', grad_fn=<NllLossBackward0>)|\n",
              "| 14   |   0   | tensor(0.6203, device='cuda:0', grad_fn=<NllLossBackward0>)|\n",
              "| 15   |   0   | tensor(0.6688, device='cuda:0', grad_fn=<NllLossBackward0>)|\n",
              "| 16   |   0   | tensor(0.4351, device='cuda:0', grad_fn=<NllLossBackward0>)|\n",
              "| 17   |   0   | tensor(0.3193, device='cuda:0', grad_fn=<NllLossBackward0>)|\n",
              "| 18   |   0   | tensor(0.3476, device='cuda:0', grad_fn=<NllLossBackward0>)|\n",
              "| 19   |   0   | tensor(0.4274, device='cuda:0', grad_fn=<NllLossBackward0>)|\n",
              "+---------------------------------------------------------------------------+\n"
            ],
            "text/html": [
              "<pre style=\"white-space:pre;overflow-x:auto;line-height:normal;font-family:Menlo,'DejaVu Sans Mono',consolas,'Courier New',monospace\"><span style=\"font-style: italic\">                               Training Status                               </span>\n",
              "+---------------------------------------------------------------------------+\n",
              "|<span style=\"font-weight: bold\">Epoch </span>|<span style=\"font-weight: bold\"> Steps </span>|<span style=\"font-weight: bold\">                            Loss                            </span>|\n",
              "|------+-------+------------------------------------------------------------|\n",
              "|  0   |   0   | tensor(6.1972, device='cuda:0', grad_fn=&lt;NllLossBackward0&gt;)|\n",
              "|  1   |   0   | tensor(3.0858, device='cuda:0', grad_fn=&lt;NllLossBackward0&gt;)|\n",
              "|  2   |   0   | tensor(2.1546, device='cuda:0', grad_fn=&lt;NllLossBackward0&gt;)|\n",
              "|  3   |   0   | tensor(1.9599, device='cuda:0', grad_fn=&lt;NllLossBackward0&gt;)|\n",
              "|  4   |   0   | tensor(1.8993, device='cuda:0', grad_fn=&lt;NllLossBackward0&gt;)|\n",
              "|  5   |   0   | tensor(1.6444, device='cuda:0', grad_fn=&lt;NllLossBackward0&gt;)|\n",
              "|  6   |   0   | tensor(1.7095, device='cuda:0', grad_fn=&lt;NllLossBackward0&gt;)|\n",
              "|  7   |   0   | tensor(1.3065, device='cuda:0', grad_fn=&lt;NllLossBackward0&gt;)|\n",
              "|  8   |   0   | tensor(1.3618, device='cuda:0', grad_fn=&lt;NllLossBackward0&gt;)|\n",
              "|  9   |   0   | tensor(1.6083, device='cuda:0', grad_fn=&lt;NllLossBackward0&gt;)|\n",
              "| 10   |   0   | tensor(1.0611, device='cuda:0', grad_fn=&lt;NllLossBackward0&gt;)|\n",
              "| 11   |   0   | tensor(1.1714, device='cuda:0', grad_fn=&lt;NllLossBackward0&gt;)|\n",
              "| 12   |   0   | tensor(0.8093, device='cuda:0', grad_fn=&lt;NllLossBackward0&gt;)|\n",
              "| 13   |   0   | tensor(0.9345, device='cuda:0', grad_fn=&lt;NllLossBackward0&gt;)|\n",
              "| 14   |   0   | tensor(0.6203, device='cuda:0', grad_fn=&lt;NllLossBackward0&gt;)|\n",
              "| 15   |   0   | tensor(0.6688, device='cuda:0', grad_fn=&lt;NllLossBackward0&gt;)|\n",
              "| 16   |   0   | tensor(0.4351, device='cuda:0', grad_fn=&lt;NllLossBackward0&gt;)|\n",
              "| 17   |   0   | tensor(0.3193, device='cuda:0', grad_fn=&lt;NllLossBackward0&gt;)|\n",
              "| 18   |   0   | tensor(0.3476, device='cuda:0', grad_fn=&lt;NllLossBackward0&gt;)|\n",
              "| 19   |   0   | tensor(0.4274, device='cuda:0', grad_fn=&lt;NllLossBackward0&gt;)|\n",
              "+---------------------------------------------------------------------------+\n",
              "</pre>\n"
            ]
          },
          "metadata": {}
        },
        {
          "output_type": "display_data",
          "data": {
            "text/plain": [
              "\u001b[3m                               Training Status                               \u001b[0m\n",
              "+---------------------------------------------------------------------------+\n",
              "|\u001b[1mEpoch\u001b[0m\u001b[1m \u001b[0m|\u001b[1m \u001b[0m\u001b[1mSteps\u001b[0m\u001b[1m \u001b[0m|\u001b[1m \u001b[0m\u001b[1m                           Loss                            \u001b[0m|\n",
              "|------+-------+------------------------------------------------------------|\n",
              "|  0   |   0   | tensor(6.1972, device='cuda:0', grad_fn=<NllLossBackward0>)|\n",
              "|  1   |   0   | tensor(3.0858, device='cuda:0', grad_fn=<NllLossBackward0>)|\n",
              "|  2   |   0   | tensor(2.1546, device='cuda:0', grad_fn=<NllLossBackward0>)|\n",
              "|  3   |   0   | tensor(1.9599, device='cuda:0', grad_fn=<NllLossBackward0>)|\n",
              "|  4   |   0   | tensor(1.8993, device='cuda:0', grad_fn=<NllLossBackward0>)|\n",
              "|  5   |   0   | tensor(1.6444, device='cuda:0', grad_fn=<NllLossBackward0>)|\n",
              "|  6   |   0   | tensor(1.7095, device='cuda:0', grad_fn=<NllLossBackward0>)|\n",
              "|  7   |   0   | tensor(1.3065, device='cuda:0', grad_fn=<NllLossBackward0>)|\n",
              "|  8   |   0   | tensor(1.3618, device='cuda:0', grad_fn=<NllLossBackward0>)|\n",
              "|  9   |   0   | tensor(1.6083, device='cuda:0', grad_fn=<NllLossBackward0>)|\n",
              "| 10   |   0   | tensor(1.0611, device='cuda:0', grad_fn=<NllLossBackward0>)|\n",
              "| 11   |   0   | tensor(1.1714, device='cuda:0', grad_fn=<NllLossBackward0>)|\n",
              "| 12   |   0   | tensor(0.8093, device='cuda:0', grad_fn=<NllLossBackward0>)|\n",
              "| 13   |   0   | tensor(0.9345, device='cuda:0', grad_fn=<NllLossBackward0>)|\n",
              "| 14   |   0   | tensor(0.6203, device='cuda:0', grad_fn=<NllLossBackward0>)|\n",
              "| 15   |   0   | tensor(0.6688, device='cuda:0', grad_fn=<NllLossBackward0>)|\n",
              "| 16   |   0   | tensor(0.4351, device='cuda:0', grad_fn=<NllLossBackward0>)|\n",
              "| 17   |   0   | tensor(0.3193, device='cuda:0', grad_fn=<NllLossBackward0>)|\n",
              "| 18   |   0   | tensor(0.3476, device='cuda:0', grad_fn=<NllLossBackward0>)|\n",
              "| 19   |   0   | tensor(0.4274, device='cuda:0', grad_fn=<NllLossBackward0>)|\n",
              "| 20   |   0   | tensor(0.2258, device='cuda:0', grad_fn=<NllLossBackward0>)|\n",
              "+---------------------------------------------------------------------------+\n"
            ],
            "text/html": [
              "<pre style=\"white-space:pre;overflow-x:auto;line-height:normal;font-family:Menlo,'DejaVu Sans Mono',consolas,'Courier New',monospace\"><span style=\"font-style: italic\">                               Training Status                               </span>\n",
              "+---------------------------------------------------------------------------+\n",
              "|<span style=\"font-weight: bold\">Epoch </span>|<span style=\"font-weight: bold\"> Steps </span>|<span style=\"font-weight: bold\">                            Loss                            </span>|\n",
              "|------+-------+------------------------------------------------------------|\n",
              "|  0   |   0   | tensor(6.1972, device='cuda:0', grad_fn=&lt;NllLossBackward0&gt;)|\n",
              "|  1   |   0   | tensor(3.0858, device='cuda:0', grad_fn=&lt;NllLossBackward0&gt;)|\n",
              "|  2   |   0   | tensor(2.1546, device='cuda:0', grad_fn=&lt;NllLossBackward0&gt;)|\n",
              "|  3   |   0   | tensor(1.9599, device='cuda:0', grad_fn=&lt;NllLossBackward0&gt;)|\n",
              "|  4   |   0   | tensor(1.8993, device='cuda:0', grad_fn=&lt;NllLossBackward0&gt;)|\n",
              "|  5   |   0   | tensor(1.6444, device='cuda:0', grad_fn=&lt;NllLossBackward0&gt;)|\n",
              "|  6   |   0   | tensor(1.7095, device='cuda:0', grad_fn=&lt;NllLossBackward0&gt;)|\n",
              "|  7   |   0   | tensor(1.3065, device='cuda:0', grad_fn=&lt;NllLossBackward0&gt;)|\n",
              "|  8   |   0   | tensor(1.3618, device='cuda:0', grad_fn=&lt;NllLossBackward0&gt;)|\n",
              "|  9   |   0   | tensor(1.6083, device='cuda:0', grad_fn=&lt;NllLossBackward0&gt;)|\n",
              "| 10   |   0   | tensor(1.0611, device='cuda:0', grad_fn=&lt;NllLossBackward0&gt;)|\n",
              "| 11   |   0   | tensor(1.1714, device='cuda:0', grad_fn=&lt;NllLossBackward0&gt;)|\n",
              "| 12   |   0   | tensor(0.8093, device='cuda:0', grad_fn=&lt;NllLossBackward0&gt;)|\n",
              "| 13   |   0   | tensor(0.9345, device='cuda:0', grad_fn=&lt;NllLossBackward0&gt;)|\n",
              "| 14   |   0   | tensor(0.6203, device='cuda:0', grad_fn=&lt;NllLossBackward0&gt;)|\n",
              "| 15   |   0   | tensor(0.6688, device='cuda:0', grad_fn=&lt;NllLossBackward0&gt;)|\n",
              "| 16   |   0   | tensor(0.4351, device='cuda:0', grad_fn=&lt;NllLossBackward0&gt;)|\n",
              "| 17   |   0   | tensor(0.3193, device='cuda:0', grad_fn=&lt;NllLossBackward0&gt;)|\n",
              "| 18   |   0   | tensor(0.3476, device='cuda:0', grad_fn=&lt;NllLossBackward0&gt;)|\n",
              "| 19   |   0   | tensor(0.4274, device='cuda:0', grad_fn=&lt;NllLossBackward0&gt;)|\n",
              "| 20   |   0   | tensor(0.2258, device='cuda:0', grad_fn=&lt;NllLossBackward0&gt;)|\n",
              "+---------------------------------------------------------------------------+\n",
              "</pre>\n"
            ]
          },
          "metadata": {}
        },
        {
          "output_type": "display_data",
          "data": {
            "text/plain": [
              "\u001b[3m                               Training Status                               \u001b[0m\n",
              "+---------------------------------------------------------------------------+\n",
              "|\u001b[1mEpoch\u001b[0m\u001b[1m \u001b[0m|\u001b[1m \u001b[0m\u001b[1mSteps\u001b[0m\u001b[1m \u001b[0m|\u001b[1m \u001b[0m\u001b[1m                           Loss                            \u001b[0m|\n",
              "|------+-------+------------------------------------------------------------|\n",
              "|  0   |   0   | tensor(6.1972, device='cuda:0', grad_fn=<NllLossBackward0>)|\n",
              "|  1   |   0   | tensor(3.0858, device='cuda:0', grad_fn=<NllLossBackward0>)|\n",
              "|  2   |   0   | tensor(2.1546, device='cuda:0', grad_fn=<NllLossBackward0>)|\n",
              "|  3   |   0   | tensor(1.9599, device='cuda:0', grad_fn=<NllLossBackward0>)|\n",
              "|  4   |   0   | tensor(1.8993, device='cuda:0', grad_fn=<NllLossBackward0>)|\n",
              "|  5   |   0   | tensor(1.6444, device='cuda:0', grad_fn=<NllLossBackward0>)|\n",
              "|  6   |   0   | tensor(1.7095, device='cuda:0', grad_fn=<NllLossBackward0>)|\n",
              "|  7   |   0   | tensor(1.3065, device='cuda:0', grad_fn=<NllLossBackward0>)|\n",
              "|  8   |   0   | tensor(1.3618, device='cuda:0', grad_fn=<NllLossBackward0>)|\n",
              "|  9   |   0   | tensor(1.6083, device='cuda:0', grad_fn=<NllLossBackward0>)|\n",
              "| 10   |   0   | tensor(1.0611, device='cuda:0', grad_fn=<NllLossBackward0>)|\n",
              "| 11   |   0   | tensor(1.1714, device='cuda:0', grad_fn=<NllLossBackward0>)|\n",
              "| 12   |   0   | tensor(0.8093, device='cuda:0', grad_fn=<NllLossBackward0>)|\n",
              "| 13   |   0   | tensor(0.9345, device='cuda:0', grad_fn=<NllLossBackward0>)|\n",
              "| 14   |   0   | tensor(0.6203, device='cuda:0', grad_fn=<NllLossBackward0>)|\n",
              "| 15   |   0   | tensor(0.6688, device='cuda:0', grad_fn=<NllLossBackward0>)|\n",
              "| 16   |   0   | tensor(0.4351, device='cuda:0', grad_fn=<NllLossBackward0>)|\n",
              "| 17   |   0   | tensor(0.3193, device='cuda:0', grad_fn=<NllLossBackward0>)|\n",
              "| 18   |   0   | tensor(0.3476, device='cuda:0', grad_fn=<NllLossBackward0>)|\n",
              "| 19   |   0   | tensor(0.4274, device='cuda:0', grad_fn=<NllLossBackward0>)|\n",
              "| 20   |   0   | tensor(0.2258, device='cuda:0', grad_fn=<NllLossBackward0>)|\n",
              "| 21   |   0   | tensor(0.2899, device='cuda:0', grad_fn=<NllLossBackward0>)|\n",
              "+---------------------------------------------------------------------------+\n"
            ],
            "text/html": [
              "<pre style=\"white-space:pre;overflow-x:auto;line-height:normal;font-family:Menlo,'DejaVu Sans Mono',consolas,'Courier New',monospace\"><span style=\"font-style: italic\">                               Training Status                               </span>\n",
              "+---------------------------------------------------------------------------+\n",
              "|<span style=\"font-weight: bold\">Epoch </span>|<span style=\"font-weight: bold\"> Steps </span>|<span style=\"font-weight: bold\">                            Loss                            </span>|\n",
              "|------+-------+------------------------------------------------------------|\n",
              "|  0   |   0   | tensor(6.1972, device='cuda:0', grad_fn=&lt;NllLossBackward0&gt;)|\n",
              "|  1   |   0   | tensor(3.0858, device='cuda:0', grad_fn=&lt;NllLossBackward0&gt;)|\n",
              "|  2   |   0   | tensor(2.1546, device='cuda:0', grad_fn=&lt;NllLossBackward0&gt;)|\n",
              "|  3   |   0   | tensor(1.9599, device='cuda:0', grad_fn=&lt;NllLossBackward0&gt;)|\n",
              "|  4   |   0   | tensor(1.8993, device='cuda:0', grad_fn=&lt;NllLossBackward0&gt;)|\n",
              "|  5   |   0   | tensor(1.6444, device='cuda:0', grad_fn=&lt;NllLossBackward0&gt;)|\n",
              "|  6   |   0   | tensor(1.7095, device='cuda:0', grad_fn=&lt;NllLossBackward0&gt;)|\n",
              "|  7   |   0   | tensor(1.3065, device='cuda:0', grad_fn=&lt;NllLossBackward0&gt;)|\n",
              "|  8   |   0   | tensor(1.3618, device='cuda:0', grad_fn=&lt;NllLossBackward0&gt;)|\n",
              "|  9   |   0   | tensor(1.6083, device='cuda:0', grad_fn=&lt;NllLossBackward0&gt;)|\n",
              "| 10   |   0   | tensor(1.0611, device='cuda:0', grad_fn=&lt;NllLossBackward0&gt;)|\n",
              "| 11   |   0   | tensor(1.1714, device='cuda:0', grad_fn=&lt;NllLossBackward0&gt;)|\n",
              "| 12   |   0   | tensor(0.8093, device='cuda:0', grad_fn=&lt;NllLossBackward0&gt;)|\n",
              "| 13   |   0   | tensor(0.9345, device='cuda:0', grad_fn=&lt;NllLossBackward0&gt;)|\n",
              "| 14   |   0   | tensor(0.6203, device='cuda:0', grad_fn=&lt;NllLossBackward0&gt;)|\n",
              "| 15   |   0   | tensor(0.6688, device='cuda:0', grad_fn=&lt;NllLossBackward0&gt;)|\n",
              "| 16   |   0   | tensor(0.4351, device='cuda:0', grad_fn=&lt;NllLossBackward0&gt;)|\n",
              "| 17   |   0   | tensor(0.3193, device='cuda:0', grad_fn=&lt;NllLossBackward0&gt;)|\n",
              "| 18   |   0   | tensor(0.3476, device='cuda:0', grad_fn=&lt;NllLossBackward0&gt;)|\n",
              "| 19   |   0   | tensor(0.4274, device='cuda:0', grad_fn=&lt;NllLossBackward0&gt;)|\n",
              "| 20   |   0   | tensor(0.2258, device='cuda:0', grad_fn=&lt;NllLossBackward0&gt;)|\n",
              "| 21   |   0   | tensor(0.2899, device='cuda:0', grad_fn=&lt;NllLossBackward0&gt;)|\n",
              "+---------------------------------------------------------------------------+\n",
              "</pre>\n"
            ]
          },
          "metadata": {}
        },
        {
          "output_type": "display_data",
          "data": {
            "text/plain": [
              "\u001b[3m                               Training Status                               \u001b[0m\n",
              "+---------------------------------------------------------------------------+\n",
              "|\u001b[1mEpoch\u001b[0m\u001b[1m \u001b[0m|\u001b[1m \u001b[0m\u001b[1mSteps\u001b[0m\u001b[1m \u001b[0m|\u001b[1m \u001b[0m\u001b[1m                           Loss                            \u001b[0m|\n",
              "|------+-------+------------------------------------------------------------|\n",
              "|  0   |   0   | tensor(6.1972, device='cuda:0', grad_fn=<NllLossBackward0>)|\n",
              "|  1   |   0   | tensor(3.0858, device='cuda:0', grad_fn=<NllLossBackward0>)|\n",
              "|  2   |   0   | tensor(2.1546, device='cuda:0', grad_fn=<NllLossBackward0>)|\n",
              "|  3   |   0   | tensor(1.9599, device='cuda:0', grad_fn=<NllLossBackward0>)|\n",
              "|  4   |   0   | tensor(1.8993, device='cuda:0', grad_fn=<NllLossBackward0>)|\n",
              "|  5   |   0   | tensor(1.6444, device='cuda:0', grad_fn=<NllLossBackward0>)|\n",
              "|  6   |   0   | tensor(1.7095, device='cuda:0', grad_fn=<NllLossBackward0>)|\n",
              "|  7   |   0   | tensor(1.3065, device='cuda:0', grad_fn=<NllLossBackward0>)|\n",
              "|  8   |   0   | tensor(1.3618, device='cuda:0', grad_fn=<NllLossBackward0>)|\n",
              "|  9   |   0   | tensor(1.6083, device='cuda:0', grad_fn=<NllLossBackward0>)|\n",
              "| 10   |   0   | tensor(1.0611, device='cuda:0', grad_fn=<NllLossBackward0>)|\n",
              "| 11   |   0   | tensor(1.1714, device='cuda:0', grad_fn=<NllLossBackward0>)|\n",
              "| 12   |   0   | tensor(0.8093, device='cuda:0', grad_fn=<NllLossBackward0>)|\n",
              "| 13   |   0   | tensor(0.9345, device='cuda:0', grad_fn=<NllLossBackward0>)|\n",
              "| 14   |   0   | tensor(0.6203, device='cuda:0', grad_fn=<NllLossBackward0>)|\n",
              "| 15   |   0   | tensor(0.6688, device='cuda:0', grad_fn=<NllLossBackward0>)|\n",
              "| 16   |   0   | tensor(0.4351, device='cuda:0', grad_fn=<NllLossBackward0>)|\n",
              "| 17   |   0   | tensor(0.3193, device='cuda:0', grad_fn=<NllLossBackward0>)|\n",
              "| 18   |   0   | tensor(0.3476, device='cuda:0', grad_fn=<NllLossBackward0>)|\n",
              "| 19   |   0   | tensor(0.4274, device='cuda:0', grad_fn=<NllLossBackward0>)|\n",
              "| 20   |   0   | tensor(0.2258, device='cuda:0', grad_fn=<NllLossBackward0>)|\n",
              "| 21   |   0   | tensor(0.2899, device='cuda:0', grad_fn=<NllLossBackward0>)|\n",
              "| 22   |   0   | tensor(0.2310, device='cuda:0', grad_fn=<NllLossBackward0>)|\n",
              "+---------------------------------------------------------------------------+\n"
            ],
            "text/html": [
              "<pre style=\"white-space:pre;overflow-x:auto;line-height:normal;font-family:Menlo,'DejaVu Sans Mono',consolas,'Courier New',monospace\"><span style=\"font-style: italic\">                               Training Status                               </span>\n",
              "+---------------------------------------------------------------------------+\n",
              "|<span style=\"font-weight: bold\">Epoch </span>|<span style=\"font-weight: bold\"> Steps </span>|<span style=\"font-weight: bold\">                            Loss                            </span>|\n",
              "|------+-------+------------------------------------------------------------|\n",
              "|  0   |   0   | tensor(6.1972, device='cuda:0', grad_fn=&lt;NllLossBackward0&gt;)|\n",
              "|  1   |   0   | tensor(3.0858, device='cuda:0', grad_fn=&lt;NllLossBackward0&gt;)|\n",
              "|  2   |   0   | tensor(2.1546, device='cuda:0', grad_fn=&lt;NllLossBackward0&gt;)|\n",
              "|  3   |   0   | tensor(1.9599, device='cuda:0', grad_fn=&lt;NllLossBackward0&gt;)|\n",
              "|  4   |   0   | tensor(1.8993, device='cuda:0', grad_fn=&lt;NllLossBackward0&gt;)|\n",
              "|  5   |   0   | tensor(1.6444, device='cuda:0', grad_fn=&lt;NllLossBackward0&gt;)|\n",
              "|  6   |   0   | tensor(1.7095, device='cuda:0', grad_fn=&lt;NllLossBackward0&gt;)|\n",
              "|  7   |   0   | tensor(1.3065, device='cuda:0', grad_fn=&lt;NllLossBackward0&gt;)|\n",
              "|  8   |   0   | tensor(1.3618, device='cuda:0', grad_fn=&lt;NllLossBackward0&gt;)|\n",
              "|  9   |   0   | tensor(1.6083, device='cuda:0', grad_fn=&lt;NllLossBackward0&gt;)|\n",
              "| 10   |   0   | tensor(1.0611, device='cuda:0', grad_fn=&lt;NllLossBackward0&gt;)|\n",
              "| 11   |   0   | tensor(1.1714, device='cuda:0', grad_fn=&lt;NllLossBackward0&gt;)|\n",
              "| 12   |   0   | tensor(0.8093, device='cuda:0', grad_fn=&lt;NllLossBackward0&gt;)|\n",
              "| 13   |   0   | tensor(0.9345, device='cuda:0', grad_fn=&lt;NllLossBackward0&gt;)|\n",
              "| 14   |   0   | tensor(0.6203, device='cuda:0', grad_fn=&lt;NllLossBackward0&gt;)|\n",
              "| 15   |   0   | tensor(0.6688, device='cuda:0', grad_fn=&lt;NllLossBackward0&gt;)|\n",
              "| 16   |   0   | tensor(0.4351, device='cuda:0', grad_fn=&lt;NllLossBackward0&gt;)|\n",
              "| 17   |   0   | tensor(0.3193, device='cuda:0', grad_fn=&lt;NllLossBackward0&gt;)|\n",
              "| 18   |   0   | tensor(0.3476, device='cuda:0', grad_fn=&lt;NllLossBackward0&gt;)|\n",
              "| 19   |   0   | tensor(0.4274, device='cuda:0', grad_fn=&lt;NllLossBackward0&gt;)|\n",
              "| 20   |   0   | tensor(0.2258, device='cuda:0', grad_fn=&lt;NllLossBackward0&gt;)|\n",
              "| 21   |   0   | tensor(0.2899, device='cuda:0', grad_fn=&lt;NllLossBackward0&gt;)|\n",
              "| 22   |   0   | tensor(0.2310, device='cuda:0', grad_fn=&lt;NllLossBackward0&gt;)|\n",
              "+---------------------------------------------------------------------------+\n",
              "</pre>\n"
            ]
          },
          "metadata": {}
        },
        {
          "output_type": "display_data",
          "data": {
            "text/plain": [
              "\u001b[3m                               Training Status                               \u001b[0m\n",
              "+---------------------------------------------------------------------------+\n",
              "|\u001b[1mEpoch\u001b[0m\u001b[1m \u001b[0m|\u001b[1m \u001b[0m\u001b[1mSteps\u001b[0m\u001b[1m \u001b[0m|\u001b[1m \u001b[0m\u001b[1m                           Loss                            \u001b[0m|\n",
              "|------+-------+------------------------------------------------------------|\n",
              "|  0   |   0   | tensor(6.1972, device='cuda:0', grad_fn=<NllLossBackward0>)|\n",
              "|  1   |   0   | tensor(3.0858, device='cuda:0', grad_fn=<NllLossBackward0>)|\n",
              "|  2   |   0   | tensor(2.1546, device='cuda:0', grad_fn=<NllLossBackward0>)|\n",
              "|  3   |   0   | tensor(1.9599, device='cuda:0', grad_fn=<NllLossBackward0>)|\n",
              "|  4   |   0   | tensor(1.8993, device='cuda:0', grad_fn=<NllLossBackward0>)|\n",
              "|  5   |   0   | tensor(1.6444, device='cuda:0', grad_fn=<NllLossBackward0>)|\n",
              "|  6   |   0   | tensor(1.7095, device='cuda:0', grad_fn=<NllLossBackward0>)|\n",
              "|  7   |   0   | tensor(1.3065, device='cuda:0', grad_fn=<NllLossBackward0>)|\n",
              "|  8   |   0   | tensor(1.3618, device='cuda:0', grad_fn=<NllLossBackward0>)|\n",
              "|  9   |   0   | tensor(1.6083, device='cuda:0', grad_fn=<NllLossBackward0>)|\n",
              "| 10   |   0   | tensor(1.0611, device='cuda:0', grad_fn=<NllLossBackward0>)|\n",
              "| 11   |   0   | tensor(1.1714, device='cuda:0', grad_fn=<NllLossBackward0>)|\n",
              "| 12   |   0   | tensor(0.8093, device='cuda:0', grad_fn=<NllLossBackward0>)|\n",
              "| 13   |   0   | tensor(0.9345, device='cuda:0', grad_fn=<NllLossBackward0>)|\n",
              "| 14   |   0   | tensor(0.6203, device='cuda:0', grad_fn=<NllLossBackward0>)|\n",
              "| 15   |   0   | tensor(0.6688, device='cuda:0', grad_fn=<NllLossBackward0>)|\n",
              "| 16   |   0   | tensor(0.4351, device='cuda:0', grad_fn=<NllLossBackward0>)|\n",
              "| 17   |   0   | tensor(0.3193, device='cuda:0', grad_fn=<NllLossBackward0>)|\n",
              "| 18   |   0   | tensor(0.3476, device='cuda:0', grad_fn=<NllLossBackward0>)|\n",
              "| 19   |   0   | tensor(0.4274, device='cuda:0', grad_fn=<NllLossBackward0>)|\n",
              "| 20   |   0   | tensor(0.2258, device='cuda:0', grad_fn=<NllLossBackward0>)|\n",
              "| 21   |   0   | tensor(0.2899, device='cuda:0', grad_fn=<NllLossBackward0>)|\n",
              "| 22   |   0   | tensor(0.2310, device='cuda:0', grad_fn=<NllLossBackward0>)|\n",
              "| 23   |   0   | tensor(0.2047, device='cuda:0', grad_fn=<NllLossBackward0>)|\n",
              "+---------------------------------------------------------------------------+\n"
            ],
            "text/html": [
              "<pre style=\"white-space:pre;overflow-x:auto;line-height:normal;font-family:Menlo,'DejaVu Sans Mono',consolas,'Courier New',monospace\"><span style=\"font-style: italic\">                               Training Status                               </span>\n",
              "+---------------------------------------------------------------------------+\n",
              "|<span style=\"font-weight: bold\">Epoch </span>|<span style=\"font-weight: bold\"> Steps </span>|<span style=\"font-weight: bold\">                            Loss                            </span>|\n",
              "|------+-------+------------------------------------------------------------|\n",
              "|  0   |   0   | tensor(6.1972, device='cuda:0', grad_fn=&lt;NllLossBackward0&gt;)|\n",
              "|  1   |   0   | tensor(3.0858, device='cuda:0', grad_fn=&lt;NllLossBackward0&gt;)|\n",
              "|  2   |   0   | tensor(2.1546, device='cuda:0', grad_fn=&lt;NllLossBackward0&gt;)|\n",
              "|  3   |   0   | tensor(1.9599, device='cuda:0', grad_fn=&lt;NllLossBackward0&gt;)|\n",
              "|  4   |   0   | tensor(1.8993, device='cuda:0', grad_fn=&lt;NllLossBackward0&gt;)|\n",
              "|  5   |   0   | tensor(1.6444, device='cuda:0', grad_fn=&lt;NllLossBackward0&gt;)|\n",
              "|  6   |   0   | tensor(1.7095, device='cuda:0', grad_fn=&lt;NllLossBackward0&gt;)|\n",
              "|  7   |   0   | tensor(1.3065, device='cuda:0', grad_fn=&lt;NllLossBackward0&gt;)|\n",
              "|  8   |   0   | tensor(1.3618, device='cuda:0', grad_fn=&lt;NllLossBackward0&gt;)|\n",
              "|  9   |   0   | tensor(1.6083, device='cuda:0', grad_fn=&lt;NllLossBackward0&gt;)|\n",
              "| 10   |   0   | tensor(1.0611, device='cuda:0', grad_fn=&lt;NllLossBackward0&gt;)|\n",
              "| 11   |   0   | tensor(1.1714, device='cuda:0', grad_fn=&lt;NllLossBackward0&gt;)|\n",
              "| 12   |   0   | tensor(0.8093, device='cuda:0', grad_fn=&lt;NllLossBackward0&gt;)|\n",
              "| 13   |   0   | tensor(0.9345, device='cuda:0', grad_fn=&lt;NllLossBackward0&gt;)|\n",
              "| 14   |   0   | tensor(0.6203, device='cuda:0', grad_fn=&lt;NllLossBackward0&gt;)|\n",
              "| 15   |   0   | tensor(0.6688, device='cuda:0', grad_fn=&lt;NllLossBackward0&gt;)|\n",
              "| 16   |   0   | tensor(0.4351, device='cuda:0', grad_fn=&lt;NllLossBackward0&gt;)|\n",
              "| 17   |   0   | tensor(0.3193, device='cuda:0', grad_fn=&lt;NllLossBackward0&gt;)|\n",
              "| 18   |   0   | tensor(0.3476, device='cuda:0', grad_fn=&lt;NllLossBackward0&gt;)|\n",
              "| 19   |   0   | tensor(0.4274, device='cuda:0', grad_fn=&lt;NllLossBackward0&gt;)|\n",
              "| 20   |   0   | tensor(0.2258, device='cuda:0', grad_fn=&lt;NllLossBackward0&gt;)|\n",
              "| 21   |   0   | tensor(0.2899, device='cuda:0', grad_fn=&lt;NllLossBackward0&gt;)|\n",
              "| 22   |   0   | tensor(0.2310, device='cuda:0', grad_fn=&lt;NllLossBackward0&gt;)|\n",
              "| 23   |   0   | tensor(0.2047, device='cuda:0', grad_fn=&lt;NllLossBackward0&gt;)|\n",
              "+---------------------------------------------------------------------------+\n",
              "</pre>\n"
            ]
          },
          "metadata": {}
        },
        {
          "output_type": "display_data",
          "data": {
            "text/plain": [
              "\u001b[3m                               Training Status                               \u001b[0m\n",
              "+---------------------------------------------------------------------------+\n",
              "|\u001b[1mEpoch\u001b[0m\u001b[1m \u001b[0m|\u001b[1m \u001b[0m\u001b[1mSteps\u001b[0m\u001b[1m \u001b[0m|\u001b[1m \u001b[0m\u001b[1m                           Loss                            \u001b[0m|\n",
              "|------+-------+------------------------------------------------------------|\n",
              "|  0   |   0   | tensor(6.1972, device='cuda:0', grad_fn=<NllLossBackward0>)|\n",
              "|  1   |   0   | tensor(3.0858, device='cuda:0', grad_fn=<NllLossBackward0>)|\n",
              "|  2   |   0   | tensor(2.1546, device='cuda:0', grad_fn=<NllLossBackward0>)|\n",
              "|  3   |   0   | tensor(1.9599, device='cuda:0', grad_fn=<NllLossBackward0>)|\n",
              "|  4   |   0   | tensor(1.8993, device='cuda:0', grad_fn=<NllLossBackward0>)|\n",
              "|  5   |   0   | tensor(1.6444, device='cuda:0', grad_fn=<NllLossBackward0>)|\n",
              "|  6   |   0   | tensor(1.7095, device='cuda:0', grad_fn=<NllLossBackward0>)|\n",
              "|  7   |   0   | tensor(1.3065, device='cuda:0', grad_fn=<NllLossBackward0>)|\n",
              "|  8   |   0   | tensor(1.3618, device='cuda:0', grad_fn=<NllLossBackward0>)|\n",
              "|  9   |   0   | tensor(1.6083, device='cuda:0', grad_fn=<NllLossBackward0>)|\n",
              "| 10   |   0   | tensor(1.0611, device='cuda:0', grad_fn=<NllLossBackward0>)|\n",
              "| 11   |   0   | tensor(1.1714, device='cuda:0', grad_fn=<NllLossBackward0>)|\n",
              "| 12   |   0   | tensor(0.8093, device='cuda:0', grad_fn=<NllLossBackward0>)|\n",
              "| 13   |   0   | tensor(0.9345, device='cuda:0', grad_fn=<NllLossBackward0>)|\n",
              "| 14   |   0   | tensor(0.6203, device='cuda:0', grad_fn=<NllLossBackward0>)|\n",
              "| 15   |   0   | tensor(0.6688, device='cuda:0', grad_fn=<NllLossBackward0>)|\n",
              "| 16   |   0   | tensor(0.4351, device='cuda:0', grad_fn=<NllLossBackward0>)|\n",
              "| 17   |   0   | tensor(0.3193, device='cuda:0', grad_fn=<NllLossBackward0>)|\n",
              "| 18   |   0   | tensor(0.3476, device='cuda:0', grad_fn=<NllLossBackward0>)|\n",
              "| 19   |   0   | tensor(0.4274, device='cuda:0', grad_fn=<NllLossBackward0>)|\n",
              "| 20   |   0   | tensor(0.2258, device='cuda:0', grad_fn=<NllLossBackward0>)|\n",
              "| 21   |   0   | tensor(0.2899, device='cuda:0', grad_fn=<NllLossBackward0>)|\n",
              "| 22   |   0   | tensor(0.2310, device='cuda:0', grad_fn=<NllLossBackward0>)|\n",
              "| 23   |   0   | tensor(0.2047, device='cuda:0', grad_fn=<NllLossBackward0>)|\n",
              "| 24   |   0   | tensor(0.1795, device='cuda:0', grad_fn=<NllLossBackward0>)|\n",
              "+---------------------------------------------------------------------------+\n"
            ],
            "text/html": [
              "<pre style=\"white-space:pre;overflow-x:auto;line-height:normal;font-family:Menlo,'DejaVu Sans Mono',consolas,'Courier New',monospace\"><span style=\"font-style: italic\">                               Training Status                               </span>\n",
              "+---------------------------------------------------------------------------+\n",
              "|<span style=\"font-weight: bold\">Epoch </span>|<span style=\"font-weight: bold\"> Steps </span>|<span style=\"font-weight: bold\">                            Loss                            </span>|\n",
              "|------+-------+------------------------------------------------------------|\n",
              "|  0   |   0   | tensor(6.1972, device='cuda:0', grad_fn=&lt;NllLossBackward0&gt;)|\n",
              "|  1   |   0   | tensor(3.0858, device='cuda:0', grad_fn=&lt;NllLossBackward0&gt;)|\n",
              "|  2   |   0   | tensor(2.1546, device='cuda:0', grad_fn=&lt;NllLossBackward0&gt;)|\n",
              "|  3   |   0   | tensor(1.9599, device='cuda:0', grad_fn=&lt;NllLossBackward0&gt;)|\n",
              "|  4   |   0   | tensor(1.8993, device='cuda:0', grad_fn=&lt;NllLossBackward0&gt;)|\n",
              "|  5   |   0   | tensor(1.6444, device='cuda:0', grad_fn=&lt;NllLossBackward0&gt;)|\n",
              "|  6   |   0   | tensor(1.7095, device='cuda:0', grad_fn=&lt;NllLossBackward0&gt;)|\n",
              "|  7   |   0   | tensor(1.3065, device='cuda:0', grad_fn=&lt;NllLossBackward0&gt;)|\n",
              "|  8   |   0   | tensor(1.3618, device='cuda:0', grad_fn=&lt;NllLossBackward0&gt;)|\n",
              "|  9   |   0   | tensor(1.6083, device='cuda:0', grad_fn=&lt;NllLossBackward0&gt;)|\n",
              "| 10   |   0   | tensor(1.0611, device='cuda:0', grad_fn=&lt;NllLossBackward0&gt;)|\n",
              "| 11   |   0   | tensor(1.1714, device='cuda:0', grad_fn=&lt;NllLossBackward0&gt;)|\n",
              "| 12   |   0   | tensor(0.8093, device='cuda:0', grad_fn=&lt;NllLossBackward0&gt;)|\n",
              "| 13   |   0   | tensor(0.9345, device='cuda:0', grad_fn=&lt;NllLossBackward0&gt;)|\n",
              "| 14   |   0   | tensor(0.6203, device='cuda:0', grad_fn=&lt;NllLossBackward0&gt;)|\n",
              "| 15   |   0   | tensor(0.6688, device='cuda:0', grad_fn=&lt;NllLossBackward0&gt;)|\n",
              "| 16   |   0   | tensor(0.4351, device='cuda:0', grad_fn=&lt;NllLossBackward0&gt;)|\n",
              "| 17   |   0   | tensor(0.3193, device='cuda:0', grad_fn=&lt;NllLossBackward0&gt;)|\n",
              "| 18   |   0   | tensor(0.3476, device='cuda:0', grad_fn=&lt;NllLossBackward0&gt;)|\n",
              "| 19   |   0   | tensor(0.4274, device='cuda:0', grad_fn=&lt;NllLossBackward0&gt;)|\n",
              "| 20   |   0   | tensor(0.2258, device='cuda:0', grad_fn=&lt;NllLossBackward0&gt;)|\n",
              "| 21   |   0   | tensor(0.2899, device='cuda:0', grad_fn=&lt;NllLossBackward0&gt;)|\n",
              "| 22   |   0   | tensor(0.2310, device='cuda:0', grad_fn=&lt;NllLossBackward0&gt;)|\n",
              "| 23   |   0   | tensor(0.2047, device='cuda:0', grad_fn=&lt;NllLossBackward0&gt;)|\n",
              "| 24   |   0   | tensor(0.1795, device='cuda:0', grad_fn=&lt;NllLossBackward0&gt;)|\n",
              "+---------------------------------------------------------------------------+\n",
              "</pre>\n"
            ]
          },
          "metadata": {}
        },
        {
          "output_type": "display_data",
          "data": {
            "text/plain": [
              "\u001b[2;36m[00:10:53]\u001b[0m\u001b[2;36m \u001b[0m\u001b[1m[\u001b[0mSaving Model\u001b[1m]\u001b[0m\u001b[33m...\u001b[0m                                                     \u001b[2m<ipython-input-54-7b71c3c408ea>:79\u001b[0m\n",
              "\u001b[2;36m           \u001b[0m                                                                      \u001b[2m                                  \u001b[0m\n"
            ],
            "text/html": [
              "<pre style=\"white-space:pre;overflow-x:auto;line-height:normal;font-family:Menlo,'DejaVu Sans Mono',consolas,'Courier New',monospace\"><span style=\"color: #7fbfbf; text-decoration-color: #7fbfbf\">[00:10:53] </span><span style=\"font-weight: bold\">[</span>Saving Model<span style=\"font-weight: bold\">]</span><span style=\"color: #808000; text-decoration-color: #808000\">...</span>                                                     <span style=\"color: #7f7f7f; text-decoration-color: #7f7f7f\">&lt;ipython-input-54-7b71c3c408ea&gt;:79</span>\n",
              "<span style=\"color: #7fbfbf; text-decoration-color: #7fbfbf\">           </span>                                                                      <span style=\"color: #7f7f7f; text-decoration-color: #7f7f7f\">                                  </span>\n",
              "</pre>\n"
            ]
          },
          "metadata": {}
        },
        {
          "output_type": "display_data",
          "data": {
            "text/plain": [
              "\u001b[2;36m[00:10:57]\u001b[0m\u001b[2;36m \u001b[0m\u001b[1m[\u001b[0mInitiating Validation\u001b[1m]\u001b[0m\u001b[33m...\u001b[0m                                            \u001b[2m<ipython-input-54-7b71c3c408ea>:87\u001b[0m\n",
              "\u001b[2;36m           \u001b[0m                                                                      \u001b[2m                                  \u001b[0m\n"
            ],
            "text/html": [
              "<pre style=\"white-space:pre;overflow-x:auto;line-height:normal;font-family:Menlo,'DejaVu Sans Mono',consolas,'Courier New',monospace\"><span style=\"color: #7fbfbf; text-decoration-color: #7fbfbf\">[00:10:57] </span><span style=\"font-weight: bold\">[</span>Initiating Validation<span style=\"font-weight: bold\">]</span><span style=\"color: #808000; text-decoration-color: #808000\">...</span>                                            <span style=\"color: #7f7f7f; text-decoration-color: #7f7f7f\">&lt;ipython-input-54-7b71c3c408ea&gt;:87</span>\n",
              "<span style=\"color: #7fbfbf; text-decoration-color: #7fbfbf\">           </span>                                                                      <span style=\"color: #7f7f7f; text-decoration-color: #7f7f7f\">                                  </span>\n",
              "</pre>\n"
            ]
          },
          "metadata": {}
        },
        {
          "output_type": "display_data",
          "data": {
            "text/plain": [
              "Completed \u001b[1;36m0\u001b[0m\n"
            ],
            "text/html": [
              "<pre style=\"white-space:pre;overflow-x:auto;line-height:normal;font-family:Menlo,'DejaVu Sans Mono',consolas,'Courier New',monospace\">Completed <span style=\"color: #008080; text-decoration-color: #008080; font-weight: bold\">0</span>\n",
              "</pre>\n"
            ]
          },
          "metadata": {}
        },
        {
          "output_type": "display_data",
          "data": {
            "text/plain": [
              "\u001b[2;36m[00:11:04]\u001b[0m\u001b[2;36m \u001b[0m\u001b[1m[\u001b[0mValidation Completed.\u001b[1m]\u001b[0m                                               \u001b[2m<ipython-input-54-7b71c3c408ea>:95\u001b[0m\n",
              "\u001b[2;36m           \u001b[0m                                                                      \u001b[2m                                  \u001b[0m\n"
            ],
            "text/html": [
              "<pre style=\"white-space:pre;overflow-x:auto;line-height:normal;font-family:Menlo,'DejaVu Sans Mono',consolas,'Courier New',monospace\"><span style=\"color: #7fbfbf; text-decoration-color: #7fbfbf\">[00:11:04] </span><span style=\"font-weight: bold\">[</span>Validation Completed.<span style=\"font-weight: bold\">]</span>                                               <span style=\"color: #7f7f7f; text-decoration-color: #7f7f7f\">&lt;ipython-input-54-7b71c3c408ea&gt;:95</span>\n",
              "<span style=\"color: #7fbfbf; text-decoration-color: #7fbfbf\">           </span>                                                                      <span style=\"color: #7f7f7f; text-decoration-color: #7f7f7f\">                                  </span>\n",
              "</pre>\n"
            ]
          },
          "metadata": {}
        },
        {
          "output_type": "display_data",
          "data": {
            "text/plain": [
              "\u001b[1m[\u001b[0mModel\u001b[1m]\u001b[0m Model saved @ outputs/model_files\n",
              "\n"
            ],
            "text/html": [
              "<pre style=\"white-space:pre;overflow-x:auto;line-height:normal;font-family:Menlo,'DejaVu Sans Mono',consolas,'Courier New',monospace\"><span style=\"font-weight: bold\">[</span>Model<span style=\"font-weight: bold\">]</span> Model saved @ outputs/model_files\n",
              "\n",
              "</pre>\n"
            ]
          },
          "metadata": {}
        },
        {
          "output_type": "display_data",
          "data": {
            "text/plain": [
              "\u001b[1m[\u001b[0mValidation\u001b[1m]\u001b[0m Generation on Validation data saved @ outputs/predictions.csv\n",
              "\n"
            ],
            "text/html": [
              "<pre style=\"white-space:pre;overflow-x:auto;line-height:normal;font-family:Menlo,'DejaVu Sans Mono',consolas,'Courier New',monospace\"><span style=\"font-weight: bold\">[</span>Validation<span style=\"font-weight: bold\">]</span> Generation on Validation data saved @ outputs/predictions.csv\n",
              "\n",
              "</pre>\n"
            ]
          },
          "metadata": {}
        },
        {
          "output_type": "display_data",
          "data": {
            "text/plain": [
              "\u001b[1m[\u001b[0mLogs\u001b[1m]\u001b[0m Logs saved @ outputs/logs.txt\n",
              "\n"
            ],
            "text/html": [
              "<pre style=\"white-space:pre;overflow-x:auto;line-height:normal;font-family:Menlo,'DejaVu Sans Mono',consolas,'Courier New',monospace\"><span style=\"font-weight: bold\">[</span>Logs<span style=\"font-weight: bold\">]</span> Logs saved @ outputs/logs.txt\n",
              "\n",
              "</pre>\n"
            ]
          },
          "metadata": {}
        }
      ]
    },
    {
      "cell_type": "code",
      "source": [
        "import pandas as pd"
      ],
      "metadata": {
        "id": "Mk_-LfLX0uld"
      },
      "execution_count": null,
      "outputs": []
    },
    {
      "cell_type": "code",
      "source": [
        "test_df = pd.read_csv('/content/train.csv')\n",
        "test_df.head(2)\n"
      ],
      "metadata": {
        "colab": {
          "base_uri": "https://localhost:8080/",
          "height": 112
        },
        "id": "AOO_b4MPxqNq",
        "outputId": "bf478a91-02d3-434c-a9e5-432ab908b33b"
      },
      "execution_count": null,
      "outputs": [
        {
          "output_type": "execute_result",
          "data": {
            "text/plain": [
              "                                         id  \\\n",
              "0  61df4979ac5fcc2b71be46ed6fe5a46ce7f071c3   \n",
              "1  21c0bd69b7e7df285c3d1b1cf56d4da925980a68   \n",
              "\n",
              "                                             article  \\\n",
              "0  Sally Forrest, an actress-dancer who graced th...   \n",
              "1  A middle-school teacher in China has inked hun...   \n",
              "\n",
              "                                          highlights  \n",
              "0  Sally Forrest, an actress-dancer who graced th...  \n",
              "1  Works include pictures of Presidential Palace ...  "
            ],
            "text/html": [
              "\n",
              "  <div id=\"df-16b78a26-60d8-4945-b8cc-286af6fa1aa7\" class=\"colab-df-container\">\n",
              "    <div>\n",
              "<style scoped>\n",
              "    .dataframe tbody tr th:only-of-type {\n",
              "        vertical-align: middle;\n",
              "    }\n",
              "\n",
              "    .dataframe tbody tr th {\n",
              "        vertical-align: top;\n",
              "    }\n",
              "\n",
              "    .dataframe thead th {\n",
              "        text-align: right;\n",
              "    }\n",
              "</style>\n",
              "<table border=\"1\" class=\"dataframe\">\n",
              "  <thead>\n",
              "    <tr style=\"text-align: right;\">\n",
              "      <th></th>\n",
              "      <th>id</th>\n",
              "      <th>article</th>\n",
              "      <th>highlights</th>\n",
              "    </tr>\n",
              "  </thead>\n",
              "  <tbody>\n",
              "    <tr>\n",
              "      <th>0</th>\n",
              "      <td>61df4979ac5fcc2b71be46ed6fe5a46ce7f071c3</td>\n",
              "      <td>Sally Forrest, an actress-dancer who graced th...</td>\n",
              "      <td>Sally Forrest, an actress-dancer who graced th...</td>\n",
              "    </tr>\n",
              "    <tr>\n",
              "      <th>1</th>\n",
              "      <td>21c0bd69b7e7df285c3d1b1cf56d4da925980a68</td>\n",
              "      <td>A middle-school teacher in China has inked hun...</td>\n",
              "      <td>Works include pictures of Presidential Palace ...</td>\n",
              "    </tr>\n",
              "  </tbody>\n",
              "</table>\n",
              "</div>\n",
              "    <div class=\"colab-df-buttons\">\n",
              "\n",
              "  <div class=\"colab-df-container\">\n",
              "    <button class=\"colab-df-convert\" onclick=\"convertToInteractive('df-16b78a26-60d8-4945-b8cc-286af6fa1aa7')\"\n",
              "            title=\"Convert this dataframe to an interactive table.\"\n",
              "            style=\"display:none;\">\n",
              "\n",
              "  <svg xmlns=\"http://www.w3.org/2000/svg\" height=\"24px\" viewBox=\"0 -960 960 960\">\n",
              "    <path d=\"M120-120v-720h720v720H120Zm60-500h600v-160H180v160Zm220 220h160v-160H400v160Zm0 220h160v-160H400v160ZM180-400h160v-160H180v160Zm440 0h160v-160H620v160ZM180-180h160v-160H180v160Zm440 0h160v-160H620v160Z\"/>\n",
              "  </svg>\n",
              "    </button>\n",
              "\n",
              "  <style>\n",
              "    .colab-df-container {\n",
              "      display:flex;\n",
              "      gap: 12px;\n",
              "    }\n",
              "\n",
              "    .colab-df-convert {\n",
              "      background-color: #E8F0FE;\n",
              "      border: none;\n",
              "      border-radius: 50%;\n",
              "      cursor: pointer;\n",
              "      display: none;\n",
              "      fill: #1967D2;\n",
              "      height: 32px;\n",
              "      padding: 0 0 0 0;\n",
              "      width: 32px;\n",
              "    }\n",
              "\n",
              "    .colab-df-convert:hover {\n",
              "      background-color: #E2EBFA;\n",
              "      box-shadow: 0px 1px 2px rgba(60, 64, 67, 0.3), 0px 1px 3px 1px rgba(60, 64, 67, 0.15);\n",
              "      fill: #174EA6;\n",
              "    }\n",
              "\n",
              "    .colab-df-buttons div {\n",
              "      margin-bottom: 4px;\n",
              "    }\n",
              "\n",
              "    [theme=dark] .colab-df-convert {\n",
              "      background-color: #3B4455;\n",
              "      fill: #D2E3FC;\n",
              "    }\n",
              "\n",
              "    [theme=dark] .colab-df-convert:hover {\n",
              "      background-color: #434B5C;\n",
              "      box-shadow: 0px 1px 3px 1px rgba(0, 0, 0, 0.15);\n",
              "      filter: drop-shadow(0px 1px 2px rgba(0, 0, 0, 0.3));\n",
              "      fill: #FFFFFF;\n",
              "    }\n",
              "  </style>\n",
              "\n",
              "    <script>\n",
              "      const buttonEl =\n",
              "        document.querySelector('#df-16b78a26-60d8-4945-b8cc-286af6fa1aa7 button.colab-df-convert');\n",
              "      buttonEl.style.display =\n",
              "        google.colab.kernel.accessAllowed ? 'block' : 'none';\n",
              "\n",
              "      async function convertToInteractive(key) {\n",
              "        const element = document.querySelector('#df-16b78a26-60d8-4945-b8cc-286af6fa1aa7');\n",
              "        const dataTable =\n",
              "          await google.colab.kernel.invokeFunction('convertToInteractive',\n",
              "                                                    [key], {});\n",
              "        if (!dataTable) return;\n",
              "\n",
              "        const docLinkHtml = 'Like what you see? Visit the ' +\n",
              "          '<a target=\"_blank\" href=https://colab.research.google.com/notebooks/data_table.ipynb>data table notebook</a>'\n",
              "          + ' to learn more about interactive tables.';\n",
              "        element.innerHTML = '';\n",
              "        dataTable['output_type'] = 'display_data';\n",
              "        await google.colab.output.renderOutput(dataTable, element);\n",
              "        const docLink = document.createElement('div');\n",
              "        docLink.innerHTML = docLinkHtml;\n",
              "        element.appendChild(docLink);\n",
              "      }\n",
              "    </script>\n",
              "  </div>\n",
              "\n",
              "\n",
              "<div id=\"df-c3a43420-344a-4166-9370-3698232974d1\">\n",
              "  <button class=\"colab-df-quickchart\" onclick=\"quickchart('df-c3a43420-344a-4166-9370-3698232974d1')\"\n",
              "            title=\"Suggest charts\"\n",
              "            style=\"display:none;\">\n",
              "\n",
              "<svg xmlns=\"http://www.w3.org/2000/svg\" height=\"24px\"viewBox=\"0 0 24 24\"\n",
              "     width=\"24px\">\n",
              "    <g>\n",
              "        <path d=\"M19 3H5c-1.1 0-2 .9-2 2v14c0 1.1.9 2 2 2h14c1.1 0 2-.9 2-2V5c0-1.1-.9-2-2-2zM9 17H7v-7h2v7zm4 0h-2V7h2v10zm4 0h-2v-4h2v4z\"/>\n",
              "    </g>\n",
              "</svg>\n",
              "  </button>\n",
              "\n",
              "<style>\n",
              "  .colab-df-quickchart {\n",
              "      --bg-color: #E8F0FE;\n",
              "      --fill-color: #1967D2;\n",
              "      --hover-bg-color: #E2EBFA;\n",
              "      --hover-fill-color: #174EA6;\n",
              "      --disabled-fill-color: #AAA;\n",
              "      --disabled-bg-color: #DDD;\n",
              "  }\n",
              "\n",
              "  [theme=dark] .colab-df-quickchart {\n",
              "      --bg-color: #3B4455;\n",
              "      --fill-color: #D2E3FC;\n",
              "      --hover-bg-color: #434B5C;\n",
              "      --hover-fill-color: #FFFFFF;\n",
              "      --disabled-bg-color: #3B4455;\n",
              "      --disabled-fill-color: #666;\n",
              "  }\n",
              "\n",
              "  .colab-df-quickchart {\n",
              "    background-color: var(--bg-color);\n",
              "    border: none;\n",
              "    border-radius: 50%;\n",
              "    cursor: pointer;\n",
              "    display: none;\n",
              "    fill: var(--fill-color);\n",
              "    height: 32px;\n",
              "    padding: 0;\n",
              "    width: 32px;\n",
              "  }\n",
              "\n",
              "  .colab-df-quickchart:hover {\n",
              "    background-color: var(--hover-bg-color);\n",
              "    box-shadow: 0 1px 2px rgba(60, 64, 67, 0.3), 0 1px 3px 1px rgba(60, 64, 67, 0.15);\n",
              "    fill: var(--button-hover-fill-color);\n",
              "  }\n",
              "\n",
              "  .colab-df-quickchart-complete:disabled,\n",
              "  .colab-df-quickchart-complete:disabled:hover {\n",
              "    background-color: var(--disabled-bg-color);\n",
              "    fill: var(--disabled-fill-color);\n",
              "    box-shadow: none;\n",
              "  }\n",
              "\n",
              "  .colab-df-spinner {\n",
              "    border: 2px solid var(--fill-color);\n",
              "    border-color: transparent;\n",
              "    border-bottom-color: var(--fill-color);\n",
              "    animation:\n",
              "      spin 1s steps(1) infinite;\n",
              "  }\n",
              "\n",
              "  @keyframes spin {\n",
              "    0% {\n",
              "      border-color: transparent;\n",
              "      border-bottom-color: var(--fill-color);\n",
              "      border-left-color: var(--fill-color);\n",
              "    }\n",
              "    20% {\n",
              "      border-color: transparent;\n",
              "      border-left-color: var(--fill-color);\n",
              "      border-top-color: var(--fill-color);\n",
              "    }\n",
              "    30% {\n",
              "      border-color: transparent;\n",
              "      border-left-color: var(--fill-color);\n",
              "      border-top-color: var(--fill-color);\n",
              "      border-right-color: var(--fill-color);\n",
              "    }\n",
              "    40% {\n",
              "      border-color: transparent;\n",
              "      border-right-color: var(--fill-color);\n",
              "      border-top-color: var(--fill-color);\n",
              "    }\n",
              "    60% {\n",
              "      border-color: transparent;\n",
              "      border-right-color: var(--fill-color);\n",
              "    }\n",
              "    80% {\n",
              "      border-color: transparent;\n",
              "      border-right-color: var(--fill-color);\n",
              "      border-bottom-color: var(--fill-color);\n",
              "    }\n",
              "    90% {\n",
              "      border-color: transparent;\n",
              "      border-bottom-color: var(--fill-color);\n",
              "    }\n",
              "  }\n",
              "</style>\n",
              "\n",
              "  <script>\n",
              "    async function quickchart(key) {\n",
              "      const quickchartButtonEl =\n",
              "        document.querySelector('#' + key + ' button');\n",
              "      quickchartButtonEl.disabled = true;  // To prevent multiple clicks.\n",
              "      quickchartButtonEl.classList.add('colab-df-spinner');\n",
              "      try {\n",
              "        const charts = await google.colab.kernel.invokeFunction(\n",
              "            'suggestCharts', [key], {});\n",
              "      } catch (error) {\n",
              "        console.error('Error during call to suggestCharts:', error);\n",
              "      }\n",
              "      quickchartButtonEl.classList.remove('colab-df-spinner');\n",
              "      quickchartButtonEl.classList.add('colab-df-quickchart-complete');\n",
              "    }\n",
              "    (() => {\n",
              "      let quickchartButtonEl =\n",
              "        document.querySelector('#df-c3a43420-344a-4166-9370-3698232974d1 button');\n",
              "      quickchartButtonEl.style.display =\n",
              "        google.colab.kernel.accessAllowed ? 'block' : 'none';\n",
              "    })();\n",
              "  </script>\n",
              "</div>\n",
              "    </div>\n",
              "  </div>\n"
            ]
          },
          "metadata": {},
          "execution_count": 73
        }
      ]
    },
    {
      "cell_type": "code",
      "source": [
        "# train_data.to_csv('test_300.csv')"
      ],
      "metadata": {
        "id": "Jfc-UhccxqHt"
      },
      "execution_count": null,
      "outputs": []
    },
    {
      "cell_type": "code",
      "source": [
        "test_df = test_df.drop(['id'],axis=1)"
      ],
      "metadata": {
        "id": "j6wh95VHxqBN"
      },
      "execution_count": null,
      "outputs": []
    },
    {
      "cell_type": "code",
      "source": [
        "test_df.info()"
      ],
      "metadata": {
        "colab": {
          "base_uri": "https://localhost:8080/"
        },
        "id": "-NbPPDci1Gen",
        "outputId": "7f4e4791-708d-49a3-aa22-997da97a9ac3"
      },
      "execution_count": null,
      "outputs": [
        {
          "output_type": "stream",
          "name": "stdout",
          "text": [
            "<class 'pandas.core.frame.DataFrame'>\n",
            "RangeIndex: 13368 entries, 0 to 13367\n",
            "Data columns (total 2 columns):\n",
            " #   Column      Non-Null Count  Dtype \n",
            "---  ------      --------------  ----- \n",
            " 0   article     13368 non-null  object\n",
            " 1   highlights  13368 non-null  object\n",
            "dtypes: object(2)\n",
            "memory usage: 209.0+ KB\n"
          ]
        }
      ]
    },
    {
      "cell_type": "code",
      "source": [
        "test_df[\"article\"] = \"summarize: \"+test_df[\"article\"]"
      ],
      "metadata": {
        "id": "ZX2DIfTo1ID5"
      },
      "execution_count": null,
      "outputs": []
    },
    {
      "cell_type": "code",
      "source": [
        "from transformers import T5Tokenizer, T5ForConditionalGeneration"
      ],
      "metadata": {
        "id": "xTnQ7C9G3Z0N"
      },
      "execution_count": null,
      "outputs": []
    },
    {
      "cell_type": "code",
      "source": [
        "\n",
        "tokenizer = T5Tokenizer.from_pretrained(model_params[\"MODEL\"])\n"
      ],
      "metadata": {
        "colab": {
          "base_uri": "https://localhost:8080/"
        },
        "id": "O8i4zAj31H64",
        "outputId": "72c20cf2-535d-404f-b164-ef4b74924bbd"
      },
      "execution_count": null,
      "outputs": [
        {
          "output_type": "stream",
          "name": "stderr",
          "text": [
            "/usr/local/lib/python3.10/dist-packages/transformers/models/t5/tokenization_t5.py:240: FutureWarning: This tokenizer was incorrectly instantiated with a model max length of 512 which will be corrected in Transformers v5.\n",
            "For now, this behavior is kept to avoid breaking backwards compatibility when padding/encoding with `truncation is True`.\n",
            "- Be aware that you SHOULD NOT rely on t5-base automatically truncating your input to 512 when padding/encoding.\n",
            "- If you want to encode/pad to sequences longer than 512 you can either instantiate this tokenizer with `model_max_length` or pass `max_length` when encoding/padding.\n",
            "- To avoid this warning, please instantiate this tokenizer with `model_max_length` set to your preferred value.\n",
            "  warnings.warn(\n",
            "Special tokens have been added in the vocabulary, make sure the associated word embeddings are fine-tuned or trained.\n"
          ]
        }
      ]
    },
    {
      "cell_type": "code",
      "source": [
        "test_set = DataSetClass(test_df[:5000], tokenizer, model_params[\"MAX_SOURCE_TEXT_LENGTH\"], model_params[\"MAX_TARGET_TEXT_LENGTH\"], \"article\", \"highlights\")\n",
        "\n",
        "test_params = {\n",
        "    'batch_size': 32,\n",
        "    'shuffle': False,\n",
        "    'num_workers': 0\n",
        "    }\n",
        "\n",
        "\n",
        "test_loader = DataLoader(test_set, **test_params)"
      ],
      "metadata": {
        "id": "u0LSmAaM1Hn-"
      },
      "execution_count": null,
      "outputs": []
    },
    {
      "cell_type": "code",
      "source": [
        "\n",
        "model = T5ForConditionalGeneration.from_pretrained(model_params[\"MODEL\"])\n",
        "model = model.to(device)"
      ],
      "metadata": {
        "id": "35Mqr4544T1G"
      },
      "execution_count": null,
      "outputs": []
    },
    {
      "cell_type": "code",
      "source": [
        "# data_dir= \"new\"\n",
        "# output_dir = os.path.join ('/content', \"model_files\")\n",
        "predictions, actuals = validate(0, tokenizer, model, device, test_loader)\n",
        "test_prediction_df = pd.DataFrame({'Generated Text':predictions,'Actual Text':actuals})\n",
        "test_prediction_df.to_csv('test_predictions.csv')"
      ],
      "metadata": {
        "id": "Da9xVgP54Txe",
        "colab": {
          "base_uri": "https://localhost:8080/",
          "height": 273
        },
        "outputId": "9b23635d-48bb-4f3b-e43e-61a47c33041c"
      },
      "execution_count": null,
      "outputs": [
        {
          "output_type": "display_data",
          "data": {
            "text/plain": [
              "Completed \u001b[1;36m0\u001b[0m\n"
            ],
            "text/html": [
              "<pre style=\"white-space:pre;overflow-x:auto;line-height:normal;font-family:Menlo,'DejaVu Sans Mono',consolas,'Courier New',monospace\">Completed <span style=\"color: #008080; text-decoration-color: #008080; font-weight: bold\">0</span>\n",
              "</pre>\n"
            ]
          },
          "metadata": {}
        },
        {
          "output_type": "display_data",
          "data": {
            "text/plain": [
              "Completed \u001b[1;36m10\u001b[0m\n"
            ],
            "text/html": [
              "<pre style=\"white-space:pre;overflow-x:auto;line-height:normal;font-family:Menlo,'DejaVu Sans Mono',consolas,'Courier New',monospace\">Completed <span style=\"color: #008080; text-decoration-color: #008080; font-weight: bold\">10</span>\n",
              "</pre>\n"
            ]
          },
          "metadata": {}
        },
        {
          "output_type": "display_data",
          "data": {
            "text/plain": [
              "Completed \u001b[1;36m20\u001b[0m\n"
            ],
            "text/html": [
              "<pre style=\"white-space:pre;overflow-x:auto;line-height:normal;font-family:Menlo,'DejaVu Sans Mono',consolas,'Courier New',monospace\">Completed <span style=\"color: #008080; text-decoration-color: #008080; font-weight: bold\">20</span>\n",
              "</pre>\n"
            ]
          },
          "metadata": {}
        },
        {
          "output_type": "display_data",
          "data": {
            "text/plain": [
              "Completed \u001b[1;36m30\u001b[0m\n"
            ],
            "text/html": [
              "<pre style=\"white-space:pre;overflow-x:auto;line-height:normal;font-family:Menlo,'DejaVu Sans Mono',consolas,'Courier New',monospace\">Completed <span style=\"color: #008080; text-decoration-color: #008080; font-weight: bold\">30</span>\n",
              "</pre>\n"
            ]
          },
          "metadata": {}
        },
        {
          "output_type": "display_data",
          "data": {
            "text/plain": [
              "Completed \u001b[1;36m40\u001b[0m\n"
            ],
            "text/html": [
              "<pre style=\"white-space:pre;overflow-x:auto;line-height:normal;font-family:Menlo,'DejaVu Sans Mono',consolas,'Courier New',monospace\">Completed <span style=\"color: #008080; text-decoration-color: #008080; font-weight: bold\">40</span>\n",
              "</pre>\n"
            ]
          },
          "metadata": {}
        },
        {
          "output_type": "display_data",
          "data": {
            "text/plain": [
              "Completed \u001b[1;36m50\u001b[0m\n"
            ],
            "text/html": [
              "<pre style=\"white-space:pre;overflow-x:auto;line-height:normal;font-family:Menlo,'DejaVu Sans Mono',consolas,'Courier New',monospace\">Completed <span style=\"color: #008080; text-decoration-color: #008080; font-weight: bold\">50</span>\n",
              "</pre>\n"
            ]
          },
          "metadata": {}
        },
        {
          "output_type": "display_data",
          "data": {
            "text/plain": [
              "Completed \u001b[1;36m60\u001b[0m\n"
            ],
            "text/html": [
              "<pre style=\"white-space:pre;overflow-x:auto;line-height:normal;font-family:Menlo,'DejaVu Sans Mono',consolas,'Courier New',monospace\">Completed <span style=\"color: #008080; text-decoration-color: #008080; font-weight: bold\">60</span>\n",
              "</pre>\n"
            ]
          },
          "metadata": {}
        },
        {
          "output_type": "display_data",
          "data": {
            "text/plain": [
              "Completed \u001b[1;36m70\u001b[0m\n"
            ],
            "text/html": [
              "<pre style=\"white-space:pre;overflow-x:auto;line-height:normal;font-family:Menlo,'DejaVu Sans Mono',consolas,'Courier New',monospace\">Completed <span style=\"color: #008080; text-decoration-color: #008080; font-weight: bold\">70</span>\n",
              "</pre>\n"
            ]
          },
          "metadata": {}
        },
        {
          "output_type": "display_data",
          "data": {
            "text/plain": [
              "Completed \u001b[1;36m80\u001b[0m\n"
            ],
            "text/html": [
              "<pre style=\"white-space:pre;overflow-x:auto;line-height:normal;font-family:Menlo,'DejaVu Sans Mono',consolas,'Courier New',monospace\">Completed <span style=\"color: #008080; text-decoration-color: #008080; font-weight: bold\">80</span>\n",
              "</pre>\n"
            ]
          },
          "metadata": {}
        },
        {
          "output_type": "display_data",
          "data": {
            "text/plain": [
              "Completed \u001b[1;36m90\u001b[0m\n"
            ],
            "text/html": [
              "<pre style=\"white-space:pre;overflow-x:auto;line-height:normal;font-family:Menlo,'DejaVu Sans Mono',consolas,'Courier New',monospace\">Completed <span style=\"color: #008080; text-decoration-color: #008080; font-weight: bold\">90</span>\n",
              "</pre>\n"
            ]
          },
          "metadata": {}
        },
        {
          "output_type": "display_data",
          "data": {
            "text/plain": [
              "Completed \u001b[1;36m100\u001b[0m\n"
            ],
            "text/html": [
              "<pre style=\"white-space:pre;overflow-x:auto;line-height:normal;font-family:Menlo,'DejaVu Sans Mono',consolas,'Courier New',monospace\">Completed <span style=\"color: #008080; text-decoration-color: #008080; font-weight: bold\">100</span>\n",
              "</pre>\n"
            ]
          },
          "metadata": {}
        },
        {
          "output_type": "display_data",
          "data": {
            "text/plain": [
              "Completed \u001b[1;36m110\u001b[0m\n"
            ],
            "text/html": [
              "<pre style=\"white-space:pre;overflow-x:auto;line-height:normal;font-family:Menlo,'DejaVu Sans Mono',consolas,'Courier New',monospace\">Completed <span style=\"color: #008080; text-decoration-color: #008080; font-weight: bold\">110</span>\n",
              "</pre>\n"
            ]
          },
          "metadata": {}
        },
        {
          "output_type": "display_data",
          "data": {
            "text/plain": [
              "Completed \u001b[1;36m120\u001b[0m\n"
            ],
            "text/html": [
              "<pre style=\"white-space:pre;overflow-x:auto;line-height:normal;font-family:Menlo,'DejaVu Sans Mono',consolas,'Courier New',monospace\">Completed <span style=\"color: #008080; text-decoration-color: #008080; font-weight: bold\">120</span>\n",
              "</pre>\n"
            ]
          },
          "metadata": {}
        },
        {
          "output_type": "display_data",
          "data": {
            "text/plain": [
              "Completed \u001b[1;36m130\u001b[0m\n"
            ],
            "text/html": [
              "<pre style=\"white-space:pre;overflow-x:auto;line-height:normal;font-family:Menlo,'DejaVu Sans Mono',consolas,'Courier New',monospace\">Completed <span style=\"color: #008080; text-decoration-color: #008080; font-weight: bold\">130</span>\n",
              "</pre>\n"
            ]
          },
          "metadata": {}
        },
        {
          "output_type": "display_data",
          "data": {
            "text/plain": [
              "Completed \u001b[1;36m140\u001b[0m\n"
            ],
            "text/html": [
              "<pre style=\"white-space:pre;overflow-x:auto;line-height:normal;font-family:Menlo,'DejaVu Sans Mono',consolas,'Courier New',monospace\">Completed <span style=\"color: #008080; text-decoration-color: #008080; font-weight: bold\">140</span>\n",
              "</pre>\n"
            ]
          },
          "metadata": {}
        },
        {
          "output_type": "display_data",
          "data": {
            "text/plain": [
              "Completed \u001b[1;36m150\u001b[0m\n"
            ],
            "text/html": [
              "<pre style=\"white-space:pre;overflow-x:auto;line-height:normal;font-family:Menlo,'DejaVu Sans Mono',consolas,'Courier New',monospace\">Completed <span style=\"color: #008080; text-decoration-color: #008080; font-weight: bold\">150</span>\n",
              "</pre>\n"
            ]
          },
          "metadata": {}
        }
      ]
    },
    {
      "cell_type": "code",
      "source": [
        "test_prediction_df.head(2)"
      ],
      "metadata": {
        "id": "zqRrbqwk4Tu1",
        "colab": {
          "base_uri": "https://localhost:8080/",
          "height": 112
        },
        "outputId": "3b68eddd-9810-4f8b-f055-9f55d778fe98"
      },
      "execution_count": null,
      "outputs": [
        {
          "output_type": "execute_result",
          "data": {
            "text/plain": [
              "                                      Generated Text  \\\n",
              "0  Sally Forrest graced the silver screen through...   \n",
              "1  politics teacher Wang Lian, 35, has created 10...   \n",
              "\n",
              "                                         Actual Text  \n",
              "0  Sally Forrest, an actress-dancer who graced th...  \n",
              "1  Works include pictures of Presidential Palace ...  "
            ],
            "text/html": [
              "\n",
              "  <div id=\"df-3595268f-f345-4403-a975-d938a1f40df7\" class=\"colab-df-container\">\n",
              "    <div>\n",
              "<style scoped>\n",
              "    .dataframe tbody tr th:only-of-type {\n",
              "        vertical-align: middle;\n",
              "    }\n",
              "\n",
              "    .dataframe tbody tr th {\n",
              "        vertical-align: top;\n",
              "    }\n",
              "\n",
              "    .dataframe thead th {\n",
              "        text-align: right;\n",
              "    }\n",
              "</style>\n",
              "<table border=\"1\" class=\"dataframe\">\n",
              "  <thead>\n",
              "    <tr style=\"text-align: right;\">\n",
              "      <th></th>\n",
              "      <th>Generated Text</th>\n",
              "      <th>Actual Text</th>\n",
              "    </tr>\n",
              "  </thead>\n",
              "  <tbody>\n",
              "    <tr>\n",
              "      <th>0</th>\n",
              "      <td>Sally Forrest graced the silver screen through...</td>\n",
              "      <td>Sally Forrest, an actress-dancer who graced th...</td>\n",
              "    </tr>\n",
              "    <tr>\n",
              "      <th>1</th>\n",
              "      <td>politics teacher Wang Lian, 35, has created 10...</td>\n",
              "      <td>Works include pictures of Presidential Palace ...</td>\n",
              "    </tr>\n",
              "  </tbody>\n",
              "</table>\n",
              "</div>\n",
              "    <div class=\"colab-df-buttons\">\n",
              "\n",
              "  <div class=\"colab-df-container\">\n",
              "    <button class=\"colab-df-convert\" onclick=\"convertToInteractive('df-3595268f-f345-4403-a975-d938a1f40df7')\"\n",
              "            title=\"Convert this dataframe to an interactive table.\"\n",
              "            style=\"display:none;\">\n",
              "\n",
              "  <svg xmlns=\"http://www.w3.org/2000/svg\" height=\"24px\" viewBox=\"0 -960 960 960\">\n",
              "    <path d=\"M120-120v-720h720v720H120Zm60-500h600v-160H180v160Zm220 220h160v-160H400v160Zm0 220h160v-160H400v160ZM180-400h160v-160H180v160Zm440 0h160v-160H620v160ZM180-180h160v-160H180v160Zm440 0h160v-160H620v160Z\"/>\n",
              "  </svg>\n",
              "    </button>\n",
              "\n",
              "  <style>\n",
              "    .colab-df-container {\n",
              "      display:flex;\n",
              "      gap: 12px;\n",
              "    }\n",
              "\n",
              "    .colab-df-convert {\n",
              "      background-color: #E8F0FE;\n",
              "      border: none;\n",
              "      border-radius: 50%;\n",
              "      cursor: pointer;\n",
              "      display: none;\n",
              "      fill: #1967D2;\n",
              "      height: 32px;\n",
              "      padding: 0 0 0 0;\n",
              "      width: 32px;\n",
              "    }\n",
              "\n",
              "    .colab-df-convert:hover {\n",
              "      background-color: #E2EBFA;\n",
              "      box-shadow: 0px 1px 2px rgba(60, 64, 67, 0.3), 0px 1px 3px 1px rgba(60, 64, 67, 0.15);\n",
              "      fill: #174EA6;\n",
              "    }\n",
              "\n",
              "    .colab-df-buttons div {\n",
              "      margin-bottom: 4px;\n",
              "    }\n",
              "\n",
              "    [theme=dark] .colab-df-convert {\n",
              "      background-color: #3B4455;\n",
              "      fill: #D2E3FC;\n",
              "    }\n",
              "\n",
              "    [theme=dark] .colab-df-convert:hover {\n",
              "      background-color: #434B5C;\n",
              "      box-shadow: 0px 1px 3px 1px rgba(0, 0, 0, 0.15);\n",
              "      filter: drop-shadow(0px 1px 2px rgba(0, 0, 0, 0.3));\n",
              "      fill: #FFFFFF;\n",
              "    }\n",
              "  </style>\n",
              "\n",
              "    <script>\n",
              "      const buttonEl =\n",
              "        document.querySelector('#df-3595268f-f345-4403-a975-d938a1f40df7 button.colab-df-convert');\n",
              "      buttonEl.style.display =\n",
              "        google.colab.kernel.accessAllowed ? 'block' : 'none';\n",
              "\n",
              "      async function convertToInteractive(key) {\n",
              "        const element = document.querySelector('#df-3595268f-f345-4403-a975-d938a1f40df7');\n",
              "        const dataTable =\n",
              "          await google.colab.kernel.invokeFunction('convertToInteractive',\n",
              "                                                    [key], {});\n",
              "        if (!dataTable) return;\n",
              "\n",
              "        const docLinkHtml = 'Like what you see? Visit the ' +\n",
              "          '<a target=\"_blank\" href=https://colab.research.google.com/notebooks/data_table.ipynb>data table notebook</a>'\n",
              "          + ' to learn more about interactive tables.';\n",
              "        element.innerHTML = '';\n",
              "        dataTable['output_type'] = 'display_data';\n",
              "        await google.colab.output.renderOutput(dataTable, element);\n",
              "        const docLink = document.createElement('div');\n",
              "        docLink.innerHTML = docLinkHtml;\n",
              "        element.appendChild(docLink);\n",
              "      }\n",
              "    </script>\n",
              "  </div>\n",
              "\n",
              "\n",
              "<div id=\"df-972729d3-0fa4-4ac3-b56e-0e61b5a0db80\">\n",
              "  <button class=\"colab-df-quickchart\" onclick=\"quickchart('df-972729d3-0fa4-4ac3-b56e-0e61b5a0db80')\"\n",
              "            title=\"Suggest charts\"\n",
              "            style=\"display:none;\">\n",
              "\n",
              "<svg xmlns=\"http://www.w3.org/2000/svg\" height=\"24px\"viewBox=\"0 0 24 24\"\n",
              "     width=\"24px\">\n",
              "    <g>\n",
              "        <path d=\"M19 3H5c-1.1 0-2 .9-2 2v14c0 1.1.9 2 2 2h14c1.1 0 2-.9 2-2V5c0-1.1-.9-2-2-2zM9 17H7v-7h2v7zm4 0h-2V7h2v10zm4 0h-2v-4h2v4z\"/>\n",
              "    </g>\n",
              "</svg>\n",
              "  </button>\n",
              "\n",
              "<style>\n",
              "  .colab-df-quickchart {\n",
              "      --bg-color: #E8F0FE;\n",
              "      --fill-color: #1967D2;\n",
              "      --hover-bg-color: #E2EBFA;\n",
              "      --hover-fill-color: #174EA6;\n",
              "      --disabled-fill-color: #AAA;\n",
              "      --disabled-bg-color: #DDD;\n",
              "  }\n",
              "\n",
              "  [theme=dark] .colab-df-quickchart {\n",
              "      --bg-color: #3B4455;\n",
              "      --fill-color: #D2E3FC;\n",
              "      --hover-bg-color: #434B5C;\n",
              "      --hover-fill-color: #FFFFFF;\n",
              "      --disabled-bg-color: #3B4455;\n",
              "      --disabled-fill-color: #666;\n",
              "  }\n",
              "\n",
              "  .colab-df-quickchart {\n",
              "    background-color: var(--bg-color);\n",
              "    border: none;\n",
              "    border-radius: 50%;\n",
              "    cursor: pointer;\n",
              "    display: none;\n",
              "    fill: var(--fill-color);\n",
              "    height: 32px;\n",
              "    padding: 0;\n",
              "    width: 32px;\n",
              "  }\n",
              "\n",
              "  .colab-df-quickchart:hover {\n",
              "    background-color: var(--hover-bg-color);\n",
              "    box-shadow: 0 1px 2px rgba(60, 64, 67, 0.3), 0 1px 3px 1px rgba(60, 64, 67, 0.15);\n",
              "    fill: var(--button-hover-fill-color);\n",
              "  }\n",
              "\n",
              "  .colab-df-quickchart-complete:disabled,\n",
              "  .colab-df-quickchart-complete:disabled:hover {\n",
              "    background-color: var(--disabled-bg-color);\n",
              "    fill: var(--disabled-fill-color);\n",
              "    box-shadow: none;\n",
              "  }\n",
              "\n",
              "  .colab-df-spinner {\n",
              "    border: 2px solid var(--fill-color);\n",
              "    border-color: transparent;\n",
              "    border-bottom-color: var(--fill-color);\n",
              "    animation:\n",
              "      spin 1s steps(1) infinite;\n",
              "  }\n",
              "\n",
              "  @keyframes spin {\n",
              "    0% {\n",
              "      border-color: transparent;\n",
              "      border-bottom-color: var(--fill-color);\n",
              "      border-left-color: var(--fill-color);\n",
              "    }\n",
              "    20% {\n",
              "      border-color: transparent;\n",
              "      border-left-color: var(--fill-color);\n",
              "      border-top-color: var(--fill-color);\n",
              "    }\n",
              "    30% {\n",
              "      border-color: transparent;\n",
              "      border-left-color: var(--fill-color);\n",
              "      border-top-color: var(--fill-color);\n",
              "      border-right-color: var(--fill-color);\n",
              "    }\n",
              "    40% {\n",
              "      border-color: transparent;\n",
              "      border-right-color: var(--fill-color);\n",
              "      border-top-color: var(--fill-color);\n",
              "    }\n",
              "    60% {\n",
              "      border-color: transparent;\n",
              "      border-right-color: var(--fill-color);\n",
              "    }\n",
              "    80% {\n",
              "      border-color: transparent;\n",
              "      border-right-color: var(--fill-color);\n",
              "      border-bottom-color: var(--fill-color);\n",
              "    }\n",
              "    90% {\n",
              "      border-color: transparent;\n",
              "      border-bottom-color: var(--fill-color);\n",
              "    }\n",
              "  }\n",
              "</style>\n",
              "\n",
              "  <script>\n",
              "    async function quickchart(key) {\n",
              "      const quickchartButtonEl =\n",
              "        document.querySelector('#' + key + ' button');\n",
              "      quickchartButtonEl.disabled = true;  // To prevent multiple clicks.\n",
              "      quickchartButtonEl.classList.add('colab-df-spinner');\n",
              "      try {\n",
              "        const charts = await google.colab.kernel.invokeFunction(\n",
              "            'suggestCharts', [key], {});\n",
              "      } catch (error) {\n",
              "        console.error('Error during call to suggestCharts:', error);\n",
              "      }\n",
              "      quickchartButtonEl.classList.remove('colab-df-spinner');\n",
              "      quickchartButtonEl.classList.add('colab-df-quickchart-complete');\n",
              "    }\n",
              "    (() => {\n",
              "      let quickchartButtonEl =\n",
              "        document.querySelector('#df-972729d3-0fa4-4ac3-b56e-0e61b5a0db80 button');\n",
              "      quickchartButtonEl.style.display =\n",
              "        google.colab.kernel.accessAllowed ? 'block' : 'none';\n",
              "    })();\n",
              "  </script>\n",
              "</div>\n",
              "    </div>\n",
              "  </div>\n"
            ]
          },
          "metadata": {},
          "execution_count": 81
        }
      ]
    },
    {
      "cell_type": "code",
      "source": [
        "\n",
        "!pip install rouge"
      ],
      "metadata": {
        "id": "v4omXm0J4TsM",
        "colab": {
          "base_uri": "https://localhost:8080/"
        },
        "outputId": "ff2cb0f5-2aa6-4b3b-95b6-d65ea78433b4"
      },
      "execution_count": null,
      "outputs": [
        {
          "output_type": "stream",
          "name": "stdout",
          "text": [
            "Requirement already satisfied: rouge in /usr/local/lib/python3.10/dist-packages (1.0.1)\n",
            "Requirement already satisfied: six in /usr/local/lib/python3.10/dist-packages (from rouge) (1.16.0)\n"
          ]
        }
      ]
    },
    {
      "cell_type": "code",
      "source": [
        "from rouge import Rouge\n",
        "\n",
        "rouge = Rouge()\n"
      ],
      "metadata": {
        "id": "s2LiAnNQ4TpX"
      },
      "execution_count": null,
      "outputs": []
    },
    {
      "cell_type": "code",
      "source": [
        "rouge.get_scores(test_prediction_df['Generated Text'][0], test_prediction_df['Actual Text'][1], avg=True)"
      ],
      "metadata": {
        "id": "NIkoQpXANzW6",
        "colab": {
          "base_uri": "https://localhost:8080/"
        },
        "outputId": "cae51672-074c-4944-a891-914a42a8fa72"
      },
      "execution_count": null,
      "outputs": [
        {
          "output_type": "execute_result",
          "data": {
            "text/plain": [
              "{'rouge-1': {'r': 0.06896551724137931,\n",
              "  'p': 0.07142857142857142,\n",
              "  'f': 0.07017543359803052},\n",
              " 'rouge-2': {'r': 0.0, 'p': 0.0, 'f': 0.0},\n",
              " 'rouge-l': {'r': 0.06896551724137931,\n",
              "  'p': 0.07142857142857142,\n",
              "  'f': 0.07017543359803052}}"
            ]
          },
          "metadata": {},
          "execution_count": 84
        }
      ]
    },
    {
      "cell_type": "code",
      "source": [
        "rouge.get_scores(test_prediction_df['Generated Text'], test_prediction_df['Actual Text'], avg=True)"
      ],
      "metadata": {
        "id": "v_zGInICNzTT",
        "colab": {
          "base_uri": "https://localhost:8080/"
        },
        "outputId": "1938780a-8d0e-492f-c5c0-7e5c07cef8ec"
      },
      "execution_count": null,
      "outputs": [
        {
          "output_type": "execute_result",
          "data": {
            "text/plain": [
              "{'rouge-1': {'r': 0.37046744769229134,\n",
              "  'p': 0.2907841722936899,\n",
              "  'f': 0.31970966942445944},\n",
              " 'rouge-2': {'r': 0.15570689579353644,\n",
              "  'p': 0.11500840066377141,\n",
              "  'f': 0.12913787048978917},\n",
              " 'rouge-l': {'r': 0.3464186219083097,\n",
              "  'p': 0.2717786805749186,\n",
              "  'f': 0.2988931599954465}}"
            ]
          },
          "metadata": {},
          "execution_count": 85
        }
      ]
    },
    {
      "cell_type": "code",
      "source": [],
      "metadata": {
        "id": "YRP3PMLINzQ0"
      },
      "execution_count": null,
      "outputs": []
    },
    {
      "cell_type": "code",
      "source": [],
      "metadata": {
        "id": "M-FHe2pDNzOE"
      },
      "execution_count": null,
      "outputs": []
    },
    {
      "cell_type": "code",
      "source": [],
      "metadata": {
        "id": "jBdPq079NzLe"
      },
      "execution_count": null,
      "outputs": []
    }
  ]
}